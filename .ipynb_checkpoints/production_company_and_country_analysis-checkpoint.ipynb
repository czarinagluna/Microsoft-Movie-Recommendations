{
 "cells": [
  {
   "cell_type": "code",
   "execution_count": 1,
   "metadata": {},
   "outputs": [],
   "source": [
    "import pandas as pd\n",
    "import numpy as np\n",
    "import matplotlib.pyplot as plt\n",
    "%matplotlib inline"
   ]
  },
  {
   "cell_type": "code",
   "execution_count": 2,
   "metadata": {},
   "outputs": [],
   "source": [
    "# Merge datasets\n",
    "df1 = pd.read_csv(\"data/tngross.csv\")\n",
    "df2 = pd.read_csv(\"data/tnproduction.csv\")\n",
    "\n",
    "df = df1.merge(df2, on=\"Unnamed: 0\")"
   ]
  },
  {
   "cell_type": "code",
   "execution_count": 3,
   "metadata": {},
   "outputs": [
    {
     "data": {
      "text/html": [
       "<div>\n",
       "<style scoped>\n",
       "    .dataframe tbody tr th:only-of-type {\n",
       "        vertical-align: middle;\n",
       "    }\n",
       "\n",
       "    .dataframe tbody tr th {\n",
       "        vertical-align: top;\n",
       "    }\n",
       "\n",
       "    .dataframe thead th {\n",
       "        text-align: right;\n",
       "    }\n",
       "</style>\n",
       "<table border=\"1\" class=\"dataframe\">\n",
       "  <thead>\n",
       "    <tr style=\"text-align: right;\">\n",
       "      <th></th>\n",
       "      <th>Unnamed: 0</th>\n",
       "      <th>release_date</th>\n",
       "      <th>movie</th>\n",
       "      <th>production_budget</th>\n",
       "      <th>domestic_gross</th>\n",
       "      <th>worldwide_gross</th>\n",
       "      <th>runtime_minutes</th>\n",
       "      <th>genres</th>\n",
       "      <th>production_company</th>\n",
       "      <th>production_country</th>\n",
       "    </tr>\n",
       "  </thead>\n",
       "  <tbody>\n",
       "    <tr>\n",
       "      <th>0</th>\n",
       "      <td>0</td>\n",
       "      <td>Apr 23, 2019</td>\n",
       "      <td>Avengers: Endgame</td>\n",
       "      <td>$400,000,000</td>\n",
       "      <td>$858,373,000</td>\n",
       "      <td>$2,797,800,564</td>\n",
       "      <td>181 minutes</td>\n",
       "      <td>Action</td>\n",
       "      <td>Marvel Studios</td>\n",
       "      <td>United States</td>\n",
       "    </tr>\n",
       "    <tr>\n",
       "      <th>1</th>\n",
       "      <td>1</td>\n",
       "      <td>May 20, 2011</td>\n",
       "      <td>Pirates of the Caribbean: On Stranger Tides</td>\n",
       "      <td>$379,000,000</td>\n",
       "      <td>$241,071,802</td>\n",
       "      <td>$1,045,713,802</td>\n",
       "      <td>136 minutes</td>\n",
       "      <td>Adventure</td>\n",
       "      <td>Walt Disney Pictures</td>\n",
       "      <td>United States</td>\n",
       "    </tr>\n",
       "    <tr>\n",
       "      <th>2</th>\n",
       "      <td>2</td>\n",
       "      <td>Apr 22, 2015</td>\n",
       "      <td>Avengers: Age of Ultron</td>\n",
       "      <td>$365,000,000</td>\n",
       "      <td>$459,005,868</td>\n",
       "      <td>$1,395,316,979</td>\n",
       "      <td>141 minutes</td>\n",
       "      <td>Action</td>\n",
       "      <td>Marvel Studios</td>\n",
       "      <td>United States</td>\n",
       "    </tr>\n",
       "    <tr>\n",
       "      <th>3</th>\n",
       "      <td>3</td>\n",
       "      <td>Dec 16, 2015</td>\n",
       "      <td>Star Wars Ep. VII: The Force Awakens</td>\n",
       "      <td>$306,000,000</td>\n",
       "      <td>$936,662,225</td>\n",
       "      <td>$2,064,615,817</td>\n",
       "      <td>136 minutes</td>\n",
       "      <td>Adventure</td>\n",
       "      <td>Lucasfilm, Bad Robot</td>\n",
       "      <td>United States</td>\n",
       "    </tr>\n",
       "    <tr>\n",
       "      <th>4</th>\n",
       "      <td>4</td>\n",
       "      <td>Apr 25, 2018</td>\n",
       "      <td>Avengers: Infinity War</td>\n",
       "      <td>$300,000,000</td>\n",
       "      <td>$678,815,482</td>\n",
       "      <td>$2,044,540,523</td>\n",
       "      <td>156 minutes</td>\n",
       "      <td>Action</td>\n",
       "      <td>Marvel Studios</td>\n",
       "      <td>United States</td>\n",
       "    </tr>\n",
       "    <tr>\n",
       "      <th>...</th>\n",
       "      <td>...</td>\n",
       "      <td>...</td>\n",
       "      <td>...</td>\n",
       "      <td>...</td>\n",
       "      <td>...</td>\n",
       "      <td>...</td>\n",
       "      <td>...</td>\n",
       "      <td>...</td>\n",
       "      <td>...</td>\n",
       "      <td>...</td>\n",
       "    </tr>\n",
       "    <tr>\n",
       "      <th>6095</th>\n",
       "      <td>6095</td>\n",
       "      <td>Mar 17, 2015</td>\n",
       "      <td>Closure</td>\n",
       "      <td>$100,000</td>\n",
       "      <td>$0</td>\n",
       "      <td>$0</td>\n",
       "      <td>90 minutes</td>\n",
       "      <td>Drama</td>\n",
       "      <td>None</td>\n",
       "      <td>United States</td>\n",
       "    </tr>\n",
       "    <tr>\n",
       "      <th>6096</th>\n",
       "      <td>6096</td>\n",
       "      <td>Aug 29, 2015</td>\n",
       "      <td>Lunch Time Heroes</td>\n",
       "      <td>$100,000</td>\n",
       "      <td>$0</td>\n",
       "      <td>$0</td>\n",
       "      <td>88 minutes</td>\n",
       "      <td>Adventure</td>\n",
       "      <td>Phebean Films</td>\n",
       "      <td>Nigeria</td>\n",
       "    </tr>\n",
       "    <tr>\n",
       "      <th>6097</th>\n",
       "      <td>6097</td>\n",
       "      <td>Mar 25, 2015</td>\n",
       "      <td>Open Secret</td>\n",
       "      <td>$100,000</td>\n",
       "      <td>$0</td>\n",
       "      <td>$0</td>\n",
       "      <td>None</td>\n",
       "      <td>Documentary</td>\n",
       "      <td>None</td>\n",
       "      <td>United States</td>\n",
       "    </tr>\n",
       "    <tr>\n",
       "      <th>6098</th>\n",
       "      <td>6098</td>\n",
       "      <td>Nov 10, 2015</td>\n",
       "      <td>The Night Visitor</td>\n",
       "      <td>$100,000</td>\n",
       "      <td>$0</td>\n",
       "      <td>$0</td>\n",
       "      <td>None</td>\n",
       "      <td>Horror</td>\n",
       "      <td>None</td>\n",
       "      <td>United States</td>\n",
       "    </tr>\n",
       "    <tr>\n",
       "      <th>6099</th>\n",
       "      <td>6099</td>\n",
       "      <td>Jul 7, 2015</td>\n",
       "      <td>Tiger Orange</td>\n",
       "      <td>$100,000</td>\n",
       "      <td>$0</td>\n",
       "      <td>$0</td>\n",
       "      <td>81 minutes</td>\n",
       "      <td>Drama</td>\n",
       "      <td>None</td>\n",
       "      <td>United States</td>\n",
       "    </tr>\n",
       "  </tbody>\n",
       "</table>\n",
       "<p>6100 rows × 10 columns</p>\n",
       "</div>"
      ],
      "text/plain": [
       "      Unnamed: 0  release_date                                        movie  \\\n",
       "0              0  Apr 23, 2019                            Avengers: Endgame   \n",
       "1              1  May 20, 2011  Pirates of the Caribbean: On Stranger Tides   \n",
       "2              2  Apr 22, 2015                      Avengers: Age of Ultron   \n",
       "3              3  Dec 16, 2015         Star Wars Ep. VII: The Force Awakens   \n",
       "4              4  Apr 25, 2018                       Avengers: Infinity War   \n",
       "...          ...           ...                                          ...   \n",
       "6095        6095  Mar 17, 2015                                      Closure   \n",
       "6096        6096  Aug 29, 2015                            Lunch Time Heroes   \n",
       "6097        6097  Mar 25, 2015                                  Open Secret   \n",
       "6098        6098  Nov 10, 2015                            The Night Visitor   \n",
       "6099        6099   Jul 7, 2015                                 Tiger Orange   \n",
       "\n",
       "     production_budget domestic_gross worldwide_gross runtime_minutes  \\\n",
       "0         $400,000,000   $858,373,000  $2,797,800,564     181 minutes   \n",
       "1         $379,000,000   $241,071,802  $1,045,713,802     136 minutes   \n",
       "2         $365,000,000   $459,005,868  $1,395,316,979     141 minutes   \n",
       "3         $306,000,000   $936,662,225  $2,064,615,817     136 minutes   \n",
       "4         $300,000,000   $678,815,482  $2,044,540,523     156 minutes   \n",
       "...                ...            ...             ...             ...   \n",
       "6095          $100,000             $0              $0      90 minutes   \n",
       "6096          $100,000             $0              $0      88 minutes   \n",
       "6097          $100,000             $0              $0            None   \n",
       "6098          $100,000             $0              $0            None   \n",
       "6099          $100,000             $0              $0      81 minutes   \n",
       "\n",
       "           genres    production_company production_country  \n",
       "0          Action        Marvel Studios      United States  \n",
       "1       Adventure  Walt Disney Pictures      United States  \n",
       "2          Action        Marvel Studios      United States  \n",
       "3       Adventure  Lucasfilm, Bad Robot      United States  \n",
       "4          Action        Marvel Studios      United States  \n",
       "...           ...                   ...                ...  \n",
       "6095        Drama                  None      United States  \n",
       "6096    Adventure         Phebean Films            Nigeria  \n",
       "6097  Documentary                  None      United States  \n",
       "6098       Horror                  None      United States  \n",
       "6099        Drama                  None      United States  \n",
       "\n",
       "[6100 rows x 10 columns]"
      ]
     },
     "execution_count": 3,
     "metadata": {},
     "output_type": "execute_result"
    }
   ],
   "source": [
    "df"
   ]
  },
  {
   "cell_type": "code",
   "execution_count": 4,
   "metadata": {},
   "outputs": [],
   "source": [
    "# Clean up columns\n",
    "df = df.drop(\"Unnamed: 0\", axis=1)\n",
    "\n",
    "df['release_date'] = pd.to_datetime(df['release_date'], errors='coerce', format='%b %d, %Y')\n",
    "\n",
    "def dollar_to_int(column):\n",
    "    return column.str.replace('$', '').str.replace(',', '').map(int)\n",
    "\n",
    "df[['production_budget', 'domestic_gross', 'worldwide_gross']] = df[['production_budget', 'domestic_gross', 'worldwide_gross']].apply(dollar_to_int)\n",
    "\n",
    "df['runtime_minutes'] = df['runtime_minutes'].map(lambda x: x.split(' ')[0].strip(' '))"
   ]
  },
  {
   "cell_type": "code",
   "execution_count": 5,
   "metadata": {},
   "outputs": [],
   "source": [
    "# Create new columns\n",
    "df['total_profit'] = df['worldwide_gross'] - df['production_budget']\n",
    "\n",
    "df['profit_to_budget'] = df['worldwide_gross'] / df['production_budget']\n",
    "\n",
    "df['profit_to_budget_perc'] = df['profit_to_budget'] * 100\n",
    "\n",
    "df['day'] = df['release_date'].dt.day_name()\n",
    "\n",
    "df['month'] = pd.DatetimeIndex(df['release_date']).month\n",
    "\n",
    "df['year'] = pd.DatetimeIndex(df['release_date']).year"
   ]
  },
  {
   "cell_type": "code",
   "execution_count": 6,
   "metadata": {},
   "outputs": [
    {
     "data": {
      "text/plain": [
       "None                                                                                                                       2266\n",
       "Warner Bros.                                                                                                                 29\n",
       "Universal Pictures                                                                                                           21\n",
       "Columbia Pictures                                                                                                            21\n",
       "Walt Disney Pictures                                                                                                         19\n",
       "                                                                                                                           ... \n",
       "20th Century Fox, Chernin Entertainment, TSG Entertainment                                                                    1\n",
       "Columbia Pictures, Metro-Goldwyn-Mayer Pictures, LStar Capital, MRC, Original Film, Cannell Studios                           1\n",
       "Le Petit Reine, Studio 37, La Classe Americaine, JD Productions, France 3 Cinema, Jouror Productions, uFilm, Canal Plus       1\n",
       "Ladd Company                                                                                                                  1\n",
       "DreamWorks Animation, Scholastic Entertainment Inc.                                                                           1\n",
       "Name: production_company, Length: 3186, dtype: int64"
      ]
     },
     "execution_count": 6,
     "metadata": {},
     "output_type": "execute_result"
    }
   ],
   "source": [
    "df['production_company'].value_counts()"
   ]
  },
  {
   "cell_type": "code",
   "execution_count": 7,
   "metadata": {},
   "outputs": [
    {
     "data": {
      "text/plain": [
       "United States                                         4142\n",
       "None                                                   483\n",
       "United Kingdom                                         198\n",
       "United Kingdom, United States                          173\n",
       "France                                                  92\n",
       "                                                      ... \n",
       "China, Hong Kong, Japan, Taiwan, Province of China       1\n",
       "France, Germany, Israel                                  1\n",
       "Denmark, Poland                                          1\n",
       "France, Netherlands, United Kingdom, United States       1\n",
       "Sweden, United Kingdom, United States                    1\n",
       "Name: production_country, Length: 336, dtype: int64"
      ]
     },
     "execution_count": 7,
     "metadata": {},
     "output_type": "execute_result"
    }
   ],
   "source": [
    "df['production_country'].value_counts()"
   ]
  },
  {
   "cell_type": "code",
   "execution_count": 8,
   "metadata": {},
   "outputs": [],
   "source": [
    "x = df.groupby(['production_country']).production_country.agg(len)"
   ]
  },
  {
   "cell_type": "code",
   "execution_count": 9,
   "metadata": {},
   "outputs": [
    {
     "data": {
      "text/plain": [
       "production_country\n",
       "United States                                                         4142\n",
       "None                                                                   483\n",
       "United Kingdom                                                         198\n",
       "United Kingdom, United States                                          173\n",
       "France                                                                  92\n",
       "                                                                      ... \n",
       "France, Ireland, United Kingdom                                          1\n",
       "France, Iceland, Ireland, United States                                  1\n",
       "France, Iceland                                                          1\n",
       "France, Hungary, Italy, Spain                                            1\n",
       "Afghanistan, Islamic Republic of Iran, Ireland, Japan, Netherlands       1\n",
       "Name: production_country, Length: 336, dtype: int64"
      ]
     },
     "execution_count": 9,
     "metadata": {},
     "output_type": "execute_result"
    }
   ],
   "source": [
    "x.sort_values(ascending=False)"
   ]
  },
  {
   "cell_type": "code",
   "execution_count": 10,
   "metadata": {},
   "outputs": [],
   "source": [
    "y = df.groupby(['production_company']).production_company.agg(len)"
   ]
  },
  {
   "cell_type": "code",
   "execution_count": 11,
   "metadata": {
    "scrolled": true
   },
   "outputs": [
    {
     "data": {
      "text/plain": [
       "production_company\n",
       "None                                                           2266\n",
       "Warner Bros.                                                     29\n",
       "Universal Pictures                                               21\n",
       "Columbia Pictures                                                21\n",
       "Walt Disney Pictures                                             19\n",
       "                                                               ... \n",
       "Plan B Entertainment, Amazon Studios                              1\n",
       "Plan B Entertainment                                              1\n",
       "Pinoy Pictures                                                    1\n",
       "Pine District, Scott Rudin Productions                            1\n",
       "108 Media, Rebel Films, Bigel Entertainment, Contento Films       1\n",
       "Name: production_company, Length: 3186, dtype: int64"
      ]
     },
     "execution_count": 11,
     "metadata": {},
     "output_type": "execute_result"
    }
   ],
   "source": [
    "y.sort_values(ascending=False)"
   ]
  },
  {
   "cell_type": "markdown",
   "metadata": {},
   "source": [
    "### Clean up production_company first"
   ]
  },
  {
   "cell_type": "code",
   "execution_count": 14,
   "metadata": {},
   "outputs": [],
   "source": [
    "company_df = df[df['production_company'] != 'None']"
   ]
  },
  {
   "cell_type": "code",
   "execution_count": 16,
   "metadata": {},
   "outputs": [
    {
     "name": "stderr",
     "output_type": "stream",
     "text": [
      "<ipython-input-16-6b1565479f8b>:1: SettingWithCopyWarning: \n",
      "A value is trying to be set on a copy of a slice from a DataFrame.\n",
      "Try using .loc[row_indexer,col_indexer] = value instead\n",
      "\n",
      "See the caveats in the documentation: https://pandas.pydata.org/pandas-docs/stable/user_guide/indexing.html#returning-a-view-versus-a-copy\n",
      "  company_df['production_company'] = company_df['production_company'].map(lambda x: x.split(','))\n"
     ]
    }
   ],
   "source": [
    "company_df['production_company'] = company_df['production_company'].map(lambda x: x.split(','))"
   ]
  },
  {
   "cell_type": "code",
   "execution_count": 28,
   "metadata": {},
   "outputs": [],
   "source": [
    "company_df = company_df.explode('production_company')"
   ]
  },
  {
   "cell_type": "code",
   "execution_count": 37,
   "metadata": {},
   "outputs": [
    {
     "data": {
      "text/plain": [
       "Columbia Pictures           163\n",
       "Universal Pictures          135\n",
       "Warner Bros.                132\n",
       "Paramount Pictures          107\n",
       "Walt Disney Pictures         83\n",
       "                           ... \n",
       "Over Under Media              1\n",
       " 75 Year Plan                 1\n",
       "Gil Friesen                   1\n",
       " SF Norge AS                  1\n",
       " Initial A Entertainment      1\n",
       "Name: production_company, Length: 4542, dtype: int64"
      ]
     },
     "execution_count": 37,
     "metadata": {},
     "output_type": "execute_result"
    }
   ],
   "source": [
    "company_df['production_company'].value_counts().sort_values(ascending=False)"
   ]
  },
  {
   "cell_type": "code",
   "execution_count": null,
   "metadata": {},
   "outputs": [],
   "source": []
  },
  {
   "cell_type": "code",
   "execution_count": null,
   "metadata": {},
   "outputs": [],
   "source": []
  },
  {
   "cell_type": "code",
   "execution_count": null,
   "metadata": {},
   "outputs": [],
   "source": []
  },
  {
   "cell_type": "markdown",
   "metadata": {},
   "source": [
    "### Clean up production_country nexy"
   ]
  },
  {
   "cell_type": "code",
   "execution_count": 38,
   "metadata": {},
   "outputs": [],
   "source": [
    "country_df = df[df['production_country'] != 'None']"
   ]
  },
  {
   "cell_type": "code",
   "execution_count": 41,
   "metadata": {},
   "outputs": [
    {
     "name": "stderr",
     "output_type": "stream",
     "text": [
      "<ipython-input-41-2e6a8eb88852>:1: SettingWithCopyWarning: \n",
      "A value is trying to be set on a copy of a slice from a DataFrame.\n",
      "Try using .loc[row_indexer,col_indexer] = value instead\n",
      "\n",
      "See the caveats in the documentation: https://pandas.pydata.org/pandas-docs/stable/user_guide/indexing.html#returning-a-view-versus-a-copy\n",
      "  country_df['production_country'] = country_df['production_country'].map(lambda x: x.split(','))\n"
     ]
    }
   ],
   "source": [
    "country_df['production_country'] = country_df['production_country'].map(lambda x: x.split(','))"
   ]
  },
  {
   "cell_type": "code",
   "execution_count": 43,
   "metadata": {},
   "outputs": [],
   "source": [
    "country_df = country_df.explode('production_country')"
   ]
  },
  {
   "cell_type": "code",
   "execution_count": 44,
   "metadata": {},
   "outputs": [
    {
     "data": {
      "text/plain": [
       "United States                                 4143\n",
       " United States                                 606\n",
       "United Kingdom                                 371\n",
       "France                                         218\n",
       " United Kingdom                                181\n",
       "                                              ... \n",
       " Czech Republic                                  1\n",
       " The Former Yugoslav Republic of Macedonia       1\n",
       "Cambodia                                         1\n",
       " Egypt                                           1\n",
       "German Democratic Republic                       1\n",
       "Name: production_country, Length: 143, dtype: int64"
      ]
     },
     "execution_count": 44,
     "metadata": {},
     "output_type": "execute_result"
    }
   ],
   "source": [
    "country_df['production_country'].value_counts().sort_values(ascending=False)"
   ]
  },
  {
   "cell_type": "code",
   "execution_count": null,
   "metadata": {},
   "outputs": [],
   "source": []
  }
 ],
 "metadata": {
  "kernelspec": {
   "display_name": "Python (learn-env)",
   "language": "python",
   "name": "learn-env"
  },
  "language_info": {
   "codemirror_mode": {
    "name": "ipython",
    "version": 3
   },
   "file_extension": ".py",
   "mimetype": "text/x-python",
   "name": "python",
   "nbconvert_exporter": "python",
   "pygments_lexer": "ipython3",
   "version": "3.8.5"
  }
 },
 "nbformat": 4,
 "nbformat_minor": 4
}
