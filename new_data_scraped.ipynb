{
 "cells": [
  {
   "cell_type": "code",
   "execution_count": 1,
   "metadata": {},
   "outputs": [],
   "source": [
    "import pandas as pd\n",
    "import numpy as np\n",
    "import matplotlib.pyplot as plt\n",
    "%matplotlib inline"
   ]
  },
  {
   "cell_type": "code",
   "execution_count": 2,
   "metadata": {},
   "outputs": [],
   "source": [
    "# All the datasets \n",
    "\n",
    "box_office_mojo = pd.read_csv(\"./data/bom.movie_gross.csv\")\n",
    "\n",
    "imdb_name = pd.read_csv(\"./data/name.basics.csv\")\n",
    "imdb_title = pd.read_csv(\"./data/title.basics.csv\")\n",
    "imdb_crew = pd.read_csv(\"./data/title.crew.csv\") \n",
    "imdb_principals = pd.read_csv(\"./data/title.principals.csv\")\n",
    "imdb_ratings = pd.read_csv(\"./data/title.ratings.csv\")\n",
    "imdb_akas = pd.read_csv(\"./data/title.akas.csv\")\n",
    "\n",
    "rt_info = pd.read_csv(\"./data/rt.movie_info.tsv\", sep = \"\\t\")\n",
    "rt_reviews = pd.read_csv(\"./data/rt.reviews.tsv\", sep = \"\\t\", encoding='windows-1252')\n",
    "\n",
    "the_movie_db = pd.read_csv(\"./data/tmdb.movies.csv\")\n",
    "\n",
    "movie_budgets = pd.read_csv(\"tngross.csv\")"
   ]
  },
  {
   "cell_type": "code",
   "execution_count": 3,
   "metadata": {},
   "outputs": [],
   "source": [
    "title_and_ratings = imdb_title.merge(imdb_ratings, on=\"tconst\")\n",
    "title_and_ratings = title_and_ratings.rename(columns={\"primary_title\":\"movie\"})\n",
    "imdb_crew = imdb_crew.rename(columns={\"directors\":\"nconst\"})\n",
    "names_of_director = imdb_crew.merge(imdb_name, on=\"nconst\")\n",
    "imdb_df = title_and_ratings.merge(names_of_director, on=\"tconst\")\n",
    "df = imdb_df.merge(movie_budgets, on=\"movie\")"
   ]
  },
  {
   "cell_type": "code",
   "execution_count": 10,
   "metadata": {},
   "outputs": [],
   "source": [
    "df = df.drop([#'tconst', \n",
    "         'original_title', \n",
    "         'start_year', \n",
    "         'nconst', \n",
    "         'writers', \n",
    "         'birth_year', \n",
    "         'death_year', \n",
    "         'primary_profession', \n",
    "         'known_for_titles',\n",
    "         'Unnamed: 0'], axis=1)"
   ]
  },
  {
   "cell_type": "code",
   "execution_count": 14,
   "metadata": {},
   "outputs": [
    {
     "data": {
      "text/plain": [
       "(2775, 11)"
      ]
     },
     "execution_count": 14,
     "metadata": {},
     "output_type": "execute_result"
    }
   ],
   "source": [
    "df.shape"
   ]
  },
  {
   "cell_type": "code",
   "execution_count": null,
   "metadata": {},
   "outputs": [],
   "source": []
  }
 ],
 "metadata": {
  "kernelspec": {
   "display_name": "Python (learn-env)",
   "language": "python",
   "name": "learn-env"
  },
  "language_info": {
   "codemirror_mode": {
    "name": "ipython",
    "version": 3
   },
   "file_extension": ".py",
   "mimetype": "text/x-python",
   "name": "python",
   "nbconvert_exporter": "python",
   "pygments_lexer": "ipython3",
   "version": "3.8.5"
  }
 },
 "nbformat": 4,
 "nbformat_minor": 4
}
