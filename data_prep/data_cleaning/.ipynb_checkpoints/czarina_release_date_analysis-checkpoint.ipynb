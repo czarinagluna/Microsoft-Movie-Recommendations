{
 "cells": [
  {
   "cell_type": "code",
   "execution_count": 1,
   "metadata": {},
   "outputs": [],
   "source": [
    "import pandas as pd\n",
    "import numpy as np\n",
    "import matplotlib.pyplot as plt\n",
    "%matplotlib inline"
   ]
  },
  {
   "cell_type": "code",
   "execution_count": 2,
   "metadata": {},
   "outputs": [],
   "source": [
    "# All the datasets \n",
    "\n",
    "# box_office_mojo = pd.read_csv(\"./data/bom.movie_gross.csv\")\n",
    "\n",
    "# imdb_name = pd.read_csv(\"./data/name.basics.csv\")\n",
    "# imdb_title = pd.read_csv(\"./data/title.basics.csv\")\n",
    "# imdb_crew = pd.read_csv(\"./data/title.crew.csv\") \n",
    "# imdb_principals = pd.read_csv(\"./data/title.principals.csv\")\n",
    "# imdb_ratings = pd.read_csv(\"./data/title.ratings.csv\")\n",
    "# imdb_akas = pd.read_csv(\"./data/title.akas.csv\")\n",
    "\n",
    "# rt_info = pd.read_csv(\"./data/rt.movie_info.tsv\", sep = \"\\t\")\n",
    "# rt_reviews = pd.read_csv(\"./data/rt.reviews.tsv\", sep = \"\\t\", encoding='windows-1252')\n",
    "\n",
    "# the_movie_db = pd.read_csv(\"./data/tmdb.movies.csv\")\n",
    "\n",
    "# movie_budgets = pd.read_csv(\"tngross.csv\")"
   ]
  },
  {
   "cell_type": "code",
   "execution_count": 3,
   "metadata": {},
   "outputs": [],
   "source": [
    "# title_and_ratings = imdb_title.merge(imdb_ratings, on=\"tconst\")\n",
    "# title_and_ratings = title_and_ratings.rename(columns={\"primary_title\":\"movie\"})\n",
    "# imdb_crew = imdb_crew.rename(columns={\"directors\":\"nconst\"})\n",
    "# names_of_director = imdb_crew.merge(imdb_name, on=\"nconst\")\n",
    "# imdb_df = title_and_ratings.merge(names_of_director, on=\"tconst\")\n",
    "# df = imdb_df.merge(movie_budgets, on=\"movie\")"
   ]
  },
  {
   "cell_type": "code",
   "execution_count": 4,
   "metadata": {},
   "outputs": [],
   "source": [
    "# df = df.drop([#'tconst', \n",
    "#          'original_title', \n",
    "#          'start_year', \n",
    "#          'nconst', \n",
    "#          'writers', \n",
    "#          'birth_year', \n",
    "#          'death_year', \n",
    "#          'primary_profession', \n",
    "#          'known_for_titles',\n",
    "#          'Unnamed: 0'], axis=1)"
   ]
  },
  {
   "cell_type": "code",
   "execution_count": 5,
   "metadata": {},
   "outputs": [],
   "source": [
    "# New datasets\n",
    "df1 = pd.read_csv(\"data/tngross.csv\")\n",
    "df2 = pd.read_csv(\"data/tnproduction.csv\")"
   ]
  },
  {
   "cell_type": "code",
   "execution_count": 6,
   "metadata": {},
   "outputs": [],
   "source": [
    "df = df1.merge(df2, on=\"Unnamed: 0\")"
   ]
  },
  {
   "cell_type": "code",
   "execution_count": 7,
   "metadata": {},
   "outputs": [
    {
     "data": {
      "text/plain": [
       "6100"
      ]
     },
     "execution_count": 7,
     "metadata": {},
     "output_type": "execute_result"
    }
   ],
   "source": [
    "len(df)"
   ]
  },
  {
   "cell_type": "code",
   "execution_count": 8,
   "metadata": {
    "scrolled": false
   },
   "outputs": [
    {
     "data": {
      "text/html": [
       "<div>\n",
       "<style scoped>\n",
       "    .dataframe tbody tr th:only-of-type {\n",
       "        vertical-align: middle;\n",
       "    }\n",
       "\n",
       "    .dataframe tbody tr th {\n",
       "        vertical-align: top;\n",
       "    }\n",
       "\n",
       "    .dataframe thead th {\n",
       "        text-align: right;\n",
       "    }\n",
       "</style>\n",
       "<table border=\"1\" class=\"dataframe\">\n",
       "  <thead>\n",
       "    <tr style=\"text-align: right;\">\n",
       "      <th></th>\n",
       "      <th>Unnamed: 0</th>\n",
       "      <th>release_date</th>\n",
       "      <th>movie</th>\n",
       "      <th>production_budget</th>\n",
       "      <th>domestic_gross</th>\n",
       "      <th>worldwide_gross</th>\n",
       "      <th>runtime_minutes</th>\n",
       "      <th>genres</th>\n",
       "      <th>production_company</th>\n",
       "      <th>production_country</th>\n",
       "    </tr>\n",
       "  </thead>\n",
       "  <tbody>\n",
       "    <tr>\n",
       "      <th>0</th>\n",
       "      <td>0</td>\n",
       "      <td>Apr 23, 2019</td>\n",
       "      <td>Avengers: Endgame</td>\n",
       "      <td>$400,000,000</td>\n",
       "      <td>$858,373,000</td>\n",
       "      <td>$2,797,800,564</td>\n",
       "      <td>181 minutes</td>\n",
       "      <td>Action</td>\n",
       "      <td>Marvel Studios</td>\n",
       "      <td>United States</td>\n",
       "    </tr>\n",
       "    <tr>\n",
       "      <th>1</th>\n",
       "      <td>1</td>\n",
       "      <td>May 20, 2011</td>\n",
       "      <td>Pirates of the Caribbean: On Stranger Tides</td>\n",
       "      <td>$379,000,000</td>\n",
       "      <td>$241,071,802</td>\n",
       "      <td>$1,045,713,802</td>\n",
       "      <td>136 minutes</td>\n",
       "      <td>Adventure</td>\n",
       "      <td>Walt Disney Pictures</td>\n",
       "      <td>United States</td>\n",
       "    </tr>\n",
       "  </tbody>\n",
       "</table>\n",
       "</div>"
      ],
      "text/plain": [
       "   Unnamed: 0  release_date                                        movie  \\\n",
       "0           0  Apr 23, 2019                            Avengers: Endgame   \n",
       "1           1  May 20, 2011  Pirates of the Caribbean: On Stranger Tides   \n",
       "\n",
       "  production_budget domestic_gross worldwide_gross runtime_minutes     genres  \\\n",
       "0      $400,000,000   $858,373,000  $2,797,800,564     181 minutes     Action   \n",
       "1      $379,000,000   $241,071,802  $1,045,713,802     136 minutes  Adventure   \n",
       "\n",
       "     production_company production_country  \n",
       "0        Marvel Studios      United States  \n",
       "1  Walt Disney Pictures      United States  "
      ]
     },
     "execution_count": 8,
     "metadata": {},
     "output_type": "execute_result"
    }
   ],
   "source": [
    "df.head(2)"
   ]
  },
  {
   "cell_type": "code",
   "execution_count": 9,
   "metadata": {},
   "outputs": [],
   "source": [
    "df = df.drop(\"Unnamed: 0\", axis=1)"
   ]
  },
  {
   "cell_type": "markdown",
   "metadata": {},
   "source": [
    "### Clean up columns\n",
    "1. release_date: change format to datetime\n",
    "2. movie: find duplicates, but check if totally the same, or other features are different\n",
    "3. production_budget: change to int\n",
    "4. domestic_gross: change to int\n",
    "5. worldwide_gross: change to int\n",
    "6. runtime_minutes: drop minutes, change to int\n",
    "7. genres:\n",
    "8. production_company: change to list and break down per company\n",
    "9. production_country:"
   ]
  },
  {
   "cell_type": "code",
   "execution_count": 10,
   "metadata": {},
   "outputs": [],
   "source": [
    "df['release_date'] = pd.to_datetime(df['release_date'], errors='coerce', format='%b %d, %Y')"
   ]
  },
  {
   "cell_type": "code",
   "execution_count": 11,
   "metadata": {},
   "outputs": [],
   "source": [
    "def dollar_to_int(column):\n",
    "    return column.str.replace('$', '').str.replace(',', '').map(int)"
   ]
  },
  {
   "cell_type": "code",
   "execution_count": 12,
   "metadata": {},
   "outputs": [],
   "source": [
    "df[['production_budget', 'domestic_gross', 'worldwide_gross']] = df[['production_budget', 'domestic_gross', 'worldwide_gross']].apply(dollar_to_int)"
   ]
  },
  {
   "cell_type": "code",
   "execution_count": 13,
   "metadata": {},
   "outputs": [],
   "source": [
    "df['runtime_minutes'] = df['runtime_minutes'].map(lambda x: x.split(' ')[0].strip(' '))"
   ]
  },
  {
   "cell_type": "code",
   "execution_count": 14,
   "metadata": {},
   "outputs": [],
   "source": [
    "# df.loc[df['runtime_minutes']=='None']"
   ]
  },
  {
   "cell_type": "markdown",
   "metadata": {},
   "source": [
    "### Remove missing values of worldwide_gross"
   ]
  },
  {
   "cell_type": "code",
   "execution_count": 15,
   "metadata": {},
   "outputs": [],
   "source": [
    "df = df[~(df['worldwide_gross']==0)]"
   ]
  },
  {
   "cell_type": "markdown",
   "metadata": {},
   "source": [
    "### Create new columns\n",
    "10. total_profit\n",
    "11. profit_budget_ratio\n",
    "12. profit_budget_perc\n",
    "13. day\n",
    "14. month\n",
    "15. year"
   ]
  },
  {
   "cell_type": "code",
   "execution_count": 16,
   "metadata": {},
   "outputs": [],
   "source": [
    "df['total_profit'] = df['worldwide_gross'] - df['production_budget']"
   ]
  },
  {
   "cell_type": "code",
   "execution_count": 17,
   "metadata": {},
   "outputs": [],
   "source": [
    "df['profit_to_budget'] = df['worldwide_gross'] / df['production_budget']"
   ]
  },
  {
   "cell_type": "code",
   "execution_count": 18,
   "metadata": {},
   "outputs": [],
   "source": [
    "df['profit_to_budget_perc'] = df['profit_to_budget'] * 100"
   ]
  },
  {
   "cell_type": "code",
   "execution_count": 19,
   "metadata": {},
   "outputs": [],
   "source": [
    "df['day'] = df['release_date'].dt.day_name()"
   ]
  },
  {
   "cell_type": "code",
   "execution_count": 20,
   "metadata": {},
   "outputs": [],
   "source": [
    "df['month'] = pd.DatetimeIndex(df['release_date']).month"
   ]
  },
  {
   "cell_type": "code",
   "execution_count": 21,
   "metadata": {},
   "outputs": [],
   "source": [
    "df['year'] = pd.DatetimeIndex(df['release_date']).year"
   ]
  },
  {
   "cell_type": "code",
   "execution_count": 22,
   "metadata": {},
   "outputs": [
    {
     "data": {
      "text/html": [
       "<div>\n",
       "<style scoped>\n",
       "    .dataframe tbody tr th:only-of-type {\n",
       "        vertical-align: middle;\n",
       "    }\n",
       "\n",
       "    .dataframe tbody tr th {\n",
       "        vertical-align: top;\n",
       "    }\n",
       "\n",
       "    .dataframe thead th {\n",
       "        text-align: right;\n",
       "    }\n",
       "</style>\n",
       "<table border=\"1\" class=\"dataframe\">\n",
       "  <thead>\n",
       "    <tr style=\"text-align: right;\">\n",
       "      <th></th>\n",
       "      <th>release_date</th>\n",
       "      <th>movie</th>\n",
       "      <th>production_budget</th>\n",
       "      <th>domestic_gross</th>\n",
       "      <th>worldwide_gross</th>\n",
       "      <th>runtime_minutes</th>\n",
       "      <th>genres</th>\n",
       "      <th>production_company</th>\n",
       "      <th>production_country</th>\n",
       "      <th>total_profit</th>\n",
       "      <th>profit_to_budget</th>\n",
       "      <th>profit_to_budget_perc</th>\n",
       "      <th>day</th>\n",
       "      <th>month</th>\n",
       "      <th>year</th>\n",
       "    </tr>\n",
       "  </thead>\n",
       "  <tbody>\n",
       "    <tr>\n",
       "      <th>0</th>\n",
       "      <td>2019-04-23</td>\n",
       "      <td>Avengers: Endgame</td>\n",
       "      <td>400000000</td>\n",
       "      <td>858373000</td>\n",
       "      <td>2797800564</td>\n",
       "      <td>181</td>\n",
       "      <td>Action</td>\n",
       "      <td>Marvel Studios</td>\n",
       "      <td>United States</td>\n",
       "      <td>2397800564</td>\n",
       "      <td>6.994501</td>\n",
       "      <td>699.450141</td>\n",
       "      <td>Tuesday</td>\n",
       "      <td>4.0</td>\n",
       "      <td>2019.0</td>\n",
       "    </tr>\n",
       "    <tr>\n",
       "      <th>1</th>\n",
       "      <td>2011-05-20</td>\n",
       "      <td>Pirates of the Caribbean: On Stranger Tides</td>\n",
       "      <td>379000000</td>\n",
       "      <td>241071802</td>\n",
       "      <td>1045713802</td>\n",
       "      <td>136</td>\n",
       "      <td>Adventure</td>\n",
       "      <td>Walt Disney Pictures</td>\n",
       "      <td>United States</td>\n",
       "      <td>666713802</td>\n",
       "      <td>2.759139</td>\n",
       "      <td>275.913932</td>\n",
       "      <td>Friday</td>\n",
       "      <td>5.0</td>\n",
       "      <td>2011.0</td>\n",
       "    </tr>\n",
       "  </tbody>\n",
       "</table>\n",
       "</div>"
      ],
      "text/plain": [
       "  release_date                                        movie  \\\n",
       "0   2019-04-23                            Avengers: Endgame   \n",
       "1   2011-05-20  Pirates of the Caribbean: On Stranger Tides   \n",
       "\n",
       "   production_budget  domestic_gross  worldwide_gross runtime_minutes  \\\n",
       "0          400000000       858373000       2797800564             181   \n",
       "1          379000000       241071802       1045713802             136   \n",
       "\n",
       "      genres    production_company production_country  total_profit  \\\n",
       "0     Action        Marvel Studios      United States    2397800564   \n",
       "1  Adventure  Walt Disney Pictures      United States     666713802   \n",
       "\n",
       "   profit_to_budget  profit_to_budget_perc      day  month    year  \n",
       "0          6.994501             699.450141  Tuesday    4.0  2019.0  \n",
       "1          2.759139             275.913932   Friday    5.0  2011.0  "
      ]
     },
     "execution_count": 22,
     "metadata": {},
     "output_type": "execute_result"
    }
   ],
   "source": [
    "df.head(2)"
   ]
  },
  {
   "cell_type": "code",
   "execution_count": 23,
   "metadata": {},
   "outputs": [
    {
     "data": {
      "text/html": [
       "<div>\n",
       "<style scoped>\n",
       "    .dataframe tbody tr th:only-of-type {\n",
       "        vertical-align: middle;\n",
       "    }\n",
       "\n",
       "    .dataframe tbody tr th {\n",
       "        vertical-align: top;\n",
       "    }\n",
       "\n",
       "    .dataframe thead th {\n",
       "        text-align: right;\n",
       "    }\n",
       "</style>\n",
       "<table border=\"1\" class=\"dataframe\">\n",
       "  <thead>\n",
       "    <tr style=\"text-align: right;\">\n",
       "      <th></th>\n",
       "      <th>production_budget</th>\n",
       "      <th>domestic_gross</th>\n",
       "      <th>worldwide_gross</th>\n",
       "      <th>total_profit</th>\n",
       "      <th>profit_to_budget</th>\n",
       "      <th>profit_to_budget_perc</th>\n",
       "      <th>month</th>\n",
       "      <th>year</th>\n",
       "    </tr>\n",
       "  </thead>\n",
       "  <tbody>\n",
       "    <tr>\n",
       "      <th>count</th>\n",
       "      <td>5.747000e+03</td>\n",
       "      <td>5.747000e+03</td>\n",
       "      <td>5.747000e+03</td>\n",
       "      <td>5.747000e+03</td>\n",
       "      <td>5747.000000</td>\n",
       "      <td>5747.000000</td>\n",
       "      <td>5686.000000</td>\n",
       "      <td>5686.000000</td>\n",
       "    </tr>\n",
       "    <tr>\n",
       "      <th>mean</th>\n",
       "      <td>3.352283e+07</td>\n",
       "      <td>4.444587e+07</td>\n",
       "      <td>9.840660e+07</td>\n",
       "      <td>6.488377e+07</td>\n",
       "      <td>4.400831</td>\n",
       "      <td>440.083145</td>\n",
       "      <td>6.981006</td>\n",
       "      <td>2004.447239</td>\n",
       "    </tr>\n",
       "    <tr>\n",
       "      <th>std</th>\n",
       "      <td>4.262659e+07</td>\n",
       "      <td>7.057323e+07</td>\n",
       "      <td>1.842933e+08</td>\n",
       "      <td>1.554306e+08</td>\n",
       "      <td>16.162276</td>\n",
       "      <td>1616.227637</td>\n",
       "      <td>3.402052</td>\n",
       "      <td>12.712653</td>\n",
       "    </tr>\n",
       "    <tr>\n",
       "      <th>min</th>\n",
       "      <td>1.000000e+05</td>\n",
       "      <td>0.000000e+00</td>\n",
       "      <td>1.700000e+01</td>\n",
       "      <td>-1.580898e+08</td>\n",
       "      <td>0.000002</td>\n",
       "      <td>0.000227</td>\n",
       "      <td>1.000000</td>\n",
       "      <td>1915.000000</td>\n",
       "    </tr>\n",
       "    <tr>\n",
       "      <th>25%</th>\n",
       "      <td>6.400000e+06</td>\n",
       "      <td>3.074324e+06</td>\n",
       "      <td>7.113001e+06</td>\n",
       "      <td>-1.987679e+06</td>\n",
       "      <td>0.692488</td>\n",
       "      <td>69.248764</td>\n",
       "      <td>4.000000</td>\n",
       "      <td>2000.000000</td>\n",
       "    </tr>\n",
       "    <tr>\n",
       "      <th>50%</th>\n",
       "      <td>1.900000e+07</td>\n",
       "      <td>1.987057e+07</td>\n",
       "      <td>3.301380e+07</td>\n",
       "      <td>1.197129e+07</td>\n",
       "      <td>1.863649</td>\n",
       "      <td>186.364938</td>\n",
       "      <td>7.000000</td>\n",
       "      <td>2007.000000</td>\n",
       "    </tr>\n",
       "    <tr>\n",
       "      <th>75%</th>\n",
       "      <td>4.200000e+07</td>\n",
       "      <td>5.500460e+07</td>\n",
       "      <td>1.038857e+08</td>\n",
       "      <td>6.708668e+07</td>\n",
       "      <td>3.926888</td>\n",
       "      <td>392.688799</td>\n",
       "      <td>10.000000</td>\n",
       "      <td>2013.000000</td>\n",
       "    </tr>\n",
       "    <tr>\n",
       "      <th>max</th>\n",
       "      <td>4.000000e+08</td>\n",
       "      <td>9.366622e+08</td>\n",
       "      <td>2.845900e+09</td>\n",
       "      <td>2.608900e+09</td>\n",
       "      <td>498.750000</td>\n",
       "      <td>49875.000000</td>\n",
       "      <td>12.000000</td>\n",
       "      <td>2021.000000</td>\n",
       "    </tr>\n",
       "  </tbody>\n",
       "</table>\n",
       "</div>"
      ],
      "text/plain": [
       "       production_budget  domestic_gross  worldwide_gross  total_profit  \\\n",
       "count       5.747000e+03    5.747000e+03     5.747000e+03  5.747000e+03   \n",
       "mean        3.352283e+07    4.444587e+07     9.840660e+07  6.488377e+07   \n",
       "std         4.262659e+07    7.057323e+07     1.842933e+08  1.554306e+08   \n",
       "min         1.000000e+05    0.000000e+00     1.700000e+01 -1.580898e+08   \n",
       "25%         6.400000e+06    3.074324e+06     7.113001e+06 -1.987679e+06   \n",
       "50%         1.900000e+07    1.987057e+07     3.301380e+07  1.197129e+07   \n",
       "75%         4.200000e+07    5.500460e+07     1.038857e+08  6.708668e+07   \n",
       "max         4.000000e+08    9.366622e+08     2.845900e+09  2.608900e+09   \n",
       "\n",
       "       profit_to_budget  profit_to_budget_perc        month         year  \n",
       "count       5747.000000            5747.000000  5686.000000  5686.000000  \n",
       "mean           4.400831             440.083145     6.981006  2004.447239  \n",
       "std           16.162276            1616.227637     3.402052    12.712653  \n",
       "min            0.000002               0.000227     1.000000  1915.000000  \n",
       "25%            0.692488              69.248764     4.000000  2000.000000  \n",
       "50%            1.863649             186.364938     7.000000  2007.000000  \n",
       "75%            3.926888             392.688799    10.000000  2013.000000  \n",
       "max          498.750000           49875.000000    12.000000  2021.000000  "
      ]
     },
     "execution_count": 23,
     "metadata": {},
     "output_type": "execute_result"
    }
   ],
   "source": [
    "df.describe()"
   ]
  },
  {
   "cell_type": "code",
   "execution_count": 24,
   "metadata": {},
   "outputs": [
    {
     "name": "stdout",
     "output_type": "stream",
     "text": [
      "<class 'pandas.core.frame.DataFrame'>\n",
      "Int64Index: 5747 entries, 0 to 6091\n",
      "Data columns (total 15 columns):\n",
      " #   Column                 Non-Null Count  Dtype         \n",
      "---  ------                 --------------  -----         \n",
      " 0   release_date           5686 non-null   datetime64[ns]\n",
      " 1   movie                  5747 non-null   object        \n",
      " 2   production_budget      5747 non-null   int64         \n",
      " 3   domestic_gross         5747 non-null   int64         \n",
      " 4   worldwide_gross        5747 non-null   int64         \n",
      " 5   runtime_minutes        5747 non-null   object        \n",
      " 6   genres                 5747 non-null   object        \n",
      " 7   production_company     5747 non-null   object        \n",
      " 8   production_country     5747 non-null   object        \n",
      " 9   total_profit           5747 non-null   int64         \n",
      " 10  profit_to_budget       5747 non-null   float64       \n",
      " 11  profit_to_budget_perc  5747 non-null   float64       \n",
      " 12  day                    5686 non-null   object        \n",
      " 13  month                  5686 non-null   float64       \n",
      " 14  year                   5686 non-null   float64       \n",
      "dtypes: datetime64[ns](1), float64(4), int64(4), object(6)\n",
      "memory usage: 718.4+ KB\n"
     ]
    }
   ],
   "source": [
    "df.info()"
   ]
  },
  {
   "cell_type": "code",
   "execution_count": 25,
   "metadata": {},
   "outputs": [
    {
     "data": {
      "text/plain": [
       "False    5686\n",
       "True       61\n",
       "Name: release_date, dtype: int64"
      ]
     },
     "execution_count": 25,
     "metadata": {},
     "output_type": "execute_result"
    }
   ],
   "source": [
    "df['release_date'].isnull().value_counts()"
   ]
  },
  {
   "cell_type": "code",
   "execution_count": 26,
   "metadata": {},
   "outputs": [],
   "source": [
    "dates_df = df[~df['release_date'].isna()]"
   ]
  },
  {
   "cell_type": "code",
   "execution_count": 27,
   "metadata": {},
   "outputs": [
    {
     "name": "stdout",
     "output_type": "stream",
     "text": [
      "<class 'pandas.core.frame.DataFrame'>\n",
      "Int64Index: 5686 entries, 0 to 6091\n",
      "Data columns (total 15 columns):\n",
      " #   Column                 Non-Null Count  Dtype         \n",
      "---  ------                 --------------  -----         \n",
      " 0   release_date           5686 non-null   datetime64[ns]\n",
      " 1   movie                  5686 non-null   object        \n",
      " 2   production_budget      5686 non-null   int64         \n",
      " 3   domestic_gross         5686 non-null   int64         \n",
      " 4   worldwide_gross        5686 non-null   int64         \n",
      " 5   runtime_minutes        5686 non-null   object        \n",
      " 6   genres                 5686 non-null   object        \n",
      " 7   production_company     5686 non-null   object        \n",
      " 8   production_country     5686 non-null   object        \n",
      " 9   total_profit           5686 non-null   int64         \n",
      " 10  profit_to_budget       5686 non-null   float64       \n",
      " 11  profit_to_budget_perc  5686 non-null   float64       \n",
      " 12  day                    5686 non-null   object        \n",
      " 13  month                  5686 non-null   float64       \n",
      " 14  year                   5686 non-null   float64       \n",
      "dtypes: datetime64[ns](1), float64(4), int64(4), object(6)\n",
      "memory usage: 710.8+ KB\n"
     ]
    }
   ],
   "source": [
    "dates_df.info()"
   ]
  },
  {
   "cell_type": "markdown",
   "metadata": {},
   "source": [
    "### Analysis of release_date: day, month, year"
   ]
  },
  {
   "cell_type": "code",
   "execution_count": 28,
   "metadata": {},
   "outputs": [
    {
     "data": {
      "text/plain": [
       "Friday       72.071755\n",
       "Wednesday    14.790714\n",
       "Thursday      8.723180\n",
       "Tuesday       2.374253\n",
       "Monday        0.773830\n",
       "Sunday        0.668308\n",
       "Saturday      0.597960\n",
       "Name: day, dtype: float64"
      ]
     },
     "execution_count": 28,
     "metadata": {},
     "output_type": "execute_result"
    }
   ],
   "source": [
    "dates_df['day'].value_counts(normalize=True)*100"
   ]
  },
  {
   "cell_type": "code",
   "execution_count": 29,
   "metadata": {},
   "outputs": [],
   "source": [
    "# day_numbers = {\n",
    "#     \"Monday\" : 0,\n",
    "#     \"Tuesday\" : 1,\n",
    "#     \"Wednesday\" : 2,\n",
    "#     \"Thursday\" : 3,\n",
    "#     \"Friday\" : 4,\n",
    "#     \"Saturday\" : 5,\n",
    "#     \"Sunday\" : 6\n",
    "# }"
   ]
  },
  {
   "cell_type": "code",
   "execution_count": 30,
   "metadata": {},
   "outputs": [
    {
     "data": {
      "image/png": "[encoded data removed]",
      "text/plain": [
       "<Figure size 432x288 with 1 Axes>"
      ]
     },
     "metadata": {
      "needs_background": "light"
     },
     "output_type": "display_data"
    }
   ],
   "source": [
    "fig, ax = plt.subplots()\n",
    "\n",
    "day_values = dates_df['day'].value_counts()\n",
    "\n",
    "ax.barh(\n",
    "    y=day_values.index,\n",
    "    width=day_values.values\n",
    ")\n",
    "ax.set_ylabel('day');"
   ]
  },
  {
   "cell_type": "code",
   "execution_count": 31,
   "metadata": {},
   "outputs": [
    {
     "data": {
      "image/png": "[encoded data removed]",
      "text/plain": [
       "<Figure size 432x288 with 1 Axes>"
      ]
     },
     "metadata": {
      "needs_background": "light"
     },
     "output_type": "display_data"
    }
   ],
   "source": [
    "dates_df['day'].hist();"
   ]
  },
  {
   "cell_type": "code",
   "execution_count": 32,
   "metadata": {},
   "outputs": [
    {
     "data": {
      "text/plain": [
       "10.0    10.499472\n",
       "12.0    10.376363\n",
       "8.0      9.022160\n",
       "11.0     8.916637\n",
       "9.0      8.881463\n",
       "6.0      8.582483\n",
       "4.0      7.966936\n",
       "7.0      7.949349\n",
       "3.0      7.861414\n",
       "5.0      7.210693\n",
       "2.0      7.017235\n",
       "1.0      5.715793\n",
       "Name: month, dtype: float64"
      ]
     },
     "execution_count": 32,
     "metadata": {},
     "output_type": "execute_result"
    }
   ],
   "source": [
    "dates_df['month'].value_counts(normalize=True)*100"
   ]
  },
  {
   "cell_type": "code",
   "execution_count": 33,
   "metadata": {},
   "outputs": [
    {
     "data": {
      "image/png": "[encoded data removed]",
      "text/plain": [
       "<Figure size 432x288 with 1 Axes>"
      ]
     },
     "metadata": {
      "needs_background": "light"
     },
     "output_type": "display_data"
    }
   ],
   "source": [
    "fig, ax = plt.subplots()\n",
    "\n",
    "month_values = dates_df['month'].value_counts()\n",
    "\n",
    "ax.barh(\n",
    "    y=month_values.index,\n",
    "    width=month_values.values\n",
    ")\n",
    "ax.set_ylabel('month');"
   ]
  },
  {
   "cell_type": "code",
   "execution_count": 34,
   "metadata": {},
   "outputs": [
    {
     "data": {
      "image/png": "[encoded data removed]",
      "text/plain": [
       "<Figure size 432x288 with 1 Axes>"
      ]
     },
     "metadata": {
      "needs_background": "light"
     },
     "output_type": "display_data"
    }
   ],
   "source": [
    "dates_df['month'].hist();"
   ]
  },
  {
   "cell_type": "code",
   "execution_count": 35,
   "metadata": {},
   "outputs": [
    {
     "data": {
      "text/plain": [
       "2015.0    4.449525\n",
       "2010.0    4.396764\n",
       "2006.0    4.344003\n",
       "2008.0    4.256068\n",
       "2011.0    4.185719\n",
       "            ...   \n",
       "1931.0    0.017587\n",
       "1916.0    0.017587\n",
       "1937.0    0.017587\n",
       "1920.0    0.017587\n",
       "1934.0    0.017587\n",
       "Name: year, Length: 94, dtype: float64"
      ]
     },
     "execution_count": 35,
     "metadata": {},
     "output_type": "execute_result"
    }
   ],
   "source": [
    "dates_df['year'].value_counts(normalize=True)*100"
   ]
  },
  {
   "cell_type": "code",
   "execution_count": 1,
   "metadata": {},
   "outputs": [
    {
     "ename": "NameError",
     "evalue": "name 'dates_df' is not defined",
     "output_type": "error",
     "traceback": [
      "\u001b[0;31m---------------------------------------------------------------------------\u001b[0m",
      "\u001b[0;31mNameError\u001b[0m                                 Traceback (most recent call last)",
      "\u001b[0;32m<ipython-input-1-a055999cd33a>\u001b[0m in \u001b[0;36m<module>\u001b[0;34m\u001b[0m\n\u001b[0;32m----> 1\u001b[0;31m \u001b[0mdates_df\u001b[0m\u001b[0;34m[\u001b[0m\u001b[0;34m'year'\u001b[0m\u001b[0;34m]\u001b[0m\u001b[0;34m.\u001b[0m\u001b[0munique\u001b[0m\u001b[0;34m(\u001b[0m\u001b[0;34m)\u001b[0m\u001b[0;34m\u001b[0m\u001b[0;34m\u001b[0m\u001b[0m\n\u001b[0m",
      "\u001b[0;31mNameError\u001b[0m: name 'dates_df' is not defined"
     ]
    }
   ],
   "source": [
    "dates_df['year'].unique()"
   ]
  },
  {
   "cell_type": "code",
   "execution_count": 36,
   "metadata": {},
   "outputs": [
    {
     "data": {
      "image/png": "[encoded data removed]",
      "text/plain": [
       "<Figure size 432x288 with 1 Axes>"
      ]
     },
     "metadata": {
      "needs_background": "light"
     },
     "output_type": "display_data"
    }
   ],
   "source": [
    "fig, ax = plt.subplots()\n",
    "\n",
    "year_values = dates_df['year'].value_counts()\n",
    "\n",
    "ax.bar(\n",
    "    x=year_values.index,\n",
    "    height=year_values.values\n",
    ")\n",
    "ax.set_xlabel('year');"
   ]
  },
  {
   "cell_type": "code",
   "execution_count": 37,
   "metadata": {},
   "outputs": [
    {
     "data": {
      "image/png": "[encoded data removed]",
      "text/plain": [
       "<Figure size 432x288 with 1 Axes>"
      ]
     },
     "metadata": {
      "needs_background": "light"
     },
     "output_type": "display_data"
    }
   ],
   "source": [
    "dates_df['month'].hist();"
   ]
  },
  {
   "cell_type": "code",
   "execution_count": 38,
   "metadata": {},
   "outputs": [
    {
     "data": {
      "image/png": "[encoded data removed]",
      "text/plain": [
       "<Figure size 432x288 with 16 Axes>"
      ]
     },
     "metadata": {
      "needs_background": "light"
     },
     "output_type": "display_data"
    }
   ],
   "source": [
    "pd.plotting.scatter_matrix(dates_df[['total_profit', 'profit_to_budget', 'month', 'year']]);"
   ]
  },
  {
   "cell_type": "markdown",
   "metadata": {},
   "source": [
    "#### Add analysis for quarterly release"
   ]
  },
  {
   "cell_type": "code",
   "execution_count": 55,
   "metadata": {},
   "outputs": [
    {
     "name": "stderr",
     "output_type": "stream",
     "text": [
      "<ipython-input-55-08f4435b78d6>:1: SettingWithCopyWarning: \n",
      "A value is trying to be set on a copy of a slice from a DataFrame.\n",
      "Try using .loc[row_indexer,col_indexer] = value instead\n",
      "\n",
      "See the caveats in the documentation: https://pandas.pydata.org/pandas-docs/stable/user_guide/indexing.html#returning-a-view-versus-a-copy\n",
      "  dates_df['quarter'] = dates_df['release_date'].dt.quarter\n"
     ]
    }
   ],
   "source": [
    "dates_df['quarter'] = dates_df['release_date'].dt.quarter"
   ]
  },
  {
   "cell_type": "code",
   "execution_count": 57,
   "metadata": {},
   "outputs": [
    {
     "data": {
      "text/plain": [
       "4    29.792473\n",
       "3    25.852972\n",
       "2    23.760113\n",
       "1    20.594442\n",
       "Name: quarter, dtype: float64"
      ]
     },
     "execution_count": 57,
     "metadata": {},
     "output_type": "execute_result"
    }
   ],
   "source": [
    "dates_df['quarter'].value_counts(normalize=True)*100"
   ]
  },
  {
   "cell_type": "code",
   "execution_count": 59,
   "metadata": {},
   "outputs": [
    {
     "data": {
      "image/png": "[encoded data removed]",
      "text/plain": [
       "<Figure size 432x288 with 1 Axes>"
      ]
     },
     "metadata": {
      "needs_background": "light"
     },
     "output_type": "display_data"
    }
   ],
   "source": [
    "fig, ax = plt.subplots()\n",
    "\n",
    "quarter_values = dates_df['quarter'].value_counts()\n",
    "\n",
    "ax.bar(\n",
    "    x=quarter_values.index,\n",
    "    height=quarter_values.values\n",
    ")\n",
    "ax.set_xlabel('quarter');"
   ]
  },
  {
   "cell_type": "code",
   "execution_count": 60,
   "metadata": {},
   "outputs": [
    {
     "data": {
      "image/png": "[encoded data removed]",
      "text/plain": [
       "<Figure size 432x288 with 1 Axes>"
      ]
     },
     "metadata": {
      "needs_background": "light"
     },
     "output_type": "display_data"
    }
   ],
   "source": [
    "dates_df['quarter'].hist();"
   ]
  },
  {
   "cell_type": "markdown",
   "metadata": {},
   "source": [
    "### Relationship between release_date and total_profit"
   ]
  },
  {
   "cell_type": "code",
   "execution_count": 40,
   "metadata": {},
   "outputs": [
    {
     "data": {
      "image/png": "[encoded data removed]",
      "text/plain": [
       "<Figure size 432x288 with 1 Axes>"
      ]
     },
     "metadata": {
      "needs_background": "light"
     },
     "output_type": "display_data"
    }
   ],
   "source": [
    "dates_df.plot('day', 'total_profit', kind='scatter');"
   ]
  },
  {
   "cell_type": "code",
   "execution_count": 41,
   "metadata": {},
   "outputs": [
    {
     "data": {
      "image/png": "[encoded data removed]",
      "text/plain": [
       "<Figure size 432x288 with 1 Axes>"
      ]
     },
     "metadata": {
      "needs_background": "light"
     },
     "output_type": "display_data"
    }
   ],
   "source": [
    "dates_df.plot('month', 'total_profit', kind='scatter');"
   ]
  },
  {
   "cell_type": "code",
   "execution_count": 61,
   "metadata": {},
   "outputs": [
    {
     "data": {
      "image/png": "[encoded data removed]",
      "text/plain": [
       "<Figure size 432x288 with 1 Axes>"
      ]
     },
     "metadata": {
      "needs_background": "light"
     },
     "output_type": "display_data"
    }
   ],
   "source": [
    "dates_df.plot('quarter', 'total_profit', kind='scatter');"
   ]
  },
  {
   "cell_type": "code",
   "execution_count": 42,
   "metadata": {},
   "outputs": [
    {
     "data": {
      "image/png": "[encoded data removed]",
      "text/plain": [
       "<Figure size 432x288 with 1 Axes>"
      ]
     },
     "metadata": {
      "needs_background": "light"
     },
     "output_type": "display_data"
    }
   ],
   "source": [
    "dates_df.plot('year', 'total_profit', kind='scatter');"
   ]
  },
  {
   "cell_type": "markdown",
   "metadata": {},
   "source": [
    "### Relationship between release_date and profit_to_budget"
   ]
  },
  {
   "cell_type": "code",
   "execution_count": 43,
   "metadata": {},
   "outputs": [
    {
     "data": {
      "image/png": "[encoded data removed]",
      "text/plain": [
       "<Figure size 432x288 with 1 Axes>"
      ]
     },
     "metadata": {
      "needs_background": "light"
     },
     "output_type": "display_data"
    }
   ],
   "source": [
    "dates_df.plot('day', 'profit_to_budget', kind='scatter');"
   ]
  },
  {
   "cell_type": "code",
   "execution_count": 44,
   "metadata": {},
   "outputs": [
    {
     "data": {
      "image/png": "[encoded data removed]",
      "text/plain": [
       "<Figure size 432x288 with 1 Axes>"
      ]
     },
     "metadata": {
      "needs_background": "light"
     },
     "output_type": "display_data"
    }
   ],
   "source": [
    "dates_df.plot('month', 'profit_to_budget', kind='scatter');"
   ]
  },
  {
   "cell_type": "code",
   "execution_count": 62,
   "metadata": {},
   "outputs": [
    {
     "data": {
      "image/png": "[encoded data removed]",
      "text/plain": [
       "<Figure size 432x288 with 1 Axes>"
      ]
     },
     "metadata": {
      "needs_background": "light"
     },
     "output_type": "display_data"
    }
   ],
   "source": [
    "dates_df.plot('quarter', 'profit_to_budget', kind='scatter');"
   ]
  },
  {
   "cell_type": "code",
   "execution_count": 45,
   "metadata": {},
   "outputs": [
    {
     "data": {
      "image/png": "[encoded data removed]",
      "text/plain": [
       "<Figure size 432x288 with 1 Axes>"
      ]
     },
     "metadata": {
      "needs_background": "light"
     },
     "output_type": "display_data"
    }
   ],
   "source": [
    "dates_df.plot('year', 'profit_to_budget', kind='scatter');"
   ]
  },
  {
   "cell_type": "markdown",
   "metadata": {},
   "source": [
    "#### Correlation between profit_to_budget and columns"
   ]
  },
  {
   "cell_type": "code",
   "execution_count": 67,
   "metadata": {},
   "outputs": [
    {
     "data": {
      "text/plain": [
       "release_date             datetime64[ns]\n",
       "movie                            object\n",
       "production_budget                 int64\n",
       "domestic_gross                    int64\n",
       "worldwide_gross                   int64\n",
       "runtime_minutes                  object\n",
       "genres                           object\n",
       "production_company               object\n",
       "production_country               object\n",
       "total_profit                      int64\n",
       "profit_to_budget                float64\n",
       "profit_to_budget_perc           float64\n",
       "day                              object\n",
       "month                           float64\n",
       "year                            float64\n",
       "quarter                           int64\n",
       "dtype: object"
      ]
     },
     "execution_count": 67,
     "metadata": {},
     "output_type": "execute_result"
    }
   ],
   "source": [
    "dates_df.dtypes"
   ]
  },
  {
   "cell_type": "code",
   "execution_count": 47,
   "metadata": {},
   "outputs": [],
   "source": [
    "dates_genre_df = dates_df[dates_df['runtime_minutes'] != 'None']"
   ]
  },
  {
   "cell_type": "code",
   "execution_count": 48,
   "metadata": {},
   "outputs": [
    {
     "name": "stderr",
     "output_type": "stream",
     "text": [
      "<ipython-input-48-993ec27f2447>:1: SettingWithCopyWarning: \n",
      "A value is trying to be set on a copy of a slice from a DataFrame.\n",
      "Try using .loc[row_indexer,col_indexer] = value instead\n",
      "\n",
      "See the caveats in the documentation: https://pandas.pydata.org/pandas-docs/stable/user_guide/indexing.html#returning-a-view-versus-a-copy\n",
      "  dates_genre_df['runtime_minutes'] = dates_genre_df['runtime_minutes'].astype(int)\n"
     ]
    }
   ],
   "source": [
    "dates_genre_df['runtime_minutes'] = dates_genre_df['runtime_minutes'].astype(int)"
   ]
  },
  {
   "cell_type": "code",
   "execution_count": 63,
   "metadata": {},
   "outputs": [],
   "source": [
    "corr_dict = {}\n",
    "for col in dates_genre_df.columns:\n",
    "    if col == 'profit_to_budget' or col == 'profit_to_budget_perc' or col == 'release_date':\n",
    "        continue\n",
    "    if dates_genre_df[col].dtype != 'object':\n",
    "        col_corr = df['profit_to_budget'].corr(dates_genre_df[col], method='pearson')\n",
    "        #np.corrcoef(df['profit_to_budget'], df[col])[0][1]\n",
    "        corr_dict[col] = col_corr\n",
    "        \n",
    "max_corr = max(corr_dict, key=corr_dict.get)"
   ]
  },
  {
   "cell_type": "code",
   "execution_count": 64,
   "metadata": {},
   "outputs": [
    {
     "data": {
      "text/plain": [
       "'total_profit'"
      ]
     },
     "execution_count": 64,
     "metadata": {},
     "output_type": "execute_result"
    }
   ],
   "source": [
    "max_corr"
   ]
  },
  {
   "cell_type": "code",
   "execution_count": 65,
   "metadata": {},
   "outputs": [
    {
     "data": {
      "text/plain": [
       "'year'"
      ]
     },
     "execution_count": 65,
     "metadata": {},
     "output_type": "execute_result"
    }
   ],
   "source": [
    "min_corr = min(corr_dict, key=corr_dict.get)\n",
    "min_corr"
   ]
  },
  {
   "cell_type": "code",
   "execution_count": 68,
   "metadata": {},
   "outputs": [
    {
     "data": {
      "text/plain": [
       "{'production_budget': -0.08435724327369255,\n",
       " 'domestic_gross': 0.10430943857375854,\n",
       " 'worldwide_gross': 0.08305805926211017,\n",
       " 'runtime_minutes': -0.029490266446380236,\n",
       " 'total_profit': 0.12075882773772711,\n",
       " 'month': 0.009742157236737846,\n",
       " 'year': -0.17078752415780285}"
      ]
     },
     "execution_count": 68,
     "metadata": {},
     "output_type": "execute_result"
    }
   ],
   "source": [
    "corr_dict"
   ]
  },
  {
   "cell_type": "markdown",
   "metadata": {},
   "source": [
    "### Data Analysis"
   ]
  },
  {
   "cell_type": "code",
   "execution_count": null,
   "metadata": {},
   "outputs": [],
   "source": [
    "dates_df['day'] = dates_df['release_date'].dt.dayofweek\n",
    "dates_df['month'] = pd.DatetimeIndex(dates_df['release_date']).month"
   ]
  },
  {
   "cell_type": "code",
   "execution_count": null,
   "metadata": {},
   "outputs": [],
   "source": [
    "dates_df['category'] = 'Profitable'\n",
    "dates_df.loc[dates_df['earnings_ratio'] < 1, 'category'] = 'Non-Profitable'"
   ]
  },
  {
   "cell_type": "code",
   "execution_count": null,
   "metadata": {},
   "outputs": [],
   "source": [
    "ax = sns.catplot(\n",
    "    data=dates_df, kind=\"bar\",\n",
    "    x=\"day\", y=\"earnings_ratio\", hue=\"category\",\n",
    "    ci=None, height=10,\n",
    "    palette=sns.color_palette(['#7FBC00', '#F34F1C'])\n",
    ")\n",
    "\n",
    "ax.set_axis_labels(\"Day\", \"Earnings Ratio\")\n",
    "ax.legend.set_title(\"Earnings Ratio per Day\")\n",
    "\n",
    "plt.xticks(range(7), ['Monday','Tuesday','Wednesday','Thursday','Friday','Saturday','Sunday'])\n",
    "plt.show()"
   ]
  },
  {
   "cell_type": "markdown",
   "metadata": {},
   "source": [
    "## >>> Use single bar graph below if grouped bar above is not good"
   ]
  },
  {
   "cell_type": "code",
   "execution_count": null,
   "metadata": {},
   "outputs": [],
   "source": [
    "gains_dates_df = dates_df.loc[dates_df['earnings_ratio'] >= 1]"
   ]
  },
  {
   "cell_type": "code",
   "execution_count": null,
   "metadata": {},
   "outputs": [],
   "source": [
    "# loss_dates_df = dates_df.loc[dates_df['earnings_ratio'] < 1]\n",
    "# mean_day_df = dates_df.groupby(\"day\", as_index=False).mean()\n",
    "\n",
    "# plt.figure(figsize=(14, 10))\n",
    "\n",
    "# sns.barplot(\n",
    "#     x=\"day\", \n",
    "#     y=\"earnings_ratio\",\n",
    "#     data=dates_df, # OR gains_dates_df, OR loss_dates_df, OR mean_day_df\n",
    "#     color='#01A6F0',\n",
    "#     ci=None)\n",
    "\n",
    "# plt.xlabel('Days of the week')\n",
    "# plt.xticks(range(7), ['Monday','Tuesday','Wednesday','Thursday','Friday','Saturday','Sunday'])\n",
    "# plt.ylabel('Earnings Ratio')\n",
    "# plt.title('Earnings Ratio per Day')\n",
    "# plt.show()"
   ]
  },
  {
   "cell_type": "code",
   "execution_count": null,
   "metadata": {},
   "outputs": [],
   "source": [
    "horror_dates_df = gains_dates_df.loc[gains_dates_df['genres'] == 'Horror']"
   ]
  },
  {
   "cell_type": "code",
   "execution_count": null,
   "metadata": {},
   "outputs": [],
   "source": [
    "fig, ax = plt.subplots(figsize=(12, 10))\n",
    "\n",
    "sns.countplot(\n",
    "    x=\"month\", \n",
    "    color=\"#F34F1C\",\n",
    "    data = horror_dates_df,)\n",
    "plt.title(\"Horror Movies per Month\")\n",
    "plt.xlabel(\"Month\")\n",
    "plt.ylabel(\"Horror Movie Count\")\n",
    "\n",
    "plt.xticks(range(12), ['Jan','Feb','Mar','Apr','May','Jun','July','Aug','Sep','Oct','Nov','Dec'])\n",
    "plt.show()"
   ]
  },
  {
   "cell_type": "code",
   "execution_count": null,
   "metadata": {},
   "outputs": [],
   "source": [
    "# ax = sns.catplot(\n",
    "#     data=horror_dates_df, kind=\"bar\",\n",
    "#     x=\"month\", y=\"earnings_ratio\", hue=\"category\",\n",
    "#     ci=None, height=10,\n",
    "#     palette=sns.color_palette(['#7FBC00', '#F34F1C'])\n",
    "# )\n",
    "\n",
    "# ax.set_axis_labels(\"Month\", \"Horror Movie Count\")\n",
    "# ax.legend.set_title(\"Horror Movies per Month\")\n",
    "\n",
    "# plt.xticks(range(12), ['Jan','Feb','Mar','Apr','May','Jun','July','Aug','Sep','Oct','Nov','Dec'])\n",
    "# plt.show()"
   ]
  },
  {
   "cell_type": "code",
   "execution_count": null,
   "metadata": {},
   "outputs": [],
   "source": [
    "# fig, ax = plt.subplots(figsize=(12, 5))\n",
    "\n",
    "# sns.barplot(\n",
    "#     x=\"month\", \n",
    "#     y=\"earnings_ratio\",\n",
    "#     color=\"#01A6F0\",\n",
    "#     data = gains_dates_df,\n",
    "#     ci=None)\n",
    "# plt.title(\"Earnings Ratio per Month\")\n",
    "# plt.xlabel(\"Month\")\n",
    "# plt.ylabel(\"Earnings Ratio\")\n",
    "\n",
    "# plt.xticks(range(12), ['Jan','Feb','Mar','Apr','May','Jun','July','Aug','Sep','Oct','Nov','Dec'])\n",
    "# plt.show()"
   ]
  },
  {
   "cell_type": "code",
   "execution_count": null,
   "metadata": {},
   "outputs": [],
   "source": [
    "fig, ax = plt.subplots(figsize=(12, 10))\n",
    "\n",
    "sns.countplot(\n",
    "    x=\"month\", \n",
    "    color=\"#F34F1C\",\n",
    "    data = horror_dates_df,)\n",
    "plt.title(\"Horror Movies per Month\")\n",
    "plt.xlabel(\"Month\")\n",
    "plt.ylabel(\"Horror Movie Count\")\n",
    "\n",
    "plt.xticks(range(12), ['Jan','Feb','Mar','Apr','May','Jun','July','Aug','Sep','Oct','Nov','Dec'])\n",
    "plt.show()\n",
    "\n"
   ]
  },
  {
   "cell_type": "code",
   "execution_count": null,
   "metadata": {},
   "outputs": [],
   "source": [
    "horror_loss_df = loss_dates_df[loss_dates_df['genres'] == 'Horror']"
   ]
  },
  {
   "cell_type": "code",
   "execution_count": null,
   "metadata": {},
   "outputs": [],
   "source": [
    "fig, ax = plt.subplots(figsize=(12,7))\n",
    "\n",
    "sns.countplot(\n",
    "    x=\"month\", \n",
    "    color=\"#F34F1C\",\n",
    "    data = horror_loss_df,)\n",
    "plt.title(\"Non-Profitable Horror Movies per Month\")\n",
    "plt.xlabel(\"Month\")\n",
    "plt.ylabel(\"Horror Movie Count\")\n",
    "\n",
    "plt.xticks(range(12), ['Jan','Feb','Mar','Apr','May','Jun','July','Aug','Sep','Oct','Nov','Dec'])\n",
    "plt.show()"
   ]
  }
 ],
 "metadata": {
  "kernelspec": {
   "display_name": "Python (learn-env)",
   "language": "python",
   "name": "learn-env"
  },
  "language_info": {
   "codemirror_mode": {
    "name": "ipython",
    "version": 3
   },
   "file_extension": ".py",
   "mimetype": "text/x-python",
   "name": "python",
   "nbconvert_exporter": "python",
   "pygments_lexer": "ipython3",
   "version": "3.8.5"
  }
 },
 "nbformat": 4,
 "nbformat_minor": 4
}
