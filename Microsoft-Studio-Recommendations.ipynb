{
 "cells": [
  {
   "cell_type": "markdown",
   "metadata": {},
   "source": [
    "![image](images/microsoft_logo.jpeg)"
   ]
  },
  {
   "cell_type": "markdown",
   "metadata": {},
   "source": [
    "# Microsoft Movie Studio\n",
    "#### Business Recommendations \n",
    "\n",
    "**Authors:** Valeria Viscarra Fossati, Olgert Hasko, Sally Heinzel, Czarina Luna \n",
    "\n",
    "##### December 2021\n",
    "\n",
    "***\n"
   ]
  },
  {
   "cell_type": "markdown",
   "metadata": {},
   "source": [
    "## Overview\n",
    "\n",
    "Microsoft is creating a new movie studio. As it prepares to create original video content, it seeks to understand the film industry. We, the advisory team, explored movie production data to help Microsoft successfully launch its first film. We started by conducting a web scrape to extract two datasets containing all the relevant film information. We then merged our datasets and cleaned our data by turning certain strings into floats, adjusting dates to show more details, removing Null values, and adding a column for the rate of return based on the production budget and box office returns. Once the data was clean, we created plots to determine which genres had the highest rate of return, which release dates yielded the highest revenue by genre, and which runtimes were optimal for each genre. Based on the data, we determined that horror films yielded the highest rate of return. The best month to release a horror film is October, and the most optimal film length is 90-105 minutes."
   ]
  },
  {
   "cell_type": "markdown",
   "metadata": {},
   "source": [
    "## Business Problem\n",
    "\n",
    "The advisory team will examine the movies that did well at the box office, and the ones that did not. To guide our analysis, we asked the following questions:\n",
    "1. Is there a correlation between production budget and box office return?\n",
    "2. What are the highest grossing genres?\n",
    "3. Which genre returns the highest investment?\n",
    "4. What is the best time to release a movie?\n",
    "5. How long should the film be?\n",
    "\n",
    "\n",
    "Scraping data from The Numbers, a premiere movie industry data and research service, we describe patterns in profitable movies to aid Microsoft in launching a movie studio that will be successful starting on its opening night."
   ]
  },
  {
   "cell_type": "markdown",
   "metadata": {},
   "source": [
    "## Data Understanding\n",
    "\n",
    "The available datasets included data from The Numbers and IMDb, online databases containing movie industry information. The Numbers data included variables necessary for our analysis, such as production budget and gross profits, while the IMDb data included other important variables, like genres. However, merging these datasets resulted in a significant loss of movies to analyze resulting from numerous unmatched values. Due to this loss, the advisory team acquired additional data by scraping The Numbers website. The complete chart (https://www.the-numbers.com/movie/budgets/all) consisted of all films in their database that includes financial information.\n",
    "\n",
    "The dataset contains a total of 6,100 films ranging over almost a hundred years, including films release this year, which is larger and more recent than the data set we initially had. It also contains the variables from the other data sets that we initially targeted. Therefore, the advisory team decided to use this data set for our analysis.\n",
    "\n",
    "We merged our two datasets together, creating a data set with the following variables: \n",
    "- the budget and gross figures to be used in finding profits and losses; \n",
    "- the genres to be compared with one another; \n",
    "- the release date to be sliced into day, month, and quarter of the years; \n",
    "- and the runtime in minutes to compare longer and shorter films. \n",
    "\n",
    "Given the domestic gross and worldwide gross, we will use the worldwide box office returns to analyze the correlation between production budget and overall profits.\n",
    "\n",
    "***"
   ]
  },
  {
   "cell_type": "markdown",
   "metadata": {},
   "source": [
    "We imported the Python libraries required for the data analysis."
   ]
  },
  {
   "cell_type": "code",
   "execution_count": 1,
   "metadata": {},
   "outputs": [],
   "source": [
    "import pandas as pd\n",
    "import numpy as np\n",
    "import matplotlib.pyplot as plt\n",
    "import seaborn as sns\n",
    "\n",
    "%matplotlib inline"
   ]
  },
  {
   "cell_type": "code",
   "execution_count": 2,
   "metadata": {},
   "outputs": [],
   "source": [
    "# Read the datasets\n",
    "\n",
    "df1 = pd.read_csv(\"data/tngross.csv\")\n",
    "df2 = pd.read_csv(\"data/tnproduction.csv\")"
   ]
  },
  {
   "cell_type": "code",
   "execution_count": 3,
   "metadata": {},
   "outputs": [
    {
     "data": {
      "text/html": [
       "<div>\n",
       "<style scoped>\n",
       "    .dataframe tbody tr th:only-of-type {\n",
       "        vertical-align: middle;\n",
       "    }\n",
       "\n",
       "    .dataframe tbody tr th {\n",
       "        vertical-align: top;\n",
       "    }\n",
       "\n",
       "    .dataframe thead th {\n",
       "        text-align: right;\n",
       "    }\n",
       "</style>\n",
       "<table border=\"1\" class=\"dataframe\">\n",
       "  <thead>\n",
       "    <tr style=\"text-align: right;\">\n",
       "      <th></th>\n",
       "      <th>Unnamed: 0</th>\n",
       "      <th>release_date</th>\n",
       "      <th>movie</th>\n",
       "      <th>production_budget</th>\n",
       "      <th>domestic_gross</th>\n",
       "      <th>worldwide_gross</th>\n",
       "    </tr>\n",
       "  </thead>\n",
       "  <tbody>\n",
       "    <tr>\n",
       "      <th>0</th>\n",
       "      <td>0</td>\n",
       "      <td>Apr 23, 2019</td>\n",
       "      <td>Avengers: Endgame</td>\n",
       "      <td>$400,000,000</td>\n",
       "      <td>$858,373,000</td>\n",
       "      <td>$2,797,800,564</td>\n",
       "    </tr>\n",
       "    <tr>\n",
       "      <th>1</th>\n",
       "      <td>1</td>\n",
       "      <td>May 20, 2011</td>\n",
       "      <td>Pirates of the Caribbean: On Stranger Tides</td>\n",
       "      <td>$379,000,000</td>\n",
       "      <td>$241,071,802</td>\n",
       "      <td>$1,045,713,802</td>\n",
       "    </tr>\n",
       "    <tr>\n",
       "      <th>2</th>\n",
       "      <td>2</td>\n",
       "      <td>Apr 22, 2015</td>\n",
       "      <td>Avengers: Age of Ultron</td>\n",
       "      <td>$365,000,000</td>\n",
       "      <td>$459,005,868</td>\n",
       "      <td>$1,395,316,979</td>\n",
       "    </tr>\n",
       "    <tr>\n",
       "      <th>3</th>\n",
       "      <td>3</td>\n",
       "      <td>Dec 16, 2015</td>\n",
       "      <td>Star Wars Ep. VII: The Force Awakens</td>\n",
       "      <td>$306,000,000</td>\n",
       "      <td>$936,662,225</td>\n",
       "      <td>$2,064,615,817</td>\n",
       "    </tr>\n",
       "    <tr>\n",
       "      <th>4</th>\n",
       "      <td>4</td>\n",
       "      <td>Apr 25, 2018</td>\n",
       "      <td>Avengers: Infinity War</td>\n",
       "      <td>$300,000,000</td>\n",
       "      <td>$678,815,482</td>\n",
       "      <td>$2,044,540,523</td>\n",
       "    </tr>\n",
       "  </tbody>\n",
       "</table>\n",
       "</div>"
      ],
      "text/plain": [
       "   Unnamed: 0  release_date                                        movie  \\\n",
       "0           0  Apr 23, 2019                            Avengers: Endgame   \n",
       "1           1  May 20, 2011  Pirates of the Caribbean: On Stranger Tides   \n",
       "2           2  Apr 22, 2015                      Avengers: Age of Ultron   \n",
       "3           3  Dec 16, 2015         Star Wars Ep. VII: The Force Awakens   \n",
       "4           4  Apr 25, 2018                       Avengers: Infinity War   \n",
       "\n",
       "  production_budget domestic_gross worldwide_gross  \n",
       "0      $400,000,000   $858,373,000  $2,797,800,564  \n",
       "1      $379,000,000   $241,071,802  $1,045,713,802  \n",
       "2      $365,000,000   $459,005,868  $1,395,316,979  \n",
       "3      $306,000,000   $936,662,225  $2,064,615,817  \n",
       "4      $300,000,000   $678,815,482  $2,044,540,523  "
      ]
     },
     "execution_count": 3,
     "metadata": {},
     "output_type": "execute_result"
    }
   ],
   "source": [
    "# Look at the top five and bottom five rows of each data set for a better understanding\n",
    "\n",
    "df1.head()"
   ]
  },
  {
   "cell_type": "code",
   "execution_count": 4,
   "metadata": {},
   "outputs": [
    {
     "data": {
      "text/html": [
       "<div>\n",
       "<style scoped>\n",
       "    .dataframe tbody tr th:only-of-type {\n",
       "        vertical-align: middle;\n",
       "    }\n",
       "\n",
       "    .dataframe tbody tr th {\n",
       "        vertical-align: top;\n",
       "    }\n",
       "\n",
       "    .dataframe thead th {\n",
       "        text-align: right;\n",
       "    }\n",
       "</style>\n",
       "<table border=\"1\" class=\"dataframe\">\n",
       "  <thead>\n",
       "    <tr style=\"text-align: right;\">\n",
       "      <th></th>\n",
       "      <th>Unnamed: 0</th>\n",
       "      <th>release_date</th>\n",
       "      <th>movie</th>\n",
       "      <th>production_budget</th>\n",
       "      <th>domestic_gross</th>\n",
       "      <th>worldwide_gross</th>\n",
       "    </tr>\n",
       "  </thead>\n",
       "  <tbody>\n",
       "    <tr>\n",
       "      <th>6095</th>\n",
       "      <td>6095</td>\n",
       "      <td>Mar 17, 2015</td>\n",
       "      <td>Closure</td>\n",
       "      <td>$100,000</td>\n",
       "      <td>$0</td>\n",
       "      <td>$0</td>\n",
       "    </tr>\n",
       "    <tr>\n",
       "      <th>6096</th>\n",
       "      <td>6096</td>\n",
       "      <td>Aug 29, 2015</td>\n",
       "      <td>Lunch Time Heroes</td>\n",
       "      <td>$100,000</td>\n",
       "      <td>$0</td>\n",
       "      <td>$0</td>\n",
       "    </tr>\n",
       "    <tr>\n",
       "      <th>6097</th>\n",
       "      <td>6097</td>\n",
       "      <td>Mar 25, 2015</td>\n",
       "      <td>Open Secret</td>\n",
       "      <td>$100,000</td>\n",
       "      <td>$0</td>\n",
       "      <td>$0</td>\n",
       "    </tr>\n",
       "    <tr>\n",
       "      <th>6098</th>\n",
       "      <td>6098</td>\n",
       "      <td>Nov 10, 2015</td>\n",
       "      <td>The Night Visitor</td>\n",
       "      <td>$100,000</td>\n",
       "      <td>$0</td>\n",
       "      <td>$0</td>\n",
       "    </tr>\n",
       "    <tr>\n",
       "      <th>6099</th>\n",
       "      <td>6099</td>\n",
       "      <td>Jul 7, 2015</td>\n",
       "      <td>Tiger Orange</td>\n",
       "      <td>$100,000</td>\n",
       "      <td>$0</td>\n",
       "      <td>$0</td>\n",
       "    </tr>\n",
       "  </tbody>\n",
       "</table>\n",
       "</div>"
      ],
      "text/plain": [
       "      Unnamed: 0  release_date              movie production_budget  \\\n",
       "6095        6095  Mar 17, 2015            Closure          $100,000   \n",
       "6096        6096  Aug 29, 2015  Lunch Time Heroes          $100,000   \n",
       "6097        6097  Mar 25, 2015        Open Secret          $100,000   \n",
       "6098        6098  Nov 10, 2015  The Night Visitor          $100,000   \n",
       "6099        6099   Jul 7, 2015       Tiger Orange          $100,000   \n",
       "\n",
       "     domestic_gross worldwide_gross  \n",
       "6095             $0              $0  \n",
       "6096             $0              $0  \n",
       "6097             $0              $0  \n",
       "6098             $0              $0  \n",
       "6099             $0              $0  "
      ]
     },
     "execution_count": 4,
     "metadata": {},
     "output_type": "execute_result"
    }
   ],
   "source": [
    "df1.tail()"
   ]
  },
  {
   "cell_type": "code",
   "execution_count": 5,
   "metadata": {},
   "outputs": [
    {
     "data": {
      "text/html": [
       "<div>\n",
       "<style scoped>\n",
       "    .dataframe tbody tr th:only-of-type {\n",
       "        vertical-align: middle;\n",
       "    }\n",
       "\n",
       "    .dataframe tbody tr th {\n",
       "        vertical-align: top;\n",
       "    }\n",
       "\n",
       "    .dataframe thead th {\n",
       "        text-align: right;\n",
       "    }\n",
       "</style>\n",
       "<table border=\"1\" class=\"dataframe\">\n",
       "  <thead>\n",
       "    <tr style=\"text-align: right;\">\n",
       "      <th></th>\n",
       "      <th>Unnamed: 0</th>\n",
       "      <th>runtime_minutes</th>\n",
       "      <th>genres</th>\n",
       "      <th>production_company</th>\n",
       "      <th>production_country</th>\n",
       "    </tr>\n",
       "  </thead>\n",
       "  <tbody>\n",
       "    <tr>\n",
       "      <th>0</th>\n",
       "      <td>0</td>\n",
       "      <td>181 minutes</td>\n",
       "      <td>Action</td>\n",
       "      <td>Marvel Studios</td>\n",
       "      <td>United States</td>\n",
       "    </tr>\n",
       "    <tr>\n",
       "      <th>1</th>\n",
       "      <td>1</td>\n",
       "      <td>136 minutes</td>\n",
       "      <td>Adventure</td>\n",
       "      <td>Walt Disney Pictures</td>\n",
       "      <td>United States</td>\n",
       "    </tr>\n",
       "    <tr>\n",
       "      <th>2</th>\n",
       "      <td>2</td>\n",
       "      <td>141 minutes</td>\n",
       "      <td>Action</td>\n",
       "      <td>Marvel Studios</td>\n",
       "      <td>United States</td>\n",
       "    </tr>\n",
       "    <tr>\n",
       "      <th>3</th>\n",
       "      <td>3</td>\n",
       "      <td>136 minutes</td>\n",
       "      <td>Adventure</td>\n",
       "      <td>Lucasfilm, Bad Robot</td>\n",
       "      <td>United States</td>\n",
       "    </tr>\n",
       "    <tr>\n",
       "      <th>4</th>\n",
       "      <td>4</td>\n",
       "      <td>156 minutes</td>\n",
       "      <td>Action</td>\n",
       "      <td>Marvel Studios</td>\n",
       "      <td>United States</td>\n",
       "    </tr>\n",
       "  </tbody>\n",
       "</table>\n",
       "</div>"
      ],
      "text/plain": [
       "   Unnamed: 0 runtime_minutes     genres    production_company  \\\n",
       "0           0     181 minutes     Action        Marvel Studios   \n",
       "1           1     136 minutes  Adventure  Walt Disney Pictures   \n",
       "2           2     141 minutes     Action        Marvel Studios   \n",
       "3           3     136 minutes  Adventure  Lucasfilm, Bad Robot   \n",
       "4           4     156 minutes     Action        Marvel Studios   \n",
       "\n",
       "  production_country  \n",
       "0      United States  \n",
       "1      United States  \n",
       "2      United States  \n",
       "3      United States  \n",
       "4      United States  "
      ]
     },
     "execution_count": 5,
     "metadata": {},
     "output_type": "execute_result"
    }
   ],
   "source": [
    "df2.head()"
   ]
  },
  {
   "cell_type": "code",
   "execution_count": 6,
   "metadata": {
    "scrolled": true
   },
   "outputs": [
    {
     "data": {
      "text/html": [
       "<div>\n",
       "<style scoped>\n",
       "    .dataframe tbody tr th:only-of-type {\n",
       "        vertical-align: middle;\n",
       "    }\n",
       "\n",
       "    .dataframe tbody tr th {\n",
       "        vertical-align: top;\n",
       "    }\n",
       "\n",
       "    .dataframe thead th {\n",
       "        text-align: right;\n",
       "    }\n",
       "</style>\n",
       "<table border=\"1\" class=\"dataframe\">\n",
       "  <thead>\n",
       "    <tr style=\"text-align: right;\">\n",
       "      <th></th>\n",
       "      <th>Unnamed: 0</th>\n",
       "      <th>runtime_minutes</th>\n",
       "      <th>genres</th>\n",
       "      <th>production_company</th>\n",
       "      <th>production_country</th>\n",
       "    </tr>\n",
       "  </thead>\n",
       "  <tbody>\n",
       "    <tr>\n",
       "      <th>6095</th>\n",
       "      <td>6095</td>\n",
       "      <td>90 minutes</td>\n",
       "      <td>Drama</td>\n",
       "      <td>None</td>\n",
       "      <td>United States</td>\n",
       "    </tr>\n",
       "    <tr>\n",
       "      <th>6096</th>\n",
       "      <td>6096</td>\n",
       "      <td>88 minutes</td>\n",
       "      <td>Adventure</td>\n",
       "      <td>Phebean Films</td>\n",
       "      <td>Nigeria</td>\n",
       "    </tr>\n",
       "    <tr>\n",
       "      <th>6097</th>\n",
       "      <td>6097</td>\n",
       "      <td>None</td>\n",
       "      <td>Documentary</td>\n",
       "      <td>None</td>\n",
       "      <td>United States</td>\n",
       "    </tr>\n",
       "    <tr>\n",
       "      <th>6098</th>\n",
       "      <td>6098</td>\n",
       "      <td>None</td>\n",
       "      <td>Horror</td>\n",
       "      <td>None</td>\n",
       "      <td>United States</td>\n",
       "    </tr>\n",
       "    <tr>\n",
       "      <th>6099</th>\n",
       "      <td>6099</td>\n",
       "      <td>81 minutes</td>\n",
       "      <td>Drama</td>\n",
       "      <td>None</td>\n",
       "      <td>United States</td>\n",
       "    </tr>\n",
       "  </tbody>\n",
       "</table>\n",
       "</div>"
      ],
      "text/plain": [
       "      Unnamed: 0 runtime_minutes       genres production_company  \\\n",
       "6095        6095      90 minutes        Drama               None   \n",
       "6096        6096      88 minutes    Adventure      Phebean Films   \n",
       "6097        6097            None  Documentary               None   \n",
       "6098        6098            None       Horror               None   \n",
       "6099        6099      81 minutes        Drama               None   \n",
       "\n",
       "     production_country  \n",
       "6095      United States  \n",
       "6096            Nigeria  \n",
       "6097      United States  \n",
       "6098      United States  \n",
       "6099      United States  "
      ]
     },
     "execution_count": 6,
     "metadata": {},
     "output_type": "execute_result"
    }
   ],
   "source": [
    "df2.tail()"
   ]
  },
  {
   "cell_type": "markdown",
   "metadata": {},
   "source": [
    "## Data Preparation\n",
    "\n",
    "### Merging Datasets\n",
    "First, we merge the datasets on column \"Unnamed: 0\" to match the movies from the first dataset to the additional information on the second dataset. Then we dropped the same column and used the merged data frame’s index."
   ]
  },
  {
   "cell_type": "code",
   "execution_count": 7,
   "metadata": {},
   "outputs": [],
   "source": [
    "# Merge the two datasets\n",
    "\n",
    "df = df1.merge(df2, on=\"Unnamed: 0\")"
   ]
  },
  {
   "cell_type": "code",
   "execution_count": 8,
   "metadata": {},
   "outputs": [],
   "source": [
    "# Drop the unnamed column as we already have an index\n",
    "\n",
    "df = df.drop(\"Unnamed: 0\", axis=1)"
   ]
  },
  {
   "cell_type": "code",
   "execution_count": 9,
   "metadata": {},
   "outputs": [
    {
     "name": "stdout",
     "output_type": "stream",
     "text": [
      "<class 'pandas.core.frame.DataFrame'>\n",
      "Int64Index: 6100 entries, 0 to 6099\n",
      "Data columns (total 9 columns):\n",
      " #   Column              Non-Null Count  Dtype \n",
      "---  ------              --------------  ----- \n",
      " 0   release_date        6100 non-null   object\n",
      " 1   movie               6100 non-null   object\n",
      " 2   production_budget   6100 non-null   object\n",
      " 3   domestic_gross      6100 non-null   object\n",
      " 4   worldwide_gross     6100 non-null   object\n",
      " 5   runtime_minutes     6100 non-null   object\n",
      " 6   genres              6100 non-null   object\n",
      " 7   production_company  6100 non-null   object\n",
      " 8   production_country  6100 non-null   object\n",
      "dtypes: object(9)\n",
      "memory usage: 476.6+ KB\n"
     ]
    }
   ],
   "source": [
    "# Check the columns, data types, and check for missing values\n",
    "\n",
    "df.info()"
   ]
  },
  {
   "cell_type": "markdown",
   "metadata": {},
   "source": [
    "### Check for Duplicates\n",
    "\n",
    "After combining the data sets, we wanted to verify if the duplicate movie names were movies that were movie remakes or if the data was repeating.  The duplicate movie names were not duplicate values but movie remakes. \n"
   ]
  },
  {
   "cell_type": "code",
   "execution_count": 10,
   "metadata": {
    "scrolled": false
   },
   "outputs": [
    {
     "data": {
      "text/html": [
       "<div>\n",
       "<style scoped>\n",
       "    .dataframe tbody tr th:only-of-type {\n",
       "        vertical-align: middle;\n",
       "    }\n",
       "\n",
       "    .dataframe tbody tr th {\n",
       "        vertical-align: top;\n",
       "    }\n",
       "\n",
       "    .dataframe thead th {\n",
       "        text-align: right;\n",
       "    }\n",
       "</style>\n",
       "<table border=\"1\" class=\"dataframe\">\n",
       "  <thead>\n",
       "    <tr style=\"text-align: right;\">\n",
       "      <th></th>\n",
       "      <th>release_date</th>\n",
       "      <th>movie</th>\n",
       "      <th>production_budget</th>\n",
       "      <th>domestic_gross</th>\n",
       "      <th>worldwide_gross</th>\n",
       "      <th>runtime_minutes</th>\n",
       "      <th>genres</th>\n",
       "      <th>production_company</th>\n",
       "      <th>production_country</th>\n",
       "    </tr>\n",
       "  </thead>\n",
       "  <tbody>\n",
       "    <tr>\n",
       "      <th>13</th>\n",
       "      <td>Jul 11, 2019</td>\n",
       "      <td>The Lion King</td>\n",
       "      <td>$260,000,000</td>\n",
       "      <td>$543,638,043</td>\n",
       "      <td>$1,654,367,425</td>\n",
       "      <td>118 minutes</td>\n",
       "      <td>Adventure</td>\n",
       "      <td>Walt Disney Pictures, Fairview Entertainment</td>\n",
       "      <td>United States</td>\n",
       "    </tr>\n",
       "    <tr>\n",
       "      <th>27</th>\n",
       "      <td>Apr 25, 2012</td>\n",
       "      <td>The Avengers</td>\n",
       "      <td>$225,000,000</td>\n",
       "      <td>$623,357,910</td>\n",
       "      <td>$1,515,100,211</td>\n",
       "      <td>143 minutes</td>\n",
       "      <td>Action</td>\n",
       "      <td>Marvel Studios, Paramount Pictures</td>\n",
       "      <td>United States</td>\n",
       "    </tr>\n",
       "    <tr>\n",
       "      <th>40</th>\n",
       "      <td>May 14, 2010</td>\n",
       "      <td>Robin Hood</td>\n",
       "      <td>$210,000,000</td>\n",
       "      <td>$105,487,148</td>\n",
       "      <td>$322,459,006</td>\n",
       "      <td>139 minutes</td>\n",
       "      <td>Action</td>\n",
       "      <td>United Artists, Fairbanks</td>\n",
       "      <td>United Kingdom, United States</td>\n",
       "    </tr>\n",
       "    <tr>\n",
       "      <th>41</th>\n",
       "      <td>Dec 14, 2005</td>\n",
       "      <td>King Kong</td>\n",
       "      <td>$207,000,000</td>\n",
       "      <td>$218,080,025</td>\n",
       "      <td>$550,517,357</td>\n",
       "      <td>189 minutes</td>\n",
       "      <td>Adventure</td>\n",
       "      <td>Wingnut Films</td>\n",
       "      <td>New Zealand, United States</td>\n",
       "    </tr>\n",
       "    <tr>\n",
       "      <th>54</th>\n",
       "      <td>Mar 4, 2010</td>\n",
       "      <td>Alice in Wonderland</td>\n",
       "      <td>$200,000,000</td>\n",
       "      <td>$334,191,110</td>\n",
       "      <td>$1,025,491,110</td>\n",
       "      <td>108 minutes</td>\n",
       "      <td>Adventure</td>\n",
       "      <td>Walt Disney Pictures, Roth Films, Zancuk Company</td>\n",
       "      <td>United States</td>\n",
       "    </tr>\n",
       "    <tr>\n",
       "      <th>...</th>\n",
       "      <td>...</td>\n",
       "      <td>...</td>\n",
       "      <td>...</td>\n",
       "      <td>...</td>\n",
       "      <td>...</td>\n",
       "      <td>...</td>\n",
       "      <td>...</td>\n",
       "      <td>...</td>\n",
       "      <td>...</td>\n",
       "    </tr>\n",
       "    <tr>\n",
       "      <th>6056</th>\n",
       "      <td>Mar 1, 2002</td>\n",
       "      <td>The Calling</td>\n",
       "      <td>$160,000</td>\n",
       "      <td>$32,092</td>\n",
       "      <td>$32,092</td>\n",
       "      <td>None</td>\n",
       "      <td>Drama</td>\n",
       "      <td>None</td>\n",
       "      <td>None</td>\n",
       "    </tr>\n",
       "    <tr>\n",
       "      <th>6066</th>\n",
       "      <td>Oct 18, 1974</td>\n",
       "      <td>The Texas Chainsaw Massacre</td>\n",
       "      <td>$140,000</td>\n",
       "      <td>$26,572,439</td>\n",
       "      <td>$26,572,439</td>\n",
       "      <td>83 minutes</td>\n",
       "      <td>Horror</td>\n",
       "      <td>None</td>\n",
       "      <td>United States</td>\n",
       "    </tr>\n",
       "    <tr>\n",
       "      <th>6069</th>\n",
       "      <td>Nov 16, 1942</td>\n",
       "      <td>Cat People</td>\n",
       "      <td>$134,000</td>\n",
       "      <td>$4,000,000</td>\n",
       "      <td>$8,000,000</td>\n",
       "      <td>73 minutes</td>\n",
       "      <td>Drama</td>\n",
       "      <td>None</td>\n",
       "      <td>United States</td>\n",
       "    </tr>\n",
       "    <tr>\n",
       "      <th>6077</th>\n",
       "      <td>Oct 1, 1968</td>\n",
       "      <td>Night of the Living Dead</td>\n",
       "      <td>$114,000</td>\n",
       "      <td>$12,087,064</td>\n",
       "      <td>$30,087,064</td>\n",
       "      <td>96 minutes</td>\n",
       "      <td>Horror</td>\n",
       "      <td>None</td>\n",
       "      <td>United States</td>\n",
       "    </tr>\n",
       "    <tr>\n",
       "      <th>6078</th>\n",
       "      <td>Feb 8, 1915</td>\n",
       "      <td>The Birth of a Nation</td>\n",
       "      <td>$110,000</td>\n",
       "      <td>$10,000,000</td>\n",
       "      <td>$11,000,000</td>\n",
       "      <td>190 minutes</td>\n",
       "      <td>Drama</td>\n",
       "      <td>None</td>\n",
       "      <td>United States</td>\n",
       "    </tr>\n",
       "  </tbody>\n",
       "</table>\n",
       "<p>190 rows × 9 columns</p>\n",
       "</div>"
      ],
      "text/plain": [
       "      release_date                        movie production_budget  \\\n",
       "13    Jul 11, 2019                The Lion King      $260,000,000   \n",
       "27    Apr 25, 2012                 The Avengers      $225,000,000   \n",
       "40    May 14, 2010                   Robin Hood      $210,000,000   \n",
       "41    Dec 14, 2005                    King Kong      $207,000,000   \n",
       "54     Mar 4, 2010          Alice in Wonderland      $200,000,000   \n",
       "...            ...                          ...               ...   \n",
       "6056   Mar 1, 2002                  The Calling          $160,000   \n",
       "6066  Oct 18, 1974  The Texas Chainsaw Massacre          $140,000   \n",
       "6069  Nov 16, 1942                   Cat People          $134,000   \n",
       "6077   Oct 1, 1968     Night of the Living Dead          $114,000   \n",
       "6078   Feb 8, 1915        The Birth of a Nation          $110,000   \n",
       "\n",
       "     domestic_gross worldwide_gross runtime_minutes     genres  \\\n",
       "13     $543,638,043  $1,654,367,425     118 minutes  Adventure   \n",
       "27     $623,357,910  $1,515,100,211     143 minutes     Action   \n",
       "40     $105,487,148    $322,459,006     139 minutes     Action   \n",
       "41     $218,080,025    $550,517,357     189 minutes  Adventure   \n",
       "54     $334,191,110  $1,025,491,110     108 minutes  Adventure   \n",
       "...             ...             ...             ...        ...   \n",
       "6056        $32,092         $32,092            None      Drama   \n",
       "6066    $26,572,439     $26,572,439      83 minutes     Horror   \n",
       "6069     $4,000,000      $8,000,000      73 minutes      Drama   \n",
       "6077    $12,087,064     $30,087,064      96 minutes     Horror   \n",
       "6078    $10,000,000     $11,000,000     190 minutes      Drama   \n",
       "\n",
       "                                    production_company  \\\n",
       "13        Walt Disney Pictures, Fairview Entertainment   \n",
       "27                  Marvel Studios, Paramount Pictures   \n",
       "40                           United Artists, Fairbanks   \n",
       "41                                       Wingnut Films   \n",
       "54    Walt Disney Pictures, Roth Films, Zancuk Company   \n",
       "...                                                ...   \n",
       "6056                                              None   \n",
       "6066                                              None   \n",
       "6069                                              None   \n",
       "6077                                              None   \n",
       "6078                                              None   \n",
       "\n",
       "                 production_country  \n",
       "13                    United States  \n",
       "27                    United States  \n",
       "40    United Kingdom, United States  \n",
       "41       New Zealand, United States  \n",
       "54                    United States  \n",
       "...                             ...  \n",
       "6056                           None  \n",
       "6066                  United States  \n",
       "6069                  United States  \n",
       "6077                  United States  \n",
       "6078                  United States  \n",
       "\n",
       "[190 rows x 9 columns]"
      ]
     },
     "execution_count": 10,
     "metadata": {},
     "output_type": "execute_result"
    }
   ],
   "source": [
    "# Filter data to show if there are duplicate values by their movie names\n",
    "\n",
    "duplicate_df = df[df['movie'].duplicated(keep=False)]\n",
    "duplicate_df"
   ]
  },
  {
   "cell_type": "code",
   "execution_count": 11,
   "metadata": {},
   "outputs": [
    {
     "data": {
      "text/html": [
       "<div>\n",
       "<style scoped>\n",
       "    .dataframe tbody tr th:only-of-type {\n",
       "        vertical-align: middle;\n",
       "    }\n",
       "\n",
       "    .dataframe tbody tr th {\n",
       "        vertical-align: top;\n",
       "    }\n",
       "\n",
       "    .dataframe thead th {\n",
       "        text-align: right;\n",
       "    }\n",
       "</style>\n",
       "<table border=\"1\" class=\"dataframe\">\n",
       "  <thead>\n",
       "    <tr style=\"text-align: right;\">\n",
       "      <th></th>\n",
       "      <th>release_date</th>\n",
       "      <th>movie</th>\n",
       "      <th>production_budget</th>\n",
       "      <th>domestic_gross</th>\n",
       "      <th>worldwide_gross</th>\n",
       "      <th>runtime_minutes</th>\n",
       "      <th>genres</th>\n",
       "      <th>production_company</th>\n",
       "      <th>production_country</th>\n",
       "    </tr>\n",
       "  </thead>\n",
       "  <tbody>\n",
       "  </tbody>\n",
       "</table>\n",
       "</div>"
      ],
      "text/plain": [
       "Empty DataFrame\n",
       "Columns: [release_date, movie, production_budget, domestic_gross, worldwide_gross, runtime_minutes, genres, production_company, production_country]\n",
       "Index: []"
      ]
     },
     "execution_count": 11,
     "metadata": {},
     "output_type": "execute_result"
    }
   ],
   "source": [
    "# Check if there are duplicated names of movies with the same dates of release\n",
    "\n",
    "duplicate_df[duplicate_df.duplicated(subset=['movie','release_date'], keep=False)]"
   ]
  },
  {
   "cell_type": "markdown",
   "metadata": {},
   "source": [
    "### Converting Data Types\n",
    "The next step was to convert the release date from a  string to a date-time format.  We then updated the columns that had dollar signs to remove “$” and “,” before changing the string values to integers."
   ]
  },
  {
   "cell_type": "code",
   "execution_count": 12,
   "metadata": {},
   "outputs": [],
   "source": [
    "# Convert the release date values to a date-time format\n",
    "\n",
    "df['release_date'] = pd.to_datetime(df['release_date'], errors='coerce', format='%b %d, %Y')"
   ]
  },
  {
   "cell_type": "code",
   "execution_count": 13,
   "metadata": {},
   "outputs": [],
   "source": [
    "# Create a function to change the format of the dollar amount values\n",
    "\n",
    "def dollar_to_int(column):\n",
    "    return column.str.replace('$', '').str.replace(',', '').map(int)\n",
    "\n",
    "df[['production_budget', 'domestic_gross', 'worldwide_gross']] = df[['production_budget', 'domestic_gross', 'worldwide_gross']].apply(dollar_to_int)"
   ]
  },
  {
   "cell_type": "code",
   "execution_count": 14,
   "metadata": {},
   "outputs": [
    {
     "data": {
      "text/html": [
       "<div>\n",
       "<style scoped>\n",
       "    .dataframe tbody tr th:only-of-type {\n",
       "        vertical-align: middle;\n",
       "    }\n",
       "\n",
       "    .dataframe tbody tr th {\n",
       "        vertical-align: top;\n",
       "    }\n",
       "\n",
       "    .dataframe thead th {\n",
       "        text-align: right;\n",
       "    }\n",
       "</style>\n",
       "<table border=\"1\" class=\"dataframe\">\n",
       "  <thead>\n",
       "    <tr style=\"text-align: right;\">\n",
       "      <th></th>\n",
       "      <th>release_date</th>\n",
       "      <th>movie</th>\n",
       "      <th>production_budget</th>\n",
       "      <th>domestic_gross</th>\n",
       "      <th>worldwide_gross</th>\n",
       "      <th>runtime_minutes</th>\n",
       "      <th>genres</th>\n",
       "      <th>production_company</th>\n",
       "      <th>production_country</th>\n",
       "    </tr>\n",
       "  </thead>\n",
       "  <tbody>\n",
       "    <tr>\n",
       "      <th>0</th>\n",
       "      <td>2019-04-23</td>\n",
       "      <td>Avengers: Endgame</td>\n",
       "      <td>400000000</td>\n",
       "      <td>858373000</td>\n",
       "      <td>2797800564</td>\n",
       "      <td>181 minutes</td>\n",
       "      <td>Action</td>\n",
       "      <td>Marvel Studios</td>\n",
       "      <td>United States</td>\n",
       "    </tr>\n",
       "    <tr>\n",
       "      <th>1</th>\n",
       "      <td>2011-05-20</td>\n",
       "      <td>Pirates of the Caribbean: On Stranger Tides</td>\n",
       "      <td>379000000</td>\n",
       "      <td>241071802</td>\n",
       "      <td>1045713802</td>\n",
       "      <td>136 minutes</td>\n",
       "      <td>Adventure</td>\n",
       "      <td>Walt Disney Pictures</td>\n",
       "      <td>United States</td>\n",
       "    </tr>\n",
       "    <tr>\n",
       "      <th>2</th>\n",
       "      <td>2015-04-22</td>\n",
       "      <td>Avengers: Age of Ultron</td>\n",
       "      <td>365000000</td>\n",
       "      <td>459005868</td>\n",
       "      <td>1395316979</td>\n",
       "      <td>141 minutes</td>\n",
       "      <td>Action</td>\n",
       "      <td>Marvel Studios</td>\n",
       "      <td>United States</td>\n",
       "    </tr>\n",
       "    <tr>\n",
       "      <th>3</th>\n",
       "      <td>2015-12-16</td>\n",
       "      <td>Star Wars Ep. VII: The Force Awakens</td>\n",
       "      <td>306000000</td>\n",
       "      <td>936662225</td>\n",
       "      <td>2064615817</td>\n",
       "      <td>136 minutes</td>\n",
       "      <td>Adventure</td>\n",
       "      <td>Lucasfilm, Bad Robot</td>\n",
       "      <td>United States</td>\n",
       "    </tr>\n",
       "    <tr>\n",
       "      <th>4</th>\n",
       "      <td>2018-04-25</td>\n",
       "      <td>Avengers: Infinity War</td>\n",
       "      <td>300000000</td>\n",
       "      <td>678815482</td>\n",
       "      <td>2044540523</td>\n",
       "      <td>156 minutes</td>\n",
       "      <td>Action</td>\n",
       "      <td>Marvel Studios</td>\n",
       "      <td>United States</td>\n",
       "    </tr>\n",
       "  </tbody>\n",
       "</table>\n",
       "</div>"
      ],
      "text/plain": [
       "  release_date                                        movie  \\\n",
       "0   2019-04-23                            Avengers: Endgame   \n",
       "1   2011-05-20  Pirates of the Caribbean: On Stranger Tides   \n",
       "2   2015-04-22                      Avengers: Age of Ultron   \n",
       "3   2015-12-16         Star Wars Ep. VII: The Force Awakens   \n",
       "4   2018-04-25                       Avengers: Infinity War   \n",
       "\n",
       "   production_budget  domestic_gross  worldwide_gross runtime_minutes  \\\n",
       "0          400000000       858373000       2797800564     181 minutes   \n",
       "1          379000000       241071802       1045713802     136 minutes   \n",
       "2          365000000       459005868       1395316979     141 minutes   \n",
       "3          306000000       936662225       2064615817     136 minutes   \n",
       "4          300000000       678815482       2044540523     156 minutes   \n",
       "\n",
       "      genres    production_company production_country  \n",
       "0     Action        Marvel Studios      United States  \n",
       "1  Adventure  Walt Disney Pictures      United States  \n",
       "2     Action        Marvel Studios      United States  \n",
       "3  Adventure  Lucasfilm, Bad Robot      United States  \n",
       "4     Action        Marvel Studios      United States  "
      ]
     },
     "execution_count": 14,
     "metadata": {},
     "output_type": "execute_result"
    }
   ],
   "source": [
    "df.head()"
   ]
  },
  {
   "cell_type": "markdown",
   "metadata": {},
   "source": [
    "### Data Cleaning\n",
    "Once the values in the worldwide gross were converted to integers, we removed the 0 values because the 0 values in the column were due to no data being available. Without a value in this column, we could not calculate a movie’s profits and therefore we removed those rows. There were 353 rows eliminated through this step."
   ]
  },
  {
   "cell_type": "code",
   "execution_count": 15,
   "metadata": {},
   "outputs": [
    {
     "data": {
      "text/html": [
       "<div>\n",
       "<style scoped>\n",
       "    .dataframe tbody tr th:only-of-type {\n",
       "        vertical-align: middle;\n",
       "    }\n",
       "\n",
       "    .dataframe tbody tr th {\n",
       "        vertical-align: top;\n",
       "    }\n",
       "\n",
       "    .dataframe thead th {\n",
       "        text-align: right;\n",
       "    }\n",
       "</style>\n",
       "<table border=\"1\" class=\"dataframe\">\n",
       "  <thead>\n",
       "    <tr style=\"text-align: right;\">\n",
       "      <th></th>\n",
       "      <th>release_date</th>\n",
       "      <th>movie</th>\n",
       "      <th>production_budget</th>\n",
       "      <th>domestic_gross</th>\n",
       "      <th>worldwide_gross</th>\n",
       "      <th>runtime_minutes</th>\n",
       "      <th>genres</th>\n",
       "      <th>production_company</th>\n",
       "      <th>production_country</th>\n",
       "    </tr>\n",
       "  </thead>\n",
       "  <tbody>\n",
       "    <tr>\n",
       "      <th>218</th>\n",
       "      <td>2022-02-03</td>\n",
       "      <td>Moonfall</td>\n",
       "      <td>150000000</td>\n",
       "      <td>0</td>\n",
       "      <td>0</td>\n",
       "      <td>None</td>\n",
       "      <td>Action</td>\n",
       "      <td>Centropolis Entertainment, Street Entertainmen...</td>\n",
       "      <td>United States</td>\n",
       "    </tr>\n",
       "    <tr>\n",
       "      <th>243</th>\n",
       "      <td>2022-05-27</td>\n",
       "      <td>Top Gun: Maverick</td>\n",
       "      <td>140000000</td>\n",
       "      <td>0</td>\n",
       "      <td>0</td>\n",
       "      <td>None</td>\n",
       "      <td>Action</td>\n",
       "      <td>Jerry Bruckheimer Films, Skydance Productions,...</td>\n",
       "      <td>United States</td>\n",
       "    </tr>\n",
       "    <tr>\n",
       "      <th>441</th>\n",
       "      <td>2020-06-12</td>\n",
       "      <td>Artemis Fowl</td>\n",
       "      <td>100000000</td>\n",
       "      <td>0</td>\n",
       "      <td>0</td>\n",
       "      <td>115 minutes</td>\n",
       "      <td>Adventure</td>\n",
       "      <td>Walt Disney Pictures, Tribeca Film</td>\n",
       "      <td>United States</td>\n",
       "    </tr>\n",
       "    <tr>\n",
       "      <th>520</th>\n",
       "      <td>2017-12-13</td>\n",
       "      <td>Bright</td>\n",
       "      <td>90000000</td>\n",
       "      <td>0</td>\n",
       "      <td>0</td>\n",
       "      <td>117 minutes</td>\n",
       "      <td>Thriller/Suspense</td>\n",
       "      <td>None</td>\n",
       "      <td>United States</td>\n",
       "    </tr>\n",
       "    <tr>\n",
       "      <th>521</th>\n",
       "      <td>2021-05-14</td>\n",
       "      <td>Army of the Dead</td>\n",
       "      <td>90000000</td>\n",
       "      <td>0</td>\n",
       "      <td>0</td>\n",
       "      <td>148 minutes</td>\n",
       "      <td>Action</td>\n",
       "      <td>Stone Quarry, Netflix</td>\n",
       "      <td>United States</td>\n",
       "    </tr>\n",
       "    <tr>\n",
       "      <th>...</th>\n",
       "      <td>...</td>\n",
       "      <td>...</td>\n",
       "      <td>...</td>\n",
       "      <td>...</td>\n",
       "      <td>...</td>\n",
       "      <td>...</td>\n",
       "      <td>...</td>\n",
       "      <td>...</td>\n",
       "      <td>...</td>\n",
       "    </tr>\n",
       "    <tr>\n",
       "      <th>6095</th>\n",
       "      <td>2015-03-17</td>\n",
       "      <td>Closure</td>\n",
       "      <td>100000</td>\n",
       "      <td>0</td>\n",
       "      <td>0</td>\n",
       "      <td>90 minutes</td>\n",
       "      <td>Drama</td>\n",
       "      <td>None</td>\n",
       "      <td>United States</td>\n",
       "    </tr>\n",
       "    <tr>\n",
       "      <th>6096</th>\n",
       "      <td>2015-08-29</td>\n",
       "      <td>Lunch Time Heroes</td>\n",
       "      <td>100000</td>\n",
       "      <td>0</td>\n",
       "      <td>0</td>\n",
       "      <td>88 minutes</td>\n",
       "      <td>Adventure</td>\n",
       "      <td>Phebean Films</td>\n",
       "      <td>Nigeria</td>\n",
       "    </tr>\n",
       "    <tr>\n",
       "      <th>6097</th>\n",
       "      <td>2015-03-25</td>\n",
       "      <td>Open Secret</td>\n",
       "      <td>100000</td>\n",
       "      <td>0</td>\n",
       "      <td>0</td>\n",
       "      <td>None</td>\n",
       "      <td>Documentary</td>\n",
       "      <td>None</td>\n",
       "      <td>United States</td>\n",
       "    </tr>\n",
       "    <tr>\n",
       "      <th>6098</th>\n",
       "      <td>2015-11-10</td>\n",
       "      <td>The Night Visitor</td>\n",
       "      <td>100000</td>\n",
       "      <td>0</td>\n",
       "      <td>0</td>\n",
       "      <td>None</td>\n",
       "      <td>Horror</td>\n",
       "      <td>None</td>\n",
       "      <td>United States</td>\n",
       "    </tr>\n",
       "    <tr>\n",
       "      <th>6099</th>\n",
       "      <td>2015-07-07</td>\n",
       "      <td>Tiger Orange</td>\n",
       "      <td>100000</td>\n",
       "      <td>0</td>\n",
       "      <td>0</td>\n",
       "      <td>81 minutes</td>\n",
       "      <td>Drama</td>\n",
       "      <td>None</td>\n",
       "      <td>United States</td>\n",
       "    </tr>\n",
       "  </tbody>\n",
       "</table>\n",
       "<p>353 rows × 9 columns</p>\n",
       "</div>"
      ],
      "text/plain": [
       "     release_date              movie  production_budget  domestic_gross  \\\n",
       "218    2022-02-03           Moonfall          150000000               0   \n",
       "243    2022-05-27  Top Gun: Maverick          140000000               0   \n",
       "441    2020-06-12       Artemis Fowl          100000000               0   \n",
       "520    2017-12-13             Bright           90000000               0   \n",
       "521    2021-05-14   Army of the Dead           90000000               0   \n",
       "...           ...                ...                ...             ...   \n",
       "6095   2015-03-17            Closure             100000               0   \n",
       "6096   2015-08-29  Lunch Time Heroes             100000               0   \n",
       "6097   2015-03-25        Open Secret             100000               0   \n",
       "6098   2015-11-10  The Night Visitor             100000               0   \n",
       "6099   2015-07-07       Tiger Orange             100000               0   \n",
       "\n",
       "      worldwide_gross runtime_minutes             genres  \\\n",
       "218                 0            None             Action   \n",
       "243                 0            None             Action   \n",
       "441                 0     115 minutes          Adventure   \n",
       "520                 0     117 minutes  Thriller/Suspense   \n",
       "521                 0     148 minutes             Action   \n",
       "...               ...             ...                ...   \n",
       "6095                0      90 minutes              Drama   \n",
       "6096                0      88 minutes          Adventure   \n",
       "6097                0            None        Documentary   \n",
       "6098                0            None             Horror   \n",
       "6099                0      81 minutes              Drama   \n",
       "\n",
       "                                     production_company production_country  \n",
       "218   Centropolis Entertainment, Street Entertainmen...      United States  \n",
       "243   Jerry Bruckheimer Films, Skydance Productions,...      United States  \n",
       "441                  Walt Disney Pictures, Tribeca Film      United States  \n",
       "520                                                None      United States  \n",
       "521                               Stone Quarry, Netflix      United States  \n",
       "...                                                 ...                ...  \n",
       "6095                                               None      United States  \n",
       "6096                                      Phebean Films            Nigeria  \n",
       "6097                                               None      United States  \n",
       "6098                                               None      United States  \n",
       "6099                                               None      United States  \n",
       "\n",
       "[353 rows x 9 columns]"
      ]
     },
     "execution_count": 15,
     "metadata": {},
     "output_type": "execute_result"
    }
   ],
   "source": [
    "# Show zero values of worldwide gross\n",
    "\n",
    "df[(df['worldwide_gross']==0)]"
   ]
  },
  {
   "cell_type": "code",
   "execution_count": 16,
   "metadata": {},
   "outputs": [],
   "source": [
    "# Update the dataframe to remove the zero values shown above\n",
    "\n",
    "df = df[~(df['worldwide_gross']==0)]"
   ]
  },
  {
   "cell_type": "markdown",
   "metadata": {},
   "source": [
    "### Adding Columns\n",
    "Once the data was cleaned, we added new columns: one to show each movie’s profits as a dollar value and another to show its return on investment. We also created a new column called category to divide the movies by profitability."
   ]
  },
  {
   "cell_type": "code",
   "execution_count": 17,
   "metadata": {
    "scrolled": false
   },
   "outputs": [
    {
     "data": {
      "text/html": [
       "<div>\n",
       "<style scoped>\n",
       "    .dataframe tbody tr th:only-of-type {\n",
       "        vertical-align: middle;\n",
       "    }\n",
       "\n",
       "    .dataframe tbody tr th {\n",
       "        vertical-align: top;\n",
       "    }\n",
       "\n",
       "    .dataframe thead th {\n",
       "        text-align: right;\n",
       "    }\n",
       "</style>\n",
       "<table border=\"1\" class=\"dataframe\">\n",
       "  <thead>\n",
       "    <tr style=\"text-align: right;\">\n",
       "      <th></th>\n",
       "      <th>release_date</th>\n",
       "      <th>movie</th>\n",
       "      <th>production_budget</th>\n",
       "      <th>domestic_gross</th>\n",
       "      <th>worldwide_gross</th>\n",
       "      <th>runtime_minutes</th>\n",
       "      <th>genres</th>\n",
       "      <th>production_company</th>\n",
       "      <th>production_country</th>\n",
       "      <th>profits</th>\n",
       "      <th>profits_ratio</th>\n",
       "    </tr>\n",
       "  </thead>\n",
       "  <tbody>\n",
       "    <tr>\n",
       "      <th>0</th>\n",
       "      <td>2019-04-23</td>\n",
       "      <td>Avengers: Endgame</td>\n",
       "      <td>400000000</td>\n",
       "      <td>858373000</td>\n",
       "      <td>2797800564</td>\n",
       "      <td>181 minutes</td>\n",
       "      <td>Action</td>\n",
       "      <td>Marvel Studios</td>\n",
       "      <td>United States</td>\n",
       "      <td>2397800564</td>\n",
       "      <td>6.994501</td>\n",
       "    </tr>\n",
       "    <tr>\n",
       "      <th>1</th>\n",
       "      <td>2011-05-20</td>\n",
       "      <td>Pirates of the Caribbean: On Stranger Tides</td>\n",
       "      <td>379000000</td>\n",
       "      <td>241071802</td>\n",
       "      <td>1045713802</td>\n",
       "      <td>136 minutes</td>\n",
       "      <td>Adventure</td>\n",
       "      <td>Walt Disney Pictures</td>\n",
       "      <td>United States</td>\n",
       "      <td>666713802</td>\n",
       "      <td>2.759139</td>\n",
       "    </tr>\n",
       "    <tr>\n",
       "      <th>2</th>\n",
       "      <td>2015-04-22</td>\n",
       "      <td>Avengers: Age of Ultron</td>\n",
       "      <td>365000000</td>\n",
       "      <td>459005868</td>\n",
       "      <td>1395316979</td>\n",
       "      <td>141 minutes</td>\n",
       "      <td>Action</td>\n",
       "      <td>Marvel Studios</td>\n",
       "      <td>United States</td>\n",
       "      <td>1030316979</td>\n",
       "      <td>3.822786</td>\n",
       "    </tr>\n",
       "    <tr>\n",
       "      <th>3</th>\n",
       "      <td>2015-12-16</td>\n",
       "      <td>Star Wars Ep. VII: The Force Awakens</td>\n",
       "      <td>306000000</td>\n",
       "      <td>936662225</td>\n",
       "      <td>2064615817</td>\n",
       "      <td>136 minutes</td>\n",
       "      <td>Adventure</td>\n",
       "      <td>Lucasfilm, Bad Robot</td>\n",
       "      <td>United States</td>\n",
       "      <td>1758615817</td>\n",
       "      <td>6.747111</td>\n",
       "    </tr>\n",
       "    <tr>\n",
       "      <th>4</th>\n",
       "      <td>2018-04-25</td>\n",
       "      <td>Avengers: Infinity War</td>\n",
       "      <td>300000000</td>\n",
       "      <td>678815482</td>\n",
       "      <td>2044540523</td>\n",
       "      <td>156 minutes</td>\n",
       "      <td>Action</td>\n",
       "      <td>Marvel Studios</td>\n",
       "      <td>United States</td>\n",
       "      <td>1744540523</td>\n",
       "      <td>6.815135</td>\n",
       "    </tr>\n",
       "  </tbody>\n",
       "</table>\n",
       "</div>"
      ],
      "text/plain": [
       "  release_date                                        movie  \\\n",
       "0   2019-04-23                            Avengers: Endgame   \n",
       "1   2011-05-20  Pirates of the Caribbean: On Stranger Tides   \n",
       "2   2015-04-22                      Avengers: Age of Ultron   \n",
       "3   2015-12-16         Star Wars Ep. VII: The Force Awakens   \n",
       "4   2018-04-25                       Avengers: Infinity War   \n",
       "\n",
       "   production_budget  domestic_gross  worldwide_gross runtime_minutes  \\\n",
       "0          400000000       858373000       2797800564     181 minutes   \n",
       "1          379000000       241071802       1045713802     136 minutes   \n",
       "2          365000000       459005868       1395316979     141 minutes   \n",
       "3          306000000       936662225       2064615817     136 minutes   \n",
       "4          300000000       678815482       2044540523     156 minutes   \n",
       "\n",
       "      genres    production_company production_country     profits  \\\n",
       "0     Action        Marvel Studios      United States  2397800564   \n",
       "1  Adventure  Walt Disney Pictures      United States   666713802   \n",
       "2     Action        Marvel Studios      United States  1030316979   \n",
       "3  Adventure  Lucasfilm, Bad Robot      United States  1758615817   \n",
       "4     Action        Marvel Studios      United States  1744540523   \n",
       "\n",
       "   profits_ratio  \n",
       "0       6.994501  \n",
       "1       2.759139  \n",
       "2       3.822786  \n",
       "3       6.747111  \n",
       "4       6.815135  "
      ]
     },
     "execution_count": 17,
     "metadata": {},
     "output_type": "execute_result"
    }
   ],
   "source": [
    "# Create columns to show profit and return on investment we called profit ratio\n",
    "\n",
    "df['profits'] = df[\"worldwide_gross\"] - df[\"production_budget\"]\n",
    "df['profits_ratio'] = df[\"worldwide_gross\"] / df[\"production_budget\"]\n",
    "df.head()"
   ]
  },
  {
   "cell_type": "code",
   "execution_count": 18,
   "metadata": {},
   "outputs": [],
   "source": [
    "# Create column that categorizes movies whether they earned a profit or not\n",
    "\n",
    "df['category'] = 'Profitable'\n",
    "df.loc[df['profits_ratio'] < 1, 'category'] = 'Non-Profitable'"
   ]
  },
  {
   "cell_type": "markdown",
   "metadata": {},
   "source": [
    "### Creating New Data Frames to Prepare for Analysis \n",
    "Once the data was cleaned and the new columns were created, we extracted the columns for each analysis.\n",
    "\n",
    "The first step of the analysis was to create a new dataset that compared the production budget to profits.  We extracted the fields that related to cash flows for our analysis."
   ]
  },
  {
   "cell_type": "code",
   "execution_count": 19,
   "metadata": {},
   "outputs": [
    {
     "data": {
      "text/html": [
       "<div>\n",
       "<style scoped>\n",
       "    .dataframe tbody tr th:only-of-type {\n",
       "        vertical-align: middle;\n",
       "    }\n",
       "\n",
       "    .dataframe tbody tr th {\n",
       "        vertical-align: top;\n",
       "    }\n",
       "\n",
       "    .dataframe thead th {\n",
       "        text-align: right;\n",
       "    }\n",
       "</style>\n",
       "<table border=\"1\" class=\"dataframe\">\n",
       "  <thead>\n",
       "    <tr style=\"text-align: right;\">\n",
       "      <th></th>\n",
       "      <th>movie</th>\n",
       "      <th>production_budget</th>\n",
       "      <th>worldwide_gross</th>\n",
       "      <th>domestic_gross</th>\n",
       "      <th>profits</th>\n",
       "      <th>profits_ratio</th>\n",
       "    </tr>\n",
       "  </thead>\n",
       "  <tbody>\n",
       "    <tr>\n",
       "      <th>0</th>\n",
       "      <td>Avengers: Endgame</td>\n",
       "      <td>400000000</td>\n",
       "      <td>2797800564</td>\n",
       "      <td>858373000</td>\n",
       "      <td>2397800564</td>\n",
       "      <td>6.994501</td>\n",
       "    </tr>\n",
       "    <tr>\n",
       "      <th>1</th>\n",
       "      <td>Pirates of the Caribbean: On Stranger Tides</td>\n",
       "      <td>379000000</td>\n",
       "      <td>1045713802</td>\n",
       "      <td>241071802</td>\n",
       "      <td>666713802</td>\n",
       "      <td>2.759139</td>\n",
       "    </tr>\n",
       "  </tbody>\n",
       "</table>\n",
       "</div>"
      ],
      "text/plain": [
       "                                         movie  production_budget  \\\n",
       "0                            Avengers: Endgame          400000000   \n",
       "1  Pirates of the Caribbean: On Stranger Tides          379000000   \n",
       "\n",
       "   worldwide_gross  domestic_gross     profits  profits_ratio  \n",
       "0       2797800564       858373000  2397800564       6.994501  \n",
       "1       1045713802       241071802   666713802       2.759139  "
      ]
     },
     "execution_count": 19,
     "metadata": {},
     "output_type": "execute_result"
    }
   ],
   "source": [
    "# Created a new dataset with columns for cash flows\n",
    "\n",
    "movie_cash_flow = df[[\"movie\", \"production_budget\", \"worldwide_gross\", \"domestic_gross\", \"profits\", \"profits_ratio\"]]\n",
    "movie_cash_flow.head(2)"
   ]
  },
  {
   "cell_type": "markdown",
   "metadata": {},
   "source": [
    "***\n",
    "The second step was to create a dataset for analysis of profits by genre.  We removed the ‘None’ values from the dataset, and also the genres with extremely low value counts."
   ]
  },
  {
   "cell_type": "code",
   "execution_count": 20,
   "metadata": {},
   "outputs": [
    {
     "data": {
      "text/plain": [
       "Drama                  1556\n",
       "Comedy                  960\n",
       "Action                  736\n",
       "Adventure               688\n",
       "Thriller/Suspense       573\n",
       "Horror                  455\n",
       "Romantic Comedy         251\n",
       "None                    128\n",
       "Documentary             111\n",
       "Black Comedy            102\n",
       "Musical                 101\n",
       "Western                  71\n",
       "Concert/Performance      13\n",
       "Multiple Genres           2\n",
       "Name: genres, dtype: int64"
      ]
     },
     "execution_count": 20,
     "metadata": {},
     "output_type": "execute_result"
    }
   ],
   "source": [
    "# Look at the unique values of genres and corresponding counts\n",
    "\n",
    "df['genres'].value_counts()"
   ]
  },
  {
   "cell_type": "code",
   "execution_count": 21,
   "metadata": {},
   "outputs": [
    {
     "data": {
      "text/html": [
       "<div>\n",
       "<style scoped>\n",
       "    .dataframe tbody tr th:only-of-type {\n",
       "        vertical-align: middle;\n",
       "    }\n",
       "\n",
       "    .dataframe tbody tr th {\n",
       "        vertical-align: top;\n",
       "    }\n",
       "\n",
       "    .dataframe thead th {\n",
       "        text-align: right;\n",
       "    }\n",
       "</style>\n",
       "<table border=\"1\" class=\"dataframe\">\n",
       "  <thead>\n",
       "    <tr style=\"text-align: right;\">\n",
       "      <th></th>\n",
       "      <th>release_date</th>\n",
       "      <th>movie</th>\n",
       "      <th>production_budget</th>\n",
       "      <th>domestic_gross</th>\n",
       "      <th>worldwide_gross</th>\n",
       "      <th>runtime_minutes</th>\n",
       "      <th>genres</th>\n",
       "      <th>production_company</th>\n",
       "      <th>production_country</th>\n",
       "      <th>profits</th>\n",
       "      <th>profits_ratio</th>\n",
       "      <th>category</th>\n",
       "    </tr>\n",
       "  </thead>\n",
       "  <tbody>\n",
       "    <tr>\n",
       "      <th>0</th>\n",
       "      <td>2019-04-23</td>\n",
       "      <td>Avengers: Endgame</td>\n",
       "      <td>400000000</td>\n",
       "      <td>858373000</td>\n",
       "      <td>2797800564</td>\n",
       "      <td>181 minutes</td>\n",
       "      <td>Action</td>\n",
       "      <td>Marvel Studios</td>\n",
       "      <td>United States</td>\n",
       "      <td>2397800564</td>\n",
       "      <td>6.994501</td>\n",
       "      <td>Profitable</td>\n",
       "    </tr>\n",
       "    <tr>\n",
       "      <th>1</th>\n",
       "      <td>2011-05-20</td>\n",
       "      <td>Pirates of the Caribbean: On Stranger Tides</td>\n",
       "      <td>379000000</td>\n",
       "      <td>241071802</td>\n",
       "      <td>1045713802</td>\n",
       "      <td>136 minutes</td>\n",
       "      <td>Adventure</td>\n",
       "      <td>Walt Disney Pictures</td>\n",
       "      <td>United States</td>\n",
       "      <td>666713802</td>\n",
       "      <td>2.759139</td>\n",
       "      <td>Profitable</td>\n",
       "    </tr>\n",
       "  </tbody>\n",
       "</table>\n",
       "</div>"
      ],
      "text/plain": [
       "  release_date                                        movie  \\\n",
       "0   2019-04-23                            Avengers: Endgame   \n",
       "1   2011-05-20  Pirates of the Caribbean: On Stranger Tides   \n",
       "\n",
       "   production_budget  domestic_gross  worldwide_gross runtime_minutes  \\\n",
       "0          400000000       858373000       2797800564     181 minutes   \n",
       "1          379000000       241071802       1045713802     136 minutes   \n",
       "\n",
       "      genres    production_company production_country     profits  \\\n",
       "0     Action        Marvel Studios      United States  2397800564   \n",
       "1  Adventure  Walt Disney Pictures      United States   666713802   \n",
       "\n",
       "   profits_ratio    category  \n",
       "0       6.994501  Profitable  \n",
       "1       2.759139  Profitable  "
      ]
     },
     "execution_count": 21,
     "metadata": {},
     "output_type": "execute_result"
    }
   ],
   "source": [
    "# Removed genres with insignificant movie counts\n",
    "\n",
    "df = df.loc[(df['genres'] != 'Concert/Performance') & (df['genres'] != 'Multiple Genres')]\n",
    "\n",
    "genres_df = df[df.genres != 'None']\n",
    "genres_df.head(2)"
   ]
  },
  {
   "cell_type": "markdown",
   "metadata": {},
   "source": [
    "***\n",
    "The third dataset needed for our analysis focused on the dates when movies were released compared to profits.  We dropped rows with missing dates from the data set."
   ]
  },
  {
   "cell_type": "code",
   "execution_count": 22,
   "metadata": {},
   "outputs": [
    {
     "data": {
      "text/html": [
       "<div>\n",
       "<style scoped>\n",
       "    .dataframe tbody tr th:only-of-type {\n",
       "        vertical-align: middle;\n",
       "    }\n",
       "\n",
       "    .dataframe tbody tr th {\n",
       "        vertical-align: top;\n",
       "    }\n",
       "\n",
       "    .dataframe thead th {\n",
       "        text-align: right;\n",
       "    }\n",
       "</style>\n",
       "<table border=\"1\" class=\"dataframe\">\n",
       "  <thead>\n",
       "    <tr style=\"text-align: right;\">\n",
       "      <th></th>\n",
       "      <th>release_date</th>\n",
       "      <th>movie</th>\n",
       "      <th>production_budget</th>\n",
       "      <th>domestic_gross</th>\n",
       "      <th>worldwide_gross</th>\n",
       "      <th>runtime_minutes</th>\n",
       "      <th>genres</th>\n",
       "      <th>production_company</th>\n",
       "      <th>production_country</th>\n",
       "      <th>profits</th>\n",
       "      <th>profits_ratio</th>\n",
       "      <th>category</th>\n",
       "    </tr>\n",
       "  </thead>\n",
       "  <tbody>\n",
       "    <tr>\n",
       "      <th>0</th>\n",
       "      <td>2019-04-23</td>\n",
       "      <td>Avengers: Endgame</td>\n",
       "      <td>400000000</td>\n",
       "      <td>858373000</td>\n",
       "      <td>2797800564</td>\n",
       "      <td>181 minutes</td>\n",
       "      <td>Action</td>\n",
       "      <td>Marvel Studios</td>\n",
       "      <td>United States</td>\n",
       "      <td>2397800564</td>\n",
       "      <td>6.994501</td>\n",
       "      <td>Profitable</td>\n",
       "    </tr>\n",
       "    <tr>\n",
       "      <th>1</th>\n",
       "      <td>2011-05-20</td>\n",
       "      <td>Pirates of the Caribbean: On Stranger Tides</td>\n",
       "      <td>379000000</td>\n",
       "      <td>241071802</td>\n",
       "      <td>1045713802</td>\n",
       "      <td>136 minutes</td>\n",
       "      <td>Adventure</td>\n",
       "      <td>Walt Disney Pictures</td>\n",
       "      <td>United States</td>\n",
       "      <td>666713802</td>\n",
       "      <td>2.759139</td>\n",
       "      <td>Profitable</td>\n",
       "    </tr>\n",
       "  </tbody>\n",
       "</table>\n",
       "</div>"
      ],
      "text/plain": [
       "  release_date                                        movie  \\\n",
       "0   2019-04-23                            Avengers: Endgame   \n",
       "1   2011-05-20  Pirates of the Caribbean: On Stranger Tides   \n",
       "\n",
       "   production_budget  domestic_gross  worldwide_gross runtime_minutes  \\\n",
       "0          400000000       858373000       2797800564     181 minutes   \n",
       "1          379000000       241071802       1045713802     136 minutes   \n",
       "\n",
       "      genres    production_company production_country     profits  \\\n",
       "0     Action        Marvel Studios      United States  2397800564   \n",
       "1  Adventure  Walt Disney Pictures      United States   666713802   \n",
       "\n",
       "   profits_ratio    category  \n",
       "0       6.994501  Profitable  \n",
       "1       2.759139  Profitable  "
      ]
     },
     "execution_count": 22,
     "metadata": {},
     "output_type": "execute_result"
    }
   ],
   "source": [
    "# Removed missing values\n",
    "\n",
    "dates_df = df[~df['release_date'].isna()]\n",
    "dates_df.head(2)"
   ]
  },
  {
   "cell_type": "markdown",
   "metadata": {},
   "source": [
    "***\n",
    "The fourth dataset was used to compare the runtime of the movies to see if there was a correlation between runtime and profits. Rows where the runtime was “None” were dropped."
   ]
  },
  {
   "cell_type": "code",
   "execution_count": 23,
   "metadata": {},
   "outputs": [
    {
     "data": {
      "text/html": [
       "<div>\n",
       "<style scoped>\n",
       "    .dataframe tbody tr th:only-of-type {\n",
       "        vertical-align: middle;\n",
       "    }\n",
       "\n",
       "    .dataframe tbody tr th {\n",
       "        vertical-align: top;\n",
       "    }\n",
       "\n",
       "    .dataframe thead th {\n",
       "        text-align: right;\n",
       "    }\n",
       "</style>\n",
       "<table border=\"1\" class=\"dataframe\">\n",
       "  <thead>\n",
       "    <tr style=\"text-align: right;\">\n",
       "      <th></th>\n",
       "      <th>release_date</th>\n",
       "      <th>movie</th>\n",
       "      <th>production_budget</th>\n",
       "      <th>domestic_gross</th>\n",
       "      <th>worldwide_gross</th>\n",
       "      <th>runtime_minutes</th>\n",
       "      <th>genres</th>\n",
       "      <th>production_company</th>\n",
       "      <th>production_country</th>\n",
       "      <th>profits</th>\n",
       "      <th>profits_ratio</th>\n",
       "      <th>category</th>\n",
       "    </tr>\n",
       "  </thead>\n",
       "  <tbody>\n",
       "    <tr>\n",
       "      <th>0</th>\n",
       "      <td>2019-04-23</td>\n",
       "      <td>Avengers: Endgame</td>\n",
       "      <td>400000000</td>\n",
       "      <td>858373000</td>\n",
       "      <td>2797800564</td>\n",
       "      <td>181 minutes</td>\n",
       "      <td>Action</td>\n",
       "      <td>Marvel Studios</td>\n",
       "      <td>United States</td>\n",
       "      <td>2397800564</td>\n",
       "      <td>6.994501</td>\n",
       "      <td>Profitable</td>\n",
       "    </tr>\n",
       "    <tr>\n",
       "      <th>1</th>\n",
       "      <td>2011-05-20</td>\n",
       "      <td>Pirates of the Caribbean: On Stranger Tides</td>\n",
       "      <td>379000000</td>\n",
       "      <td>241071802</td>\n",
       "      <td>1045713802</td>\n",
       "      <td>136 minutes</td>\n",
       "      <td>Adventure</td>\n",
       "      <td>Walt Disney Pictures</td>\n",
       "      <td>United States</td>\n",
       "      <td>666713802</td>\n",
       "      <td>2.759139</td>\n",
       "      <td>Profitable</td>\n",
       "    </tr>\n",
       "  </tbody>\n",
       "</table>\n",
       "</div>"
      ],
      "text/plain": [
       "  release_date                                        movie  \\\n",
       "0   2019-04-23                            Avengers: Endgame   \n",
       "1   2011-05-20  Pirates of the Caribbean: On Stranger Tides   \n",
       "\n",
       "   production_budget  domestic_gross  worldwide_gross runtime_minutes  \\\n",
       "0          400000000       858373000       2797800564     181 minutes   \n",
       "1          379000000       241071802       1045713802     136 minutes   \n",
       "\n",
       "      genres    production_company production_country     profits  \\\n",
       "0     Action        Marvel Studios      United States  2397800564   \n",
       "1  Adventure  Walt Disney Pictures      United States   666713802   \n",
       "\n",
       "   profits_ratio    category  \n",
       "0       6.994501  Profitable  \n",
       "1       2.759139  Profitable  "
      ]
     },
     "execution_count": 23,
     "metadata": {},
     "output_type": "execute_result"
    }
   ],
   "source": [
    "# Removed missing values\n",
    "\n",
    "runtime_df = df[(df['runtime_minutes'] != 'None')]\n",
    "runtime_df.head(2)"
   ]
  },
  {
   "cell_type": "markdown",
   "metadata": {},
   "source": [
    "## Data Analysis\n",
    "\n",
    "To analyze our data, we set out to determine if there was a correlation between production budget and profits. We want Microsoft’s movie studio to make money, and examining the link between the cost of making a film and the profit it returns appeared to be a reasonable starting point.  "
   ]
  },
  {
   "cell_type": "markdown",
   "metadata": {},
   "source": [
    "### Is there a correlation between production budget and box office return?"
   ]
  },
  {
   "cell_type": "markdown",
   "metadata": {},
   "source": [
    "Initially, we wanted to find out if there was a strong correlation between production budget and profits."
   ]
  },
  {
   "cell_type": "code",
   "execution_count": 24,
   "metadata": {},
   "outputs": [
    {
     "data": {
      "text/plain": [
       "0.602849302864861"
      ]
     },
     "execution_count": 24,
     "metadata": {},
     "output_type": "execute_result"
    }
   ],
   "source": [
    "# Correlation between production budget and profits\n",
    "\n",
    "movie_cash_flow['production_budget'].corr(movie_cash_flow['profits'])"
   ]
  },
  {
   "cell_type": "code",
   "execution_count": 25,
   "metadata": {},
   "outputs": [],
   "source": [
    "# Separate the movies that earned a profit versus those that did not\n",
    "\n",
    "movie_cash_flow_earners = movie_cash_flow[movie_cash_flow[\"profits\"] > 0]\n",
    "movie_cash_flow_losers = movie_cash_flow[movie_cash_flow[\"profits\"] < 0]"
   ]
  },
  {
   "cell_type": "code",
   "execution_count": 26,
   "metadata": {},
   "outputs": [
    {
     "name": "stdout",
     "output_type": "stream",
     "text": [
      "The correlation between budget and losses is -0.6778293629215483.\n",
      "The correlation between budget and profits is 0.6446713860187766.\n"
     ]
    }
   ],
   "source": [
    "# Check correlation between movies that earned a profit versus those that did not\n",
    "\n",
    "losers = movie_cash_flow_losers['production_budget'].corr(movie_cash_flow_losers['profits'])\n",
    "winners = movie_cash_flow_earners['production_budget'].corr(movie_cash_flow_earners['profits'])\n",
    "print(f'The correlation between budget and losses is {losers}.')\n",
    "print(f'The correlation between budget and profits is {winners}.')"
   ]
  },
  {
   "cell_type": "code",
   "execution_count": 27,
   "metadata": {},
   "outputs": [
    {
     "data": {
      "image/png": "[encoded data removed]",
      "text/plain": [
       "<Figure size 720x720 with 1 Axes>"
      ]
     },
     "metadata": {},
     "output_type": "display_data"
    }
   ],
   "source": [
    "#Creating a graph to represent the data\n",
    "sns.set_style(\"whitegrid\")\n",
    "sns.set(font_scale = 1.5)\n",
    "\n",
    "fig, ax = plt.subplots()\n",
    "\n",
    "graph1 = sns.scatterplot(\n",
    "    x=movie_cash_flow_earners['production_budget']/1000000,\n",
    "    y= movie_cash_flow_earners[\"profits\"]/1000000,\n",
    "    color='#7FBC00', alpha= .3)\n",
    "\n",
    "graph2 = sns.scatterplot(\n",
    "    x=movie_cash_flow_losers['production_budget']/1000000,\n",
    "    y= movie_cash_flow_losers[\"profits\"]/1000000,\n",
    "    color='#F34F1C', alpha= .3)\n",
    "\n",
    "plt.ticklabel_format(style='plain', axis='y')\n",
    "plt.ticklabel_format(style='plain', axis='x')\n",
    "\n",
    "graph1.axhline(1)\n",
    "\n",
    "plt.xlabel('Budget ($ Millions)')\n",
    "plt.ylabel('Profits ($ Millions)')\n",
    "plt.title('Profits vs Budget')\n",
    "ax.axhline(y=1, color= \"red\")\n",
    "\n",
    "fig.set_size_inches(10,10)\n",
    "\n",
    "# plt.savefig('profits_vs_budget.png') # save graph to file\n",
    "plt.show()"
   ]
  },
  {
   "cell_type": "markdown",
   "metadata": {},
   "source": [
    "The horizontal line divides the data points between movies that earned profits and those that did not."
   ]
  },
  {
   "cell_type": "markdown",
   "metadata": {},
   "source": [
    "We determined there is a correlation, though not a strong one. Therefore, we decided to analyze movies by genres to see if that yielded more significant findings. We grouped our data by genre and explored production costs, gross earnings, profits earned, and profits ratio."
   ]
  },
  {
   "cell_type": "markdown",
   "metadata": {},
   "source": [
    "### What are the highest grossing genres?"
   ]
  },
  {
   "cell_type": "code",
   "execution_count": 28,
   "metadata": {},
   "outputs": [
    {
     "data": {
      "text/html": [
       "<div>\n",
       "<style scoped>\n",
       "    .dataframe tbody tr th:only-of-type {\n",
       "        vertical-align: middle;\n",
       "    }\n",
       "\n",
       "    .dataframe tbody tr th {\n",
       "        vertical-align: top;\n",
       "    }\n",
       "\n",
       "    .dataframe thead th {\n",
       "        text-align: right;\n",
       "    }\n",
       "</style>\n",
       "<table border=\"1\" class=\"dataframe\">\n",
       "  <thead>\n",
       "    <tr style=\"text-align: right;\">\n",
       "      <th></th>\n",
       "      <th>release_date</th>\n",
       "      <th>movie</th>\n",
       "      <th>production_budget</th>\n",
       "      <th>domestic_gross</th>\n",
       "      <th>worldwide_gross</th>\n",
       "      <th>runtime_minutes</th>\n",
       "      <th>genres</th>\n",
       "      <th>production_company</th>\n",
       "      <th>production_country</th>\n",
       "      <th>profits</th>\n",
       "      <th>profits_ratio</th>\n",
       "      <th>category</th>\n",
       "    </tr>\n",
       "  </thead>\n",
       "  <tbody>\n",
       "    <tr>\n",
       "      <th>0</th>\n",
       "      <td>2019-04-23</td>\n",
       "      <td>Avengers: Endgame</td>\n",
       "      <td>400000000</td>\n",
       "      <td>858373000</td>\n",
       "      <td>2797800564</td>\n",
       "      <td>181 minutes</td>\n",
       "      <td>Action</td>\n",
       "      <td>Marvel Studios</td>\n",
       "      <td>United States</td>\n",
       "      <td>2397800564</td>\n",
       "      <td>6.994501</td>\n",
       "      <td>Profitable</td>\n",
       "    </tr>\n",
       "    <tr>\n",
       "      <th>1</th>\n",
       "      <td>2011-05-20</td>\n",
       "      <td>Pirates of the Caribbean: On Stranger Tides</td>\n",
       "      <td>379000000</td>\n",
       "      <td>241071802</td>\n",
       "      <td>1045713802</td>\n",
       "      <td>136 minutes</td>\n",
       "      <td>Adventure</td>\n",
       "      <td>Walt Disney Pictures</td>\n",
       "      <td>United States</td>\n",
       "      <td>666713802</td>\n",
       "      <td>2.759139</td>\n",
       "      <td>Profitable</td>\n",
       "    </tr>\n",
       "  </tbody>\n",
       "</table>\n",
       "</div>"
      ],
      "text/plain": [
       "  release_date                                        movie  \\\n",
       "0   2019-04-23                            Avengers: Endgame   \n",
       "1   2011-05-20  Pirates of the Caribbean: On Stranger Tides   \n",
       "\n",
       "   production_budget  domestic_gross  worldwide_gross runtime_minutes  \\\n",
       "0          400000000       858373000       2797800564     181 minutes   \n",
       "1          379000000       241071802       1045713802     136 minutes   \n",
       "\n",
       "      genres    production_company production_country     profits  \\\n",
       "0     Action        Marvel Studios      United States  2397800564   \n",
       "1  Adventure  Walt Disney Pictures      United States   666713802   \n",
       "\n",
       "   profits_ratio    category  \n",
       "0       6.994501  Profitable  \n",
       "1       2.759139  Profitable  "
      ]
     },
     "execution_count": 28,
     "metadata": {},
     "output_type": "execute_result"
    }
   ],
   "source": [
    "# Created a new dataframe that only included movies that earned a profit\n",
    "\n",
    "gains_genres_df = genres_df.loc[genres_df['profits_ratio'] >= 1]\n",
    "gains_genres_df.head(2)"
   ]
  },
  {
   "cell_type": "code",
   "execution_count": 29,
   "metadata": {},
   "outputs": [
    {
     "data": {
      "text/html": [
       "<div>\n",
       "<style scoped>\n",
       "    .dataframe tbody tr th:only-of-type {\n",
       "        vertical-align: middle;\n",
       "    }\n",
       "\n",
       "    .dataframe tbody tr th {\n",
       "        vertical-align: top;\n",
       "    }\n",
       "\n",
       "    .dataframe thead th {\n",
       "        text-align: right;\n",
       "    }\n",
       "</style>\n",
       "<table border=\"1\" class=\"dataframe\">\n",
       "  <thead>\n",
       "    <tr style=\"text-align: right;\">\n",
       "      <th></th>\n",
       "      <th>genres</th>\n",
       "      <th>production_budget</th>\n",
       "      <th>worldwide_gross</th>\n",
       "      <th>profits</th>\n",
       "      <th>profits_ratio</th>\n",
       "    </tr>\n",
       "  </thead>\n",
       "  <tbody>\n",
       "    <tr>\n",
       "      <th>1</th>\n",
       "      <td>Adventure</td>\n",
       "      <td>60000000.0</td>\n",
       "      <td>134481126.5</td>\n",
       "      <td>68120422.0</td>\n",
       "      <td>2.470881</td>\n",
       "    </tr>\n",
       "    <tr>\n",
       "      <th>0</th>\n",
       "      <td>Action</td>\n",
       "      <td>45000000.0</td>\n",
       "      <td>90736034.0</td>\n",
       "      <td>43559908.0</td>\n",
       "      <td>2.092760</td>\n",
       "    </tr>\n",
       "    <tr>\n",
       "      <th>6</th>\n",
       "      <td>Horror</td>\n",
       "      <td>10000000.0</td>\n",
       "      <td>37048526.0</td>\n",
       "      <td>23512850.0</td>\n",
       "      <td>2.970818</td>\n",
       "    </tr>\n",
       "    <tr>\n",
       "      <th>8</th>\n",
       "      <td>Romantic Comedy</td>\n",
       "      <td>20000000.0</td>\n",
       "      <td>39686769.0</td>\n",
       "      <td>20078756.0</td>\n",
       "      <td>2.211184</td>\n",
       "    </tr>\n",
       "    <tr>\n",
       "      <th>7</th>\n",
       "      <td>Musical</td>\n",
       "      <td>17500000.0</td>\n",
       "      <td>34949482.0</td>\n",
       "      <td>11395040.0</td>\n",
       "      <td>2.151225</td>\n",
       "    </tr>\n",
       "    <tr>\n",
       "      <th>9</th>\n",
       "      <td>Thriller/Suspense</td>\n",
       "      <td>22000000.0</td>\n",
       "      <td>34356760.0</td>\n",
       "      <td>8815460.0</td>\n",
       "      <td>1.579101</td>\n",
       "    </tr>\n",
       "    <tr>\n",
       "      <th>3</th>\n",
       "      <td>Comedy</td>\n",
       "      <td>17000000.0</td>\n",
       "      <td>28261759.5</td>\n",
       "      <td>8499617.5</td>\n",
       "      <td>1.763421</td>\n",
       "    </tr>\n",
       "    <tr>\n",
       "      <th>2</th>\n",
       "      <td>Black Comedy</td>\n",
       "      <td>11900000.0</td>\n",
       "      <td>23979804.5</td>\n",
       "      <td>7776057.5</td>\n",
       "      <td>1.636257</td>\n",
       "    </tr>\n",
       "    <tr>\n",
       "      <th>5</th>\n",
       "      <td>Drama</td>\n",
       "      <td>12500000.0</td>\n",
       "      <td>16014689.0</td>\n",
       "      <td>3350488.5</td>\n",
       "      <td>1.387012</td>\n",
       "    </tr>\n",
       "    <tr>\n",
       "      <th>10</th>\n",
       "      <td>Western</td>\n",
       "      <td>14400000.0</td>\n",
       "      <td>15700000.0</td>\n",
       "      <td>3327522.0</td>\n",
       "      <td>1.294361</td>\n",
       "    </tr>\n",
       "    <tr>\n",
       "      <th>4</th>\n",
       "      <td>Documentary</td>\n",
       "      <td>1000000.0</td>\n",
       "      <td>1433319.0</td>\n",
       "      <td>190936.0</td>\n",
       "      <td>1.087794</td>\n",
       "    </tr>\n",
       "  </tbody>\n",
       "</table>\n",
       "</div>"
      ],
      "text/plain": [
       "               genres  production_budget  worldwide_gross     profits  \\\n",
       "1           Adventure         60000000.0      134481126.5  68120422.0   \n",
       "0              Action         45000000.0       90736034.0  43559908.0   \n",
       "6              Horror         10000000.0       37048526.0  23512850.0   \n",
       "8     Romantic Comedy         20000000.0       39686769.0  20078756.0   \n",
       "7             Musical         17500000.0       34949482.0  11395040.0   \n",
       "9   Thriller/Suspense         22000000.0       34356760.0   8815460.0   \n",
       "3              Comedy         17000000.0       28261759.5   8499617.5   \n",
       "2        Black Comedy         11900000.0       23979804.5   7776057.5   \n",
       "5               Drama         12500000.0       16014689.0   3350488.5   \n",
       "10            Western         14400000.0       15700000.0   3327522.0   \n",
       "4         Documentary          1000000.0        1433319.0    190936.0   \n",
       "\n",
       "    profits_ratio  \n",
       "1        2.470881  \n",
       "0        2.092760  \n",
       "6        2.970818  \n",
       "8        2.211184  \n",
       "7        2.151225  \n",
       "9        1.579101  \n",
       "3        1.763421  \n",
       "2        1.636257  \n",
       "5        1.387012  \n",
       "10       1.294361  \n",
       "4        1.087794  "
      ]
     },
     "execution_count": 29,
     "metadata": {},
     "output_type": "execute_result"
    }
   ],
   "source": [
    "# Created a new dataframe that grouped the movies by genre and showed production, gross, and profits\n",
    "\n",
    "median_df = genres_df.groupby(\"genres\", as_index=False).median().sort_values('profits', ascending=False)\n",
    "median_df.loc[:,[\"genres\",\"production_budget\",\"worldwide_gross\",\"profits\",\"profits_ratio\"]]"
   ]
  },
  {
   "cell_type": "markdown",
   "metadata": {},
   "source": [
    "Comparing profits and genre, we saw that adventure and action movies have the highest yields. However, those movies are also the most expensive to make. Since Microsoft may not desire to spend tens or hundreds of millions of dollars on movies, especially early on into their movie studio venture, we examined genres by median profit. Here we discovered that horror had, by far, the highest median profit ratio (3:1) compared to adventure and action movies (2:1)."
   ]
  },
  {
   "cell_type": "code",
   "execution_count": 30,
   "metadata": {},
   "outputs": [
    {
     "data": {
      "image/png": "[encoded data removed]",
      "text/plain": [
       "<Figure size 1440x720 with 2 Axes>"
      ]
     },
     "metadata": {},
     "output_type": "display_data"
    }
   ],
   "source": [
    "# Create a graph to show profits per genre as well as profits ratio per genre\n",
    "\n",
    "fig, axes = plt.subplots(ncols=2, figsize=(20, 10))\n",
    "fig.suptitle('Median Profits vs Profits Ratio per Genre')\n",
    "fig.autofmt_xdate(rotation=45)\n",
    "\n",
    "sns.barplot(\n",
    "    data=median_df, \n",
    "    x='genres', \n",
    "    y=\"profits_ratio\", \n",
    "    color='#01A6F0', \n",
    "    ci=None, \n",
    "    ax=axes[1])\n",
    "\n",
    "sns.barplot(\n",
    "    data=median_df, \n",
    "    x=\"genres\", \n",
    "    y=\"profits\", \n",
    "    color='#7FBC00', \n",
    "    ci=None, \n",
    "    ax=axes[0])\n",
    "\n",
    "axes[1].set_title('Median Profits Ratio per Genre')\n",
    "axes[1].set_xlabel('Genres')\n",
    "axes[1].set_ylabel('Median Profits Ratio')\n",
    "\n",
    "\n",
    "axes[0].set_title('Median Profits per Genre')\n",
    "axes[0].set_xlabel('Genres')\n",
    "axes[0].set_ylabel('Median Profits in Tens of Millions')\n",
    "\n",
    "# plt.savefig('profits_per_genre.png') # save graph to file\n",
    "plt.show()"
   ]
  },
  {
   "cell_type": "markdown",
   "metadata": {},
   "source": [
    "At first we looked at median profits per genre. On the left graph, adventure and action movies yield the highest median grossing returns. From our budget analysis, we also know that those are the most costly movies to produce.\n",
    "\n",
    "We decided to look at the median profits ratio that was calculated using median profits and production costs. The results from this comparison showed that horror films yield the highest rate of return, resulting in a return of 3:1 profits versus production costs, compared to the 2:1 profit versus production cost ratio resulting from action and adventure movies."
   ]
  },
  {
   "cell_type": "markdown",
   "metadata": {},
   "source": [
    "### What is the best time to release a movie?"
   ]
  },
  {
   "cell_type": "markdown",
   "metadata": {},
   "source": [
    "We looked at release dates to see if there was a certain time of year that was best to release movies. "
   ]
  },
  {
   "cell_type": "code",
   "execution_count": 31,
   "metadata": {},
   "outputs": [
    {
     "name": "stderr",
     "output_type": "stream",
     "text": [
      "<ipython-input-31-1405c7e387e0>:3: SettingWithCopyWarning: \n",
      "A value is trying to be set on a copy of a slice from a DataFrame.\n",
      "Try using .loc[row_indexer,col_indexer] = value instead\n",
      "\n",
      "See the caveats in the documentation: https://pandas.pydata.org/pandas-docs/stable/user_guide/indexing.html#returning-a-view-versus-a-copy\n",
      "  dates_df['day'] = dates_df['release_date'].dt.dayofweek\n",
      "<ipython-input-31-1405c7e387e0>:4: SettingWithCopyWarning: \n",
      "A value is trying to be set on a copy of a slice from a DataFrame.\n",
      "Try using .loc[row_indexer,col_indexer] = value instead\n",
      "\n",
      "See the caveats in the documentation: https://pandas.pydata.org/pandas-docs/stable/user_guide/indexing.html#returning-a-view-versus-a-copy\n",
      "  dates_df['month'] = pd.DatetimeIndex(dates_df['release_date']).month\n",
      "<ipython-input-31-1405c7e387e0>:5: SettingWithCopyWarning: \n",
      "A value is trying to be set on a copy of a slice from a DataFrame.\n",
      "Try using .loc[row_indexer,col_indexer] = value instead\n",
      "\n",
      "See the caveats in the documentation: https://pandas.pydata.org/pandas-docs/stable/user_guide/indexing.html#returning-a-view-versus-a-copy\n",
      "  dates_df['year'] = pd.DatetimeIndex(dates_df['release_date']).year\n"
     ]
    }
   ],
   "source": [
    "# Create new columns that show the day and month of release dates\n",
    "\n",
    "dates_df['day'] = dates_df['release_date'].dt.dayofweek\n",
    "dates_df['month'] = pd.DatetimeIndex(dates_df['release_date']).month\n",
    "dates_df['year'] = pd.DatetimeIndex(dates_df['release_date']).year"
   ]
  },
  {
   "cell_type": "code",
   "execution_count": 32,
   "metadata": {},
   "outputs": [],
   "source": [
    "# Grouping the movie counts by day\n",
    "\n",
    "day_df = dates_df.groupby(\"day\", as_index=False).count()"
   ]
  },
  {
   "cell_type": "code",
   "execution_count": 33,
   "metadata": {},
   "outputs": [
    {
     "data": {
      "image/png": "[encoded data removed]",
      "text/plain": [
       "<Figure size 720x432 with 1 Axes>"
      ]
     },
     "metadata": {},
     "output_type": "display_data"
    }
   ],
   "source": [
    "# Create a plot of movie counts per day\n",
    "\n",
    "fig, ax = plt.subplots(figsize=(10,6))\n",
    "\n",
    "ax = sns.barplot(\n",
    "    data=day_df, \n",
    "    x=\"day\", \n",
    "    y=\"movie\", \n",
    "    color='#FFBA01', \n",
    "    ci=None)\n",
    "\n",
    "ax.set_title('Movie Count per Day')\n",
    "ax.set_xlabel('Day')\n",
    "ax.set_ylabel('Movie Count')\n",
    "\n",
    "plt.xticks(range(7), ['Monday','Tuesday','Wednesday','Thursday','Friday','Saturday','Sunday'])\n",
    "\n",
    "plt.show()"
   ]
  },
  {
   "cell_type": "markdown",
   "metadata": {},
   "source": [
    "Overall, Friday is the most popular release day, with over 4000 movies released on this day. \n",
    "\n",
    "Moving on to the months, we dive in to horror movies, the top genre that yielded the highest rate of returns."
   ]
  },
  {
   "cell_type": "code",
   "execution_count": 34,
   "metadata": {},
   "outputs": [],
   "source": [
    "# Create new dataframes to isolate profitable movies and in particular, profitable horror movies\n",
    "\n",
    "gains_dates_df = dates_df.loc[dates_df['profits_ratio'] >= 1]\n",
    "horror_dates_df = gains_dates_df.loc[gains_dates_df['genres'] == 'Horror']"
   ]
  },
  {
   "cell_type": "code",
   "execution_count": 35,
   "metadata": {},
   "outputs": [
    {
     "data": {
      "image/png": "[encoded data removed]",
      "text/plain": [
       "<Figure size 864x504 with 1 Axes>"
      ]
     },
     "metadata": {},
     "output_type": "display_data"
    }
   ],
   "source": [
    "# Create a countplot of the profitable horror movies per month\n",
    "\n",
    "fig, ax = plt.subplots(figsize=(12, 7))\n",
    "\n",
    "sns.countplot(\n",
    "    x=\"month\", \n",
    "    color=\"#FFBA01\",\n",
    "    data = horror_dates_df,)\n",
    "plt.title(\"Horror Movies per Month\")\n",
    "plt.xlabel(\"Month\")\n",
    "plt.ylabel(\"Horror Movie Count\")\n",
    "\n",
    "plt.xticks(range(12), ['Jan','Feb','Mar','Apr','May','Jun','July','Aug','Sep','Oct','Nov','Dec'])\n",
    "\n",
    "# plt.savefig('horror_per_month.png') # save graph to file\n",
    "plt.show()"
   ]
  },
  {
   "cell_type": "markdown",
   "metadata": {},
   "source": [
    "Among the profitable horror movies, the most popular month of release date was October. This is in contrast with the non-profitable horror movies' release month topped by September, one month earlier."
   ]
  },
  {
   "cell_type": "code",
   "execution_count": 36,
   "metadata": {},
   "outputs": [],
   "source": [
    "# Create a new dataframe to isolate non-profitable horror movies\n",
    "\n",
    "loss_dates_df = dates_df.loc[dates_df['profits_ratio'] < 1]\n",
    "horror_loss_df = loss_dates_df[loss_dates_df['genres'] == 'Horror']"
   ]
  },
  {
   "cell_type": "code",
   "execution_count": 37,
   "metadata": {},
   "outputs": [
    {
     "data": {
      "image/png": "[encoded data removed]",
      "text/plain": [
       "<Figure size 864x504 with 1 Axes>"
      ]
     },
     "metadata": {},
     "output_type": "display_data"
    }
   ],
   "source": [
    "# Create a countplot of non-profitable horror movies per month\n",
    "\n",
    "fig, ax = plt.subplots(figsize=(12,7))\n",
    "\n",
    "sns.countplot(\n",
    "    x=\"month\", \n",
    "    color=\"#FFBA01\",\n",
    "    data = horror_loss_df,)\n",
    "plt.title(\"Non-Profitable Horror Movies per Month\")\n",
    "plt.xlabel(\"Month\")\n",
    "plt.ylabel(\"Horror Movie Count\")\n",
    "\n",
    "plt.xticks(range(12), ['Jan','Feb','Mar','Apr','May','Jun','July','Aug','Sep','Oct','Nov','Dec'])\n",
    "\n",
    "plt.show()"
   ]
  },
  {
   "cell_type": "markdown",
   "metadata": {},
   "source": [
    "To further explore the horror genre, we analyze its popularity over time as shown by the number of movies produced per year."
   ]
  },
  {
   "cell_type": "code",
   "execution_count": 38,
   "metadata": {},
   "outputs": [],
   "source": [
    "# Create a new dataframe of only horror movies and group by the year released\n",
    "\n",
    "horror_df = dates_df[dates_df['genres']=='Horror']\n",
    "horror_group_df = horror_df.groupby('year', as_index=False).count()"
   ]
  },
  {
   "cell_type": "code",
   "execution_count": 39,
   "metadata": {},
   "outputs": [
    {
     "data": {
      "image/png": "[encoded data removed]",
      "text/plain": [
       "<Figure size 864x504 with 1 Axes>"
      ]
     },
     "metadata": {},
     "output_type": "display_data"
    }
   ],
   "source": [
    "# Create a plot of horror movie counts over the years\n",
    "\n",
    "fig, ax = plt.subplots(figsize=(12,7))\n",
    "\n",
    "sns.lineplot(\n",
    "    x=\"year\",\n",
    "    y=\"movie\",\n",
    "    color=\"#01A6F0\",\n",
    "    data = horror_group_df,)\n",
    "plt.title(\"Horror Movie Count\")\n",
    "plt.xlabel(\"Year\")\n",
    "plt.ylabel(\"Horror Movie Count\")\n",
    "\n",
    "# plt.savefig('horror_count_years.png') # save graph to file\n",
    "plt.show()"
   ]
  },
  {
   "cell_type": "markdown",
   "metadata": {},
   "source": [
    "The graph above shows the trend of increasing horror movies produced since 1980.\n",
    "\n",
    "We also compare profitable and non-profitable movies in the following graph, to check for variability in the horror movies' profitability throughout the years."
   ]
  },
  {
   "cell_type": "code",
   "execution_count": 40,
   "metadata": {},
   "outputs": [
    {
     "data": {
      "text/html": [
       "<div>\n",
       "<style scoped>\n",
       "    .dataframe tbody tr th:only-of-type {\n",
       "        vertical-align: middle;\n",
       "    }\n",
       "\n",
       "    .dataframe tbody tr th {\n",
       "        vertical-align: top;\n",
       "    }\n",
       "\n",
       "    .dataframe thead th {\n",
       "        text-align: right;\n",
       "    }\n",
       "</style>\n",
       "<table border=\"1\" class=\"dataframe\">\n",
       "  <thead>\n",
       "    <tr style=\"text-align: right;\">\n",
       "      <th></th>\n",
       "      <th>year</th>\n",
       "      <th>category</th>\n",
       "      <th>movie</th>\n",
       "    </tr>\n",
       "  </thead>\n",
       "  <tbody>\n",
       "    <tr>\n",
       "      <th>0</th>\n",
       "      <td>1933</td>\n",
       "      <td>Profitable</td>\n",
       "      <td>1</td>\n",
       "    </tr>\n",
       "    <tr>\n",
       "      <th>1</th>\n",
       "      <td>1953</td>\n",
       "      <td>Profitable</td>\n",
       "      <td>1</td>\n",
       "    </tr>\n",
       "    <tr>\n",
       "      <th>2</th>\n",
       "      <td>1968</td>\n",
       "      <td>Profitable</td>\n",
       "      <td>2</td>\n",
       "    </tr>\n",
       "    <tr>\n",
       "      <th>3</th>\n",
       "      <td>1973</td>\n",
       "      <td>Profitable</td>\n",
       "      <td>1</td>\n",
       "    </tr>\n",
       "    <tr>\n",
       "      <th>4</th>\n",
       "      <td>1974</td>\n",
       "      <td>Profitable</td>\n",
       "      <td>1</td>\n",
       "    </tr>\n",
       "    <tr>\n",
       "      <th>...</th>\n",
       "      <td>...</td>\n",
       "      <td>...</td>\n",
       "      <td>...</td>\n",
       "    </tr>\n",
       "    <tr>\n",
       "      <th>78</th>\n",
       "      <td>2019</td>\n",
       "      <td>Profitable</td>\n",
       "      <td>17</td>\n",
       "    </tr>\n",
       "    <tr>\n",
       "      <th>79</th>\n",
       "      <td>2020</td>\n",
       "      <td>Non-Profitable</td>\n",
       "      <td>3</td>\n",
       "    </tr>\n",
       "    <tr>\n",
       "      <th>80</th>\n",
       "      <td>2020</td>\n",
       "      <td>Profitable</td>\n",
       "      <td>8</td>\n",
       "    </tr>\n",
       "    <tr>\n",
       "      <th>81</th>\n",
       "      <td>2021</td>\n",
       "      <td>Non-Profitable</td>\n",
       "      <td>1</td>\n",
       "    </tr>\n",
       "    <tr>\n",
       "      <th>82</th>\n",
       "      <td>2021</td>\n",
       "      <td>Profitable</td>\n",
       "      <td>8</td>\n",
       "    </tr>\n",
       "  </tbody>\n",
       "</table>\n",
       "<p>83 rows × 3 columns</p>\n",
       "</div>"
      ],
      "text/plain": [
       "    year        category  movie\n",
       "0   1933      Profitable      1\n",
       "1   1953      Profitable      1\n",
       "2   1968      Profitable      2\n",
       "3   1973      Profitable      1\n",
       "4   1974      Profitable      1\n",
       "..   ...             ...    ...\n",
       "78  2019      Profitable     17\n",
       "79  2020  Non-Profitable      3\n",
       "80  2020      Profitable      8\n",
       "81  2021  Non-Profitable      1\n",
       "82  2021      Profitable      8\n",
       "\n",
       "[83 rows x 3 columns]"
      ]
     },
     "execution_count": 40,
     "metadata": {},
     "output_type": "execute_result"
    }
   ],
   "source": [
    "# Create a new dataframe of only horror movies and group by the year release as well as profitability\n",
    "\n",
    "horror_count = horror_df.groupby(['year','category'], as_index=False).count()[['year', 'category', 'movie']]\n",
    "horror_count"
   ]
  },
  {
   "cell_type": "code",
   "execution_count": 41,
   "metadata": {},
   "outputs": [
    {
     "data": {
      "image/png": "[encoded data removed]",
      "text/plain": [
       "<Figure size 864x504 with 1 Axes>"
      ]
     },
     "metadata": {},
     "output_type": "display_data"
    }
   ],
   "source": [
    "# Create a plot of horror movie counts over the years grouped according to profitability\n",
    "\n",
    "fig, ax = plt.subplots(figsize=(12,7))\n",
    "\n",
    "sns.lineplot(\n",
    "    x=\"year\",\n",
    "    y=\"movie\",\n",
    "    hue=\"category\",\n",
    "    data = horror_count,\n",
    "    palette=sns.color_palette(['#7FBC00', '#F34F1C']))\n",
    "\n",
    "\n",
    "plt.title(\"Horror Movie Count\")\n",
    "plt.xlabel(\"Year\")\n",
    "plt.ylabel(\"Horror Movie Count\")\n",
    "\n",
    "# plt.savefig('horror_count_profit.png') # save graph to file\n",
    "plt.show()"
   ]
  },
  {
   "cell_type": "code",
   "execution_count": 42,
   "metadata": {},
   "outputs": [
    {
     "data": {
      "text/plain": [
       "Profitable        78.619154\n",
       "Non-Profitable    21.380846\n",
       "Name: category, dtype: float64"
      ]
     },
     "execution_count": 42,
     "metadata": {},
     "output_type": "execute_result"
    }
   ],
   "source": [
    "# Find the percentage of profitable horror movies\n",
    "\n",
    "horror_df['category'].value_counts(normalize=True)*100"
   ]
  },
  {
   "cell_type": "markdown",
   "metadata": {},
   "source": [
    "The count of profitable horror movies are greater than the count of non profitable movies over the years. 79% of all horror movies yielded a positive rate of return."
   ]
  },
  {
   "cell_type": "markdown",
   "metadata": {},
   "source": [
    "## How long should the film be?"
   ]
  },
  {
   "cell_type": "code",
   "execution_count": 43,
   "metadata": {},
   "outputs": [
    {
     "name": "stderr",
     "output_type": "stream",
     "text": [
      "<ipython-input-43-185b38dd3ebf>:3: SettingWithCopyWarning: \n",
      "A value is trying to be set on a copy of a slice from a DataFrame.\n",
      "Try using .loc[row_indexer,col_indexer] = value instead\n",
      "\n",
      "See the caveats in the documentation: https://pandas.pydata.org/pandas-docs/stable/user_guide/indexing.html#returning-a-view-versus-a-copy\n",
      "  runtime_df['runtime_minutes'] = runtime_df['runtime_minutes'].str.replace('minutes', '')\n",
      "<ipython-input-43-185b38dd3ebf>:4: SettingWithCopyWarning: \n",
      "A value is trying to be set on a copy of a slice from a DataFrame.\n",
      "Try using .loc[row_indexer,col_indexer] = value instead\n",
      "\n",
      "See the caveats in the documentation: https://pandas.pydata.org/pandas-docs/stable/user_guide/indexing.html#returning-a-view-versus-a-copy\n",
      "  runtime_df['runtime_minutes'] = runtime_df['runtime_minutes'].astype(int)\n"
     ]
    }
   ],
   "source": [
    "# Convert the string values of runtime to integers\n",
    "\n",
    "runtime_df['runtime_minutes'] = runtime_df['runtime_minutes'].str.replace('minutes', '')\n",
    "runtime_df['runtime_minutes'] = runtime_df['runtime_minutes'].astype(int)"
   ]
  },
  {
   "cell_type": "code",
   "execution_count": 44,
   "metadata": {},
   "outputs": [],
   "source": [
    "runtime_df = runtime_df.loc[(runtime_df['genres'] != 'None')]"
   ]
  },
  {
   "cell_type": "code",
   "execution_count": 45,
   "metadata": {},
   "outputs": [
    {
     "data": {
      "text/html": [
       "<div>\n",
       "<style scoped>\n",
       "    .dataframe tbody tr th:only-of-type {\n",
       "        vertical-align: middle;\n",
       "    }\n",
       "\n",
       "    .dataframe tbody tr th {\n",
       "        vertical-align: top;\n",
       "    }\n",
       "\n",
       "    .dataframe thead th {\n",
       "        text-align: right;\n",
       "    }\n",
       "</style>\n",
       "<table border=\"1\" class=\"dataframe\">\n",
       "  <thead>\n",
       "    <tr style=\"text-align: right;\">\n",
       "      <th></th>\n",
       "      <th>production_budget</th>\n",
       "      <th>domestic_gross</th>\n",
       "      <th>worldwide_gross</th>\n",
       "      <th>runtime_minutes</th>\n",
       "      <th>profits</th>\n",
       "      <th>profits_ratio</th>\n",
       "    </tr>\n",
       "  </thead>\n",
       "  <tbody>\n",
       "    <tr>\n",
       "      <th>count</th>\n",
       "      <td>4.718000e+03</td>\n",
       "      <td>4.718000e+03</td>\n",
       "      <td>4.718000e+03</td>\n",
       "      <td>4718.000000</td>\n",
       "      <td>4.718000e+03</td>\n",
       "      <td>4718.000000</td>\n",
       "    </tr>\n",
       "    <tr>\n",
       "      <th>mean</th>\n",
       "      <td>3.791222e+07</td>\n",
       "      <td>5.189427e+07</td>\n",
       "      <td>1.161069e+08</td>\n",
       "      <td>109.245443</td>\n",
       "      <td>7.819465e+07</td>\n",
       "      <td>4.798698</td>\n",
       "    </tr>\n",
       "    <tr>\n",
       "      <th>std</th>\n",
       "      <td>4.519174e+07</td>\n",
       "      <td>7.548228e+07</td>\n",
       "      <td>1.985386e+08</td>\n",
       "      <td>19.742007</td>\n",
       "      <td>1.681823e+08</td>\n",
       "      <td>17.410292</td>\n",
       "    </tr>\n",
       "    <tr>\n",
       "      <th>min</th>\n",
       "      <td>1.000000e+05</td>\n",
       "      <td>0.000000e+00</td>\n",
       "      <td>1.700000e+01</td>\n",
       "      <td>41.000000</td>\n",
       "      <td>-1.580898e+08</td>\n",
       "      <td>0.000002</td>\n",
       "    </tr>\n",
       "    <tr>\n",
       "      <th>25%</th>\n",
       "      <td>9.000000e+06</td>\n",
       "      <td>5.963404e+06</td>\n",
       "      <td>1.258305e+07</td>\n",
       "      <td>95.000000</td>\n",
       "      <td>-7.321238e+05</td>\n",
       "      <td>0.888601</td>\n",
       "    </tr>\n",
       "    <tr>\n",
       "      <th>50%</th>\n",
       "      <td>2.200000e+07</td>\n",
       "      <td>2.684756e+07</td>\n",
       "      <td>4.527922e+07</td>\n",
       "      <td>106.000000</td>\n",
       "      <td>2.058394e+07</td>\n",
       "      <td>2.146884</td>\n",
       "    </tr>\n",
       "    <tr>\n",
       "      <th>75%</th>\n",
       "      <td>5.000000e+07</td>\n",
       "      <td>6.502514e+07</td>\n",
       "      <td>1.318375e+08</td>\n",
       "      <td>120.000000</td>\n",
       "      <td>8.491387e+07</td>\n",
       "      <td>4.256127</td>\n",
       "    </tr>\n",
       "    <tr>\n",
       "      <th>max</th>\n",
       "      <td>4.000000e+08</td>\n",
       "      <td>9.366622e+08</td>\n",
       "      <td>2.845900e+09</td>\n",
       "      <td>260.000000</td>\n",
       "      <td>2.608900e+09</td>\n",
       "      <td>498.750000</td>\n",
       "    </tr>\n",
       "  </tbody>\n",
       "</table>\n",
       "</div>"
      ],
      "text/plain": [
       "       production_budget  domestic_gross  worldwide_gross  runtime_minutes  \\\n",
       "count       4.718000e+03    4.718000e+03     4.718000e+03      4718.000000   \n",
       "mean        3.791222e+07    5.189427e+07     1.161069e+08       109.245443   \n",
       "std         4.519174e+07    7.548228e+07     1.985386e+08        19.742007   \n",
       "min         1.000000e+05    0.000000e+00     1.700000e+01        41.000000   \n",
       "25%         9.000000e+06    5.963404e+06     1.258305e+07        95.000000   \n",
       "50%         2.200000e+07    2.684756e+07     4.527922e+07       106.000000   \n",
       "75%         5.000000e+07    6.502514e+07     1.318375e+08       120.000000   \n",
       "max         4.000000e+08    9.366622e+08     2.845900e+09       260.000000   \n",
       "\n",
       "            profits  profits_ratio  \n",
       "count  4.718000e+03    4718.000000  \n",
       "mean   7.819465e+07       4.798698  \n",
       "std    1.681823e+08      17.410292  \n",
       "min   -1.580898e+08       0.000002  \n",
       "25%   -7.321238e+05       0.888601  \n",
       "50%    2.058394e+07       2.146884  \n",
       "75%    8.491387e+07       4.256127  \n",
       "max    2.608900e+09     498.750000  "
      ]
     },
     "execution_count": 45,
     "metadata": {},
     "output_type": "execute_result"
    }
   ],
   "source": [
    "runtime_df.describe()"
   ]
  },
  {
   "cell_type": "markdown",
   "metadata": {},
   "source": [
    "Here we can see that the mean runtime for all the movies in our dataset is 109 minutes. Next, we'll check to see if there's a correlation between the runtime of movies and its profitability."
   ]
  },
  {
   "cell_type": "code",
   "execution_count": 46,
   "metadata": {},
   "outputs": [
    {
     "data": {
      "text/plain": [
       "-0.02928590650761622"
      ]
     },
     "execution_count": 46,
     "metadata": {},
     "output_type": "execute_result"
    }
   ],
   "source": [
    "#Calculate correlation of movie runtime and profitability\n",
    "\n",
    "runtime_df['runtime_minutes'].corr(runtime_df['profits_ratio'])"
   ]
  },
  {
   "cell_type": "markdown",
   "metadata": {},
   "source": [
    "There's a negative correlation between movie profitability and runtime (longer movies are less profitable and shorter movies are more profitable), but it's a weak correlation. To dig in a bit further, let's divide the data into 2 dataframes: one with movies that made a profit and one with movies that didn't make a profit. That way we can compare the runtimes between those two groups to get a better sense of their similarity or difference."
   ]
  },
  {
   "cell_type": "code",
   "execution_count": 47,
   "metadata": {},
   "outputs": [],
   "source": [
    "#Create two new data frames, one that only includes profitable movies and one that only includes unprofitable movies\n",
    "\n",
    "profitable = runtime_df[runtime_df['profits_ratio'] >= 1]\n",
    "non_profitable = runtime_df[runtime_df['profits_ratio'] < 1]"
   ]
  },
  {
   "cell_type": "code",
   "execution_count": 48,
   "metadata": {},
   "outputs": [
    {
     "name": "stdout",
     "output_type": "stream",
     "text": [
      "The correlation of movie runtime and profitability for profitable movies is: -0.04939102434021609.\n",
      "The correlation of movie runtime and profitability for non-profitable movies is: 0.12106129303953622.\n"
     ]
    }
   ],
   "source": [
    "#Calculate correlation of movie runtime and profitability for both the profitable and non-profitable data frames\n",
    "\n",
    "correlation_profitable = profitable['runtime_minutes'].corr(profitable['profits_ratio'])\n",
    "correlation_non_profitable = non_profitable['runtime_minutes'].corr(non_profitable['profits_ratio'])\n",
    "\n",
    "print(f'The correlation of movie runtime and profitability for profitable movies is: {correlation_profitable}.')\n",
    "print(f'The correlation of movie runtime and profitability for non-profitable movies is: {correlation_non_profitable}.')"
   ]
  },
  {
   "cell_type": "markdown",
   "metadata": {},
   "source": [
    "Profitable movies have a weak negative correlation between runtime and profitablity while non-profitable movies have a slighlty larger positive correlation. Based on this, it's best to stick with shorter, as opposed to longer, running times for a greater chance at a successful movie."
   ]
  },
  {
   "cell_type": "code",
   "execution_count": 49,
   "metadata": {},
   "outputs": [
    {
     "data": {
      "image/png": "[encoded data removed]",
      "text/plain": [
       "<Figure size 720x720 with 1 Axes>"
      ]
     },
     "metadata": {},
     "output_type": "display_data"
    }
   ],
   "source": [
    "#Create a historgram with kde line of movie runtimes for both profitable movies and unprofitable movies\n",
    "\n",
    "fig, ax = plt.subplots(figsize = (10,10))\n",
    "\n",
    "sns.histplot(data=profitable, x=\"runtime_minutes\", color=\"green\", bins=25, kde=True)\n",
    "plt.xlabel(\"Runtime by Minutes\")\n",
    "plt.title(\"Movie Runtimes by Profitable and Non-Profitable Movies\", size=20)\n",
    "\n",
    "sns.histplot(data=non_profitable, x=\"runtime_minutes\", color=\"red\", alpha=0.5, bins=25, kde=True)\n",
    "plt.legend(labels=[\"Profitable Movies\",\"Non-Profitable Movies\"])\n",
    "\n",
    "# plt.savefig('movie_runtime.png') # save graph to file\n",
    "plt.show()"
   ]
  },
  {
   "cell_type": "code",
   "execution_count": 50,
   "metadata": {},
   "outputs": [
    {
     "data": {
      "text/html": [
       "<div>\n",
       "<style scoped>\n",
       "    .dataframe tbody tr th:only-of-type {\n",
       "        vertical-align: middle;\n",
       "    }\n",
       "\n",
       "    .dataframe tbody tr th {\n",
       "        vertical-align: top;\n",
       "    }\n",
       "\n",
       "    .dataframe thead th {\n",
       "        text-align: right;\n",
       "    }\n",
       "</style>\n",
       "<table border=\"1\" class=\"dataframe\">\n",
       "  <thead>\n",
       "    <tr style=\"text-align: right;\">\n",
       "      <th></th>\n",
       "      <th>genres</th>\n",
       "      <th>runtime_minutes</th>\n",
       "    </tr>\n",
       "  </thead>\n",
       "  <tbody>\n",
       "    <tr>\n",
       "      <th>6</th>\n",
       "      <td>Horror</td>\n",
       "      <td>96.0</td>\n",
       "    </tr>\n",
       "    <tr>\n",
       "      <th>8</th>\n",
       "      <td>Romantic Comedy</td>\n",
       "      <td>104.0</td>\n",
       "    </tr>\n",
       "    <tr>\n",
       "      <th>7</th>\n",
       "      <td>Musical</td>\n",
       "      <td>113.0</td>\n",
       "    </tr>\n",
       "    <tr>\n",
       "      <th>1</th>\n",
       "      <td>Adventure</td>\n",
       "      <td>99.0</td>\n",
       "    </tr>\n",
       "    <tr>\n",
       "      <th>0</th>\n",
       "      <td>Action</td>\n",
       "      <td>112.0</td>\n",
       "    </tr>\n",
       "  </tbody>\n",
       "</table>\n",
       "</div>"
      ],
      "text/plain": [
       "            genres  runtime_minutes\n",
       "6           Horror             96.0\n",
       "8  Romantic Comedy            104.0\n",
       "7          Musical            113.0\n",
       "1        Adventure             99.0\n",
       "0           Action            112.0"
      ]
     },
     "execution_count": 50,
     "metadata": {},
     "output_type": "execute_result"
    }
   ],
   "source": [
    "# Create a new dataframe to find the top 5 genres\n",
    "\n",
    "top_5_genres_by_medianprofit = runtime_df.groupby(\"genres\", as_index=False).median().sort_values('profits_ratio', ascending=False)[0:5]\n",
    "\n",
    "top_5_genres_by_medianprofit.loc[:, ['genres', 'runtime_minutes']]"
   ]
  },
  {
   "cell_type": "code",
   "execution_count": 51,
   "metadata": {},
   "outputs": [
    {
     "data": {
      "image/png": "[encoded data removed]",
      "text/plain": [
       "<Figure size 936x720 with 1 Axes>"
      ]
     },
     "metadata": {},
     "output_type": "display_data"
    }
   ],
   "source": [
    "#Create bar graph showing median runtime of movies by genre\n",
    "fig, ax = plt.subplots(figsize = (13,10))\n",
    "\n",
    "sns.barplot(x='genres', y='runtime_minutes', data=top_5_genres_by_medianprofit,\n",
    "           palette=sns.color_palette(['#01A6F0', '#FFBA01', '#FFBA01', '#FFBA01', '#FFBA01']))\n",
    "\n",
    "plt.xlabel(\"Genre\")\n",
    "plt.ylabel(\"Runtime in Minutes\")\n",
    "plt.title(\"Median Runtime of Movies by Top 5 Profitable Genres\", size=20)\n",
    "\n",
    "# plt.savefig('runtime_per_genre.png') # save graph to file\n",
    "plt.show()"
   ]
  },
  {
   "cell_type": "markdown",
   "metadata": {},
   "source": [
    "Since the runtimes of profitable and non-profitable movies don't vary that much, it's better to look at the median runtime of a specific genre. For the most profitable genre, horror, Microsoft should shoot for a runtime of between 90 and 105 minutes"
   ]
  },
  {
   "cell_type": "markdown",
   "metadata": {},
   "source": [
    "## Evaluation\n",
    "\n",
    "After discovering that horror films yielded the highest return on investment, we took a look at the horror movies' performance and found that the popularity of horror films have increased over the past 40 forty years, making this an attractive genre on which to focus Microsoft’s resources. This analysis prompted us to explore the horror movies more closely to determine if there were discernible trends within this profitable genre. \n",
    "\n",
    "We looked at release dates to see if there was a certain time of year that was best to release horror movies. After separating profitable horror movies from unprofitable horror movies, we saw that October was the most popular month by count for profitable horror films to be released. September was the most popular month by count for unprofitable horror films to be released. \n",
    "\n",
    "Going further, we also examined the runtime of profitable and unprofitable movies to see if there was a relationship to profitability. We chose to look at median runtimes in order to reduce the effect of outliers on our analysis. The median runtime of profitable movies is 107 minutes; for unprofitable movies, the median runtime is 103. This 4-minute difference doesn’t really tell us a lot, so we examined runtime by genre. We found that different genres have different median runtimes, with horror having a median runtime of 96 minutes. Calculating the interquartile range gives us a runtime of 90-105 minutes, which is a reasonable window for Microsoft to aim for their movies’ runtimes."
   ]
  },
  {
   "cell_type": "markdown",
   "metadata": {},
   "source": [
    "## Conclusions\n",
    "\n",
    "Based on the findings from our data analysis, we recommend that Microsoft focus on producing films within the horror genre, as horror movies have the highest rate of return of any genre. Moreover, horror movies are increasing in popularity over the past 40 years, as evidenced by the number of releases by year. \n",
    "\n",
    "The most profitable month to release horror films is, perhaps unsurprisingly, in October. Of special note, our analysis revealed the most unprofitable month for horror films is September, so we urge Microsoft not to release a horror film until October begins. The median runtime for horror movies is 96 minutes, with the bulk spanning 90-105 minutes. We therefore recommend that Microsoft release horror films in October with a runtime between 90-105 minutes. \n",
    "\n",
    "We do caution that this may not be a guarantee for success at Microsoft’s movie studio. For one, since Microsoft is just beginning to make films, it does not yet have an established reputation. This may make people wary of going to see their films initially. Additionally, movie quality is important. If the movies have uninspired plots, poor acting, and sloppy edits, they may not prove to be profitable.\n",
    " \n",
    "For that reason, one future course of inquiry would be to analyze the impact of specific directors and actors on a movie’s profitability. Utilizing well-known and respected movie talent would likely increase people’s confidence in the film’s quality and give it a greater chance of ending up as a quality product. \n",
    "\n",
    "Another mode of inquiry would be to determine what the most critically acclaimed films are. Those with the highest reviews or most awards may not be the most profitable, but perhaps Microsoft wants to focus on establishing a reputation for quality films, especially as it builds its movie catalog. Proving its ability to make interesting and creative movies would likely attract popular and skilled film industry talent, thereby further increasing the quality of Microsoft’s movies and resulting in greater profitability."
   ]
  }
 ],
 "metadata": {
  "kernelspec": {
   "display_name": "Python 3",
   "language": "python",
   "name": "python3"
  },
  "language_info": {
   "codemirror_mode": {
    "name": "ipython",
    "version": 3
   },
   "file_extension": ".py",
   "mimetype": "text/x-python",
   "name": "python",
   "nbconvert_exporter": "python",
   "pygments_lexer": "ipython3",
   "version": "3.8.5"
  }
 },
 "nbformat": 4,
 "nbformat_minor": 4
}
