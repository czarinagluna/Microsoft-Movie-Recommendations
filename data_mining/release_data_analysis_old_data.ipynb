{
 "cells": [
  {
   "cell_type": "code",
   "execution_count": 1,
   "metadata": {},
   "outputs": [],
   "source": [
    "import pandas as pd\n",
    "import numpy as np\n",
    "import matplotlib.pyplot as plt\n",
    "%matplotlib inline"
   ]
  },
  {
   "cell_type": "code",
   "execution_count": 2,
   "metadata": {},
   "outputs": [],
   "source": [
    "# All the datasets \n",
    "\n",
    "box_office_mojo = pd.read_csv(\"./data/bom.movie_gross.csv\")\n",
    "\n",
    "imdb_name = pd.read_csv(\"./data/name.basics.csv\")\n",
    "imdb_title = pd.read_csv(\"./data/title.basics.csv\")\n",
    "imdb_crew = pd.read_csv(\"./data/title.crew.csv\") \n",
    "imdb_principals = pd.read_csv(\"./data/title.principals.csv\")\n",
    "imdb_ratings = pd.read_csv(\"./data/title.ratings.csv\")\n",
    "imdb_akas = pd.read_csv(\"./data/title.akas.csv\")\n",
    "\n",
    "rt_info = pd.read_csv(\"./data/rt.movie_info.tsv\", sep = \"\\t\")\n",
    "rt_reviews = pd.read_csv(\"./data/rt.reviews.tsv\", sep = \"\\t\", encoding='windows-1252')\n",
    "\n",
    "the_movie_db = pd.read_csv(\"./data/tmdb.movies.csv\")\n",
    "\n",
    "movie_budgets = pd.read_csv(\"./data/tn.movie_budgets.csv\")"
   ]
  },
  {
   "cell_type": "code",
   "execution_count": 3,
   "metadata": {},
   "outputs": [],
   "source": [
    "title_and_ratings = imdb_title.merge(imdb_ratings, on=\"tconst\")"
   ]
  },
  {
   "cell_type": "code",
   "execution_count": 4,
   "metadata": {},
   "outputs": [],
   "source": [
    "title_and_ratings = title_and_ratings.rename(columns={\"primary_title\":\"movie\"})"
   ]
  },
  {
   "cell_type": "code",
   "execution_count": 5,
   "metadata": {},
   "outputs": [],
   "source": [
    "imdb_crew = imdb_crew.rename(columns={\"directors\":\"nconst\"})"
   ]
  },
  {
   "cell_type": "code",
   "execution_count": 6,
   "metadata": {},
   "outputs": [],
   "source": [
    "names_of_director = imdb_crew.merge(imdb_name, on=\"nconst\")"
   ]
  },
  {
   "cell_type": "code",
   "execution_count": 7,
   "metadata": {},
   "outputs": [],
   "source": [
    "imdb_df = title_and_ratings.merge(names_of_director, on=\"tconst\")"
   ]
  },
  {
   "cell_type": "code",
   "execution_count": 8,
   "metadata": {},
   "outputs": [],
   "source": [
    "df = imdb_df.merge(movie_budgets, on=\"movie\")"
   ]
  },
  {
   "cell_type": "code",
   "execution_count": 9,
   "metadata": {},
   "outputs": [],
   "source": [
    "df = df.drop([#'tconst', \n",
    "         'original_title', \n",
    "         'start_year', \n",
    "         'nconst', \n",
    "         'writers', \n",
    "         'birth_year', \n",
    "         'death_year', \n",
    "         'primary_profession', \n",
    "         'known_for_titles', \n",
    "         'id'], axis=1)"
   ]
  },
  {
   "cell_type": "code",
   "execution_count": 10,
   "metadata": {},
   "outputs": [
    {
     "data": {
      "text/html": [
       "<div>\n",
       "<style scoped>\n",
       "    .dataframe tbody tr th:only-of-type {\n",
       "        vertical-align: middle;\n",
       "    }\n",
       "\n",
       "    .dataframe tbody tr th {\n",
       "        vertical-align: top;\n",
       "    }\n",
       "\n",
       "    .dataframe thead th {\n",
       "        text-align: right;\n",
       "    }\n",
       "</style>\n",
       "<table border=\"1\" class=\"dataframe\">\n",
       "  <thead>\n",
       "    <tr style=\"text-align: right;\">\n",
       "      <th></th>\n",
       "      <th>tconst</th>\n",
       "      <th>movie</th>\n",
       "      <th>runtime_minutes</th>\n",
       "      <th>genres</th>\n",
       "      <th>averagerating</th>\n",
       "      <th>numvotes</th>\n",
       "      <th>primary_name</th>\n",
       "      <th>release_date</th>\n",
       "      <th>production_budget</th>\n",
       "      <th>domestic_gross</th>\n",
       "      <th>worldwide_gross</th>\n",
       "    </tr>\n",
       "  </thead>\n",
       "  <tbody>\n",
       "    <tr>\n",
       "      <th>0</th>\n",
       "      <td>tt0249516</td>\n",
       "      <td>Foodfight!</td>\n",
       "      <td>91.0</td>\n",
       "      <td>Action,Animation,Comedy</td>\n",
       "      <td>1.9</td>\n",
       "      <td>8248</td>\n",
       "      <td>Lawrence Kasanoff</td>\n",
       "      <td>Dec 31, 2012</td>\n",
       "      <td>$45,000,000</td>\n",
       "      <td>$0</td>\n",
       "      <td>$73,706</td>\n",
       "    </tr>\n",
       "    <tr>\n",
       "      <th>1</th>\n",
       "      <td>tt0326592</td>\n",
       "      <td>The Overnight</td>\n",
       "      <td>88.0</td>\n",
       "      <td>NaN</td>\n",
       "      <td>7.5</td>\n",
       "      <td>24</td>\n",
       "      <td>Jed I. Goodman</td>\n",
       "      <td>Jun 19, 2015</td>\n",
       "      <td>$200,000</td>\n",
       "      <td>$1,109,808</td>\n",
       "      <td>$1,165,996</td>\n",
       "    </tr>\n",
       "    <tr>\n",
       "      <th>2</th>\n",
       "      <td>tt3844362</td>\n",
       "      <td>The Overnight</td>\n",
       "      <td>79.0</td>\n",
       "      <td>Comedy,Mystery</td>\n",
       "      <td>6.1</td>\n",
       "      <td>14828</td>\n",
       "      <td>Patrick Brice</td>\n",
       "      <td>Jun 19, 2015</td>\n",
       "      <td>$200,000</td>\n",
       "      <td>$1,109,808</td>\n",
       "      <td>$1,165,996</td>\n",
       "    </tr>\n",
       "    <tr>\n",
       "      <th>3</th>\n",
       "      <td>tt0337692</td>\n",
       "      <td>On the Road</td>\n",
       "      <td>124.0</td>\n",
       "      <td>Adventure,Drama,Romance</td>\n",
       "      <td>6.1</td>\n",
       "      <td>37886</td>\n",
       "      <td>Walter Salles</td>\n",
       "      <td>Mar 22, 2013</td>\n",
       "      <td>$25,000,000</td>\n",
       "      <td>$720,828</td>\n",
       "      <td>$9,313,302</td>\n",
       "    </tr>\n",
       "    <tr>\n",
       "      <th>4</th>\n",
       "      <td>tt4339118</td>\n",
       "      <td>On the Road</td>\n",
       "      <td>89.0</td>\n",
       "      <td>Drama</td>\n",
       "      <td>6.0</td>\n",
       "      <td>6</td>\n",
       "      <td>Poong-ki Kim</td>\n",
       "      <td>Mar 22, 2013</td>\n",
       "      <td>$25,000,000</td>\n",
       "      <td>$720,828</td>\n",
       "      <td>$9,313,302</td>\n",
       "    </tr>\n",
       "  </tbody>\n",
       "</table>\n",
       "</div>"
      ],
      "text/plain": [
       "      tconst          movie  runtime_minutes                   genres  \\\n",
       "0  tt0249516     Foodfight!             91.0  Action,Animation,Comedy   \n",
       "1  tt0326592  The Overnight             88.0                      NaN   \n",
       "2  tt3844362  The Overnight             79.0           Comedy,Mystery   \n",
       "3  tt0337692    On the Road            124.0  Adventure,Drama,Romance   \n",
       "4  tt4339118    On the Road             89.0                    Drama   \n",
       "\n",
       "   averagerating  numvotes       primary_name  release_date production_budget  \\\n",
       "0            1.9      8248  Lawrence Kasanoff  Dec 31, 2012       $45,000,000   \n",
       "1            7.5        24     Jed I. Goodman  Jun 19, 2015          $200,000   \n",
       "2            6.1     14828      Patrick Brice  Jun 19, 2015          $200,000   \n",
       "3            6.1     37886      Walter Salles  Mar 22, 2013       $25,000,000   \n",
       "4            6.0         6       Poong-ki Kim  Mar 22, 2013       $25,000,000   \n",
       "\n",
       "  domestic_gross worldwide_gross  \n",
       "0             $0         $73,706  \n",
       "1     $1,109,808      $1,165,996  \n",
       "2     $1,109,808      $1,165,996  \n",
       "3       $720,828      $9,313,302  \n",
       "4       $720,828      $9,313,302  "
      ]
     },
     "execution_count": 10,
     "metadata": {},
     "output_type": "execute_result"
    }
   ],
   "source": [
    "df.head()"
   ]
  },
  {
   "cell_type": "markdown",
   "metadata": {},
   "source": [
    "### Clean up columns\n",
    "1. movie: find duplicates, but check if totally the same, or other features are different\n",
    "2. runtime_minutes:\n",
    "3. genres: list multiple genres (in analysis, include combination of genres as separate category)\n",
    "4. averagerating: rename with underscore\n",
    "5. numvotes: rename with underscore\n",
    "6. primary_name:\n",
    "7. release_data: change format to datetime\n",
    "8. production_budget: change to int\n",
    "9. domestic_gross: change to int\n",
    "10. worldwide_gross: change to int"
   ]
  },
  {
   "cell_type": "code",
   "execution_count": 10,
   "metadata": {},
   "outputs": [],
   "source": [
    "df['release_date'] = pd.to_datetime(df['release_date'])"
   ]
  },
  {
   "cell_type": "code",
   "execution_count": 11,
   "metadata": {},
   "outputs": [],
   "source": [
    "def dollar_to_int(column):\n",
    "    return column.str.replace('$', '').str.replace(',', '').map(int)"
   ]
  },
  {
   "cell_type": "code",
   "execution_count": 12,
   "metadata": {},
   "outputs": [],
   "source": [
    "df[['production_budget', 'domestic_gross', 'worldwide_gross']] = df[['production_budget', 'domestic_gross', 'worldwide_gross']].apply(dollar_to_int)"
   ]
  },
  {
   "cell_type": "code",
   "execution_count": 13,
   "metadata": {},
   "outputs": [
    {
     "data": {
      "text/html": [
       "<div>\n",
       "<style scoped>\n",
       "    .dataframe tbody tr th:only-of-type {\n",
       "        vertical-align: middle;\n",
       "    }\n",
       "\n",
       "    .dataframe tbody tr th {\n",
       "        vertical-align: top;\n",
       "    }\n",
       "\n",
       "    .dataframe thead th {\n",
       "        text-align: right;\n",
       "    }\n",
       "</style>\n",
       "<table border=\"1\" class=\"dataframe\">\n",
       "  <thead>\n",
       "    <tr style=\"text-align: right;\">\n",
       "      <th></th>\n",
       "      <th>tconst</th>\n",
       "      <th>movie</th>\n",
       "      <th>runtime_minutes</th>\n",
       "      <th>genres</th>\n",
       "      <th>averagerating</th>\n",
       "      <th>numvotes</th>\n",
       "      <th>primary_name</th>\n",
       "      <th>release_date</th>\n",
       "      <th>production_budget</th>\n",
       "      <th>domestic_gross</th>\n",
       "      <th>worldwide_gross</th>\n",
       "    </tr>\n",
       "  </thead>\n",
       "  <tbody>\n",
       "    <tr>\n",
       "      <th>0</th>\n",
       "      <td>tt0249516</td>\n",
       "      <td>Foodfight!</td>\n",
       "      <td>91.0</td>\n",
       "      <td>Action,Animation,Comedy</td>\n",
       "      <td>1.9</td>\n",
       "      <td>8248</td>\n",
       "      <td>Lawrence Kasanoff</td>\n",
       "      <td>2012-12-31</td>\n",
       "      <td>45000000</td>\n",
       "      <td>0</td>\n",
       "      <td>73706</td>\n",
       "    </tr>\n",
       "    <tr>\n",
       "      <th>1</th>\n",
       "      <td>tt0326592</td>\n",
       "      <td>The Overnight</td>\n",
       "      <td>88.0</td>\n",
       "      <td>NaN</td>\n",
       "      <td>7.5</td>\n",
       "      <td>24</td>\n",
       "      <td>Jed I. Goodman</td>\n",
       "      <td>2015-06-19</td>\n",
       "      <td>200000</td>\n",
       "      <td>1109808</td>\n",
       "      <td>1165996</td>\n",
       "    </tr>\n",
       "    <tr>\n",
       "      <th>2</th>\n",
       "      <td>tt3844362</td>\n",
       "      <td>The Overnight</td>\n",
       "      <td>79.0</td>\n",
       "      <td>Comedy,Mystery</td>\n",
       "      <td>6.1</td>\n",
       "      <td>14828</td>\n",
       "      <td>Patrick Brice</td>\n",
       "      <td>2015-06-19</td>\n",
       "      <td>200000</td>\n",
       "      <td>1109808</td>\n",
       "      <td>1165996</td>\n",
       "    </tr>\n",
       "    <tr>\n",
       "      <th>3</th>\n",
       "      <td>tt0337692</td>\n",
       "      <td>On the Road</td>\n",
       "      <td>124.0</td>\n",
       "      <td>Adventure,Drama,Romance</td>\n",
       "      <td>6.1</td>\n",
       "      <td>37886</td>\n",
       "      <td>Walter Salles</td>\n",
       "      <td>2013-03-22</td>\n",
       "      <td>25000000</td>\n",
       "      <td>720828</td>\n",
       "      <td>9313302</td>\n",
       "    </tr>\n",
       "    <tr>\n",
       "      <th>4</th>\n",
       "      <td>tt4339118</td>\n",
       "      <td>On the Road</td>\n",
       "      <td>89.0</td>\n",
       "      <td>Drama</td>\n",
       "      <td>6.0</td>\n",
       "      <td>6</td>\n",
       "      <td>Poong-ki Kim</td>\n",
       "      <td>2013-03-22</td>\n",
       "      <td>25000000</td>\n",
       "      <td>720828</td>\n",
       "      <td>9313302</td>\n",
       "    </tr>\n",
       "  </tbody>\n",
       "</table>\n",
       "</div>"
      ],
      "text/plain": [
       "      tconst          movie  runtime_minutes                   genres  \\\n",
       "0  tt0249516     Foodfight!             91.0  Action,Animation,Comedy   \n",
       "1  tt0326592  The Overnight             88.0                      NaN   \n",
       "2  tt3844362  The Overnight             79.0           Comedy,Mystery   \n",
       "3  tt0337692    On the Road            124.0  Adventure,Drama,Romance   \n",
       "4  tt4339118    On the Road             89.0                    Drama   \n",
       "\n",
       "   averagerating  numvotes       primary_name release_date  production_budget  \\\n",
       "0            1.9      8248  Lawrence Kasanoff   2012-12-31           45000000   \n",
       "1            7.5        24     Jed I. Goodman   2015-06-19             200000   \n",
       "2            6.1     14828      Patrick Brice   2015-06-19             200000   \n",
       "3            6.1     37886      Walter Salles   2013-03-22           25000000   \n",
       "4            6.0         6       Poong-ki Kim   2013-03-22           25000000   \n",
       "\n",
       "   domestic_gross  worldwide_gross  \n",
       "0               0            73706  \n",
       "1         1109808          1165996  \n",
       "2         1109808          1165996  \n",
       "3          720828          9313302  \n",
       "4          720828          9313302  "
      ]
     },
     "execution_count": 13,
     "metadata": {},
     "output_type": "execute_result"
    }
   ],
   "source": [
    "df.head()"
   ]
  },
  {
   "cell_type": "markdown",
   "metadata": {},
   "source": [
    "### Remove missing values of worldwide_gross"
   ]
  },
  {
   "cell_type": "code",
   "execution_count": 14,
   "metadata": {},
   "outputs": [],
   "source": [
    "df = df[~(df['worldwide_gross']==0)]"
   ]
  },
  {
   "cell_type": "markdown",
   "metadata": {},
   "source": [
    "### Create new columns\n",
    "11. total_profit\n",
    "12. profit_budget_ratio\n",
    "13. day\n",
    "14. month\n",
    "15. year"
   ]
  },
  {
   "cell_type": "code",
   "execution_count": 15,
   "metadata": {},
   "outputs": [],
   "source": [
    "df['total_profit'] = df['worldwide_gross'] - df['production_budget']"
   ]
  },
  {
   "cell_type": "code",
   "execution_count": 16,
   "metadata": {},
   "outputs": [],
   "source": [
    "df['profit_to_budget'] = (df['worldwide_gross'] / df['production_budget'])*100"
   ]
  },
  {
   "cell_type": "code",
   "execution_count": 17,
   "metadata": {},
   "outputs": [],
   "source": [
    "df['day'] = df['release_date'].dt.day_name()"
   ]
  },
  {
   "cell_type": "code",
   "execution_count": 18,
   "metadata": {},
   "outputs": [],
   "source": [
    "df['month'] = pd.DatetimeIndex(df['release_date']).month"
   ]
  },
  {
   "cell_type": "code",
   "execution_count": 19,
   "metadata": {},
   "outputs": [],
   "source": [
    "df['year'] = pd.DatetimeIndex(df['release_date']).year"
   ]
  },
  {
   "cell_type": "code",
   "execution_count": 20,
   "metadata": {
    "scrolled": true
   },
   "outputs": [
    {
     "data": {
      "text/html": [
       "<div>\n",
       "<style scoped>\n",
       "    .dataframe tbody tr th:only-of-type {\n",
       "        vertical-align: middle;\n",
       "    }\n",
       "\n",
       "    .dataframe tbody tr th {\n",
       "        vertical-align: top;\n",
       "    }\n",
       "\n",
       "    .dataframe thead th {\n",
       "        text-align: right;\n",
       "    }\n",
       "</style>\n",
       "<table border=\"1\" class=\"dataframe\">\n",
       "  <thead>\n",
       "    <tr style=\"text-align: right;\">\n",
       "      <th></th>\n",
       "      <th>tconst</th>\n",
       "      <th>movie</th>\n",
       "      <th>runtime_minutes</th>\n",
       "      <th>genres</th>\n",
       "      <th>averagerating</th>\n",
       "      <th>numvotes</th>\n",
       "      <th>primary_name</th>\n",
       "      <th>release_date</th>\n",
       "      <th>production_budget</th>\n",
       "      <th>domestic_gross</th>\n",
       "      <th>worldwide_gross</th>\n",
       "      <th>total_profit</th>\n",
       "      <th>profit_to_budget</th>\n",
       "      <th>day</th>\n",
       "      <th>month</th>\n",
       "      <th>year</th>\n",
       "    </tr>\n",
       "  </thead>\n",
       "  <tbody>\n",
       "    <tr>\n",
       "      <th>0</th>\n",
       "      <td>tt0249516</td>\n",
       "      <td>Foodfight!</td>\n",
       "      <td>91.0</td>\n",
       "      <td>Action,Animation,Comedy</td>\n",
       "      <td>1.9</td>\n",
       "      <td>8248</td>\n",
       "      <td>Lawrence Kasanoff</td>\n",
       "      <td>2012-12-31</td>\n",
       "      <td>45000000</td>\n",
       "      <td>0</td>\n",
       "      <td>73706</td>\n",
       "      <td>-44926294</td>\n",
       "      <td>0.163791</td>\n",
       "      <td>Monday</td>\n",
       "      <td>12</td>\n",
       "      <td>2012</td>\n",
       "    </tr>\n",
       "    <tr>\n",
       "      <th>1</th>\n",
       "      <td>tt0326592</td>\n",
       "      <td>The Overnight</td>\n",
       "      <td>88.0</td>\n",
       "      <td>NaN</td>\n",
       "      <td>7.5</td>\n",
       "      <td>24</td>\n",
       "      <td>Jed I. Goodman</td>\n",
       "      <td>2015-06-19</td>\n",
       "      <td>200000</td>\n",
       "      <td>1109808</td>\n",
       "      <td>1165996</td>\n",
       "      <td>965996</td>\n",
       "      <td>582.998000</td>\n",
       "      <td>Friday</td>\n",
       "      <td>6</td>\n",
       "      <td>2015</td>\n",
       "    </tr>\n",
       "    <tr>\n",
       "      <th>2</th>\n",
       "      <td>tt3844362</td>\n",
       "      <td>The Overnight</td>\n",
       "      <td>79.0</td>\n",
       "      <td>Comedy,Mystery</td>\n",
       "      <td>6.1</td>\n",
       "      <td>14828</td>\n",
       "      <td>Patrick Brice</td>\n",
       "      <td>2015-06-19</td>\n",
       "      <td>200000</td>\n",
       "      <td>1109808</td>\n",
       "      <td>1165996</td>\n",
       "      <td>965996</td>\n",
       "      <td>582.998000</td>\n",
       "      <td>Friday</td>\n",
       "      <td>6</td>\n",
       "      <td>2015</td>\n",
       "    </tr>\n",
       "    <tr>\n",
       "      <th>3</th>\n",
       "      <td>tt0337692</td>\n",
       "      <td>On the Road</td>\n",
       "      <td>124.0</td>\n",
       "      <td>Adventure,Drama,Romance</td>\n",
       "      <td>6.1</td>\n",
       "      <td>37886</td>\n",
       "      <td>Walter Salles</td>\n",
       "      <td>2013-03-22</td>\n",
       "      <td>25000000</td>\n",
       "      <td>720828</td>\n",
       "      <td>9313302</td>\n",
       "      <td>-15686698</td>\n",
       "      <td>37.253208</td>\n",
       "      <td>Friday</td>\n",
       "      <td>3</td>\n",
       "      <td>2013</td>\n",
       "    </tr>\n",
       "    <tr>\n",
       "      <th>4</th>\n",
       "      <td>tt4339118</td>\n",
       "      <td>On the Road</td>\n",
       "      <td>89.0</td>\n",
       "      <td>Drama</td>\n",
       "      <td>6.0</td>\n",
       "      <td>6</td>\n",
       "      <td>Poong-ki Kim</td>\n",
       "      <td>2013-03-22</td>\n",
       "      <td>25000000</td>\n",
       "      <td>720828</td>\n",
       "      <td>9313302</td>\n",
       "      <td>-15686698</td>\n",
       "      <td>37.253208</td>\n",
       "      <td>Friday</td>\n",
       "      <td>3</td>\n",
       "      <td>2013</td>\n",
       "    </tr>\n",
       "  </tbody>\n",
       "</table>\n",
       "</div>"
      ],
      "text/plain": [
       "      tconst          movie  runtime_minutes                   genres  \\\n",
       "0  tt0249516     Foodfight!             91.0  Action,Animation,Comedy   \n",
       "1  tt0326592  The Overnight             88.0                      NaN   \n",
       "2  tt3844362  The Overnight             79.0           Comedy,Mystery   \n",
       "3  tt0337692    On the Road            124.0  Adventure,Drama,Romance   \n",
       "4  tt4339118    On the Road             89.0                    Drama   \n",
       "\n",
       "   averagerating  numvotes       primary_name release_date  production_budget  \\\n",
       "0            1.9      8248  Lawrence Kasanoff   2012-12-31           45000000   \n",
       "1            7.5        24     Jed I. Goodman   2015-06-19             200000   \n",
       "2            6.1     14828      Patrick Brice   2015-06-19             200000   \n",
       "3            6.1     37886      Walter Salles   2013-03-22           25000000   \n",
       "4            6.0         6       Poong-ki Kim   2013-03-22           25000000   \n",
       "\n",
       "   domestic_gross  worldwide_gross  total_profit  profit_to_budget     day  \\\n",
       "0               0            73706     -44926294          0.163791  Monday   \n",
       "1         1109808          1165996        965996        582.998000  Friday   \n",
       "2         1109808          1165996        965996        582.998000  Friday   \n",
       "3          720828          9313302     -15686698         37.253208  Friday   \n",
       "4          720828          9313302     -15686698         37.253208  Friday   \n",
       "\n",
       "   month  year  \n",
       "0     12  2012  \n",
       "1      6  2015  \n",
       "2      6  2015  \n",
       "3      3  2013  \n",
       "4      3  2013  "
      ]
     },
     "execution_count": 20,
     "metadata": {},
     "output_type": "execute_result"
    }
   ],
   "source": [
    "df.head()"
   ]
  },
  {
   "cell_type": "code",
   "execution_count": 21,
   "metadata": {},
   "outputs": [
    {
     "name": "stdout",
     "output_type": "stream",
     "text": [
      "<class 'pandas.core.frame.DataFrame'>\n",
      "Int64Index: 2360 entries, 0 to 2613\n",
      "Data columns (total 16 columns):\n",
      " #   Column             Non-Null Count  Dtype         \n",
      "---  ------             --------------  -----         \n",
      " 0   tconst             2360 non-null   object        \n",
      " 1   movie              2360 non-null   object        \n",
      " 2   runtime_minutes    2267 non-null   float64       \n",
      " 3   genres             2354 non-null   object        \n",
      " 4   averagerating      2360 non-null   float64       \n",
      " 5   numvotes           2360 non-null   int64         \n",
      " 6   primary_name       2360 non-null   object        \n",
      " 7   release_date       2360 non-null   datetime64[ns]\n",
      " 8   production_budget  2360 non-null   int64         \n",
      " 9   domestic_gross     2360 non-null   int64         \n",
      " 10  worldwide_gross    2360 non-null   int64         \n",
      " 11  total_profit       2360 non-null   int64         \n",
      " 12  profit_to_budget   2360 non-null   float64       \n",
      " 13  day                2360 non-null   object        \n",
      " 14  month              2360 non-null   int64         \n",
      " 15  year               2360 non-null   int64         \n",
      "dtypes: datetime64[ns](1), float64(3), int64(7), object(5)\n",
      "memory usage: 313.4+ KB\n"
     ]
    }
   ],
   "source": [
    "df.info()"
   ]
  },
  {
   "cell_type": "code",
   "execution_count": 22,
   "metadata": {},
   "outputs": [
    {
     "data": {
      "text/html": [
       "<div>\n",
       "<style scoped>\n",
       "    .dataframe tbody tr th:only-of-type {\n",
       "        vertical-align: middle;\n",
       "    }\n",
       "\n",
       "    .dataframe tbody tr th {\n",
       "        vertical-align: top;\n",
       "    }\n",
       "\n",
       "    .dataframe thead th {\n",
       "        text-align: right;\n",
       "    }\n",
       "</style>\n",
       "<table border=\"1\" class=\"dataframe\">\n",
       "  <thead>\n",
       "    <tr style=\"text-align: right;\">\n",
       "      <th></th>\n",
       "      <th>runtime_minutes</th>\n",
       "      <th>averagerating</th>\n",
       "      <th>numvotes</th>\n",
       "      <th>production_budget</th>\n",
       "      <th>domestic_gross</th>\n",
       "      <th>worldwide_gross</th>\n",
       "      <th>total_profit</th>\n",
       "      <th>profit_to_budget</th>\n",
       "      <th>month</th>\n",
       "      <th>year</th>\n",
       "    </tr>\n",
       "  </thead>\n",
       "  <tbody>\n",
       "    <tr>\n",
       "      <th>count</th>\n",
       "      <td>2267.000000</td>\n",
       "      <td>2360.000000</td>\n",
       "      <td>2.360000e+03</td>\n",
       "      <td>2.360000e+03</td>\n",
       "      <td>2.360000e+03</td>\n",
       "      <td>2.360000e+03</td>\n",
       "      <td>2.360000e+03</td>\n",
       "      <td>2360.000000</td>\n",
       "      <td>2360.000000</td>\n",
       "      <td>2360.000000</td>\n",
       "    </tr>\n",
       "    <tr>\n",
       "      <th>mean</th>\n",
       "      <td>104.801500</td>\n",
       "      <td>6.312966</td>\n",
       "      <td>7.320035e+04</td>\n",
       "      <td>3.669066e+07</td>\n",
       "      <td>4.509926e+07</td>\n",
       "      <td>1.068190e+08</td>\n",
       "      <td>7.012833e+07</td>\n",
       "      <td>444.236626</td>\n",
       "      <td>6.881780</td>\n",
       "      <td>2010.019068</td>\n",
       "    </tr>\n",
       "    <tr>\n",
       "      <th>std</th>\n",
       "      <td>20.775804</td>\n",
       "      <td>1.124912</td>\n",
       "      <td>1.405273e+05</td>\n",
       "      <td>4.808589e+07</td>\n",
       "      <td>7.190164e+07</td>\n",
       "      <td>1.951276e+08</td>\n",
       "      <td>1.610092e+08</td>\n",
       "      <td>1435.526266</td>\n",
       "      <td>3.475343</td>\n",
       "      <td>9.372607</td>\n",
       "    </tr>\n",
       "    <tr>\n",
       "      <th>min</th>\n",
       "      <td>5.000000</td>\n",
       "      <td>1.600000</td>\n",
       "      <td>5.000000e+00</td>\n",
       "      <td>9.000000e+03</td>\n",
       "      <td>0.000000e+00</td>\n",
       "      <td>2.600000e+01</td>\n",
       "      <td>-2.002376e+08</td>\n",
       "      <td>0.002600</td>\n",
       "      <td>1.000000</td>\n",
       "      <td>1915.000000</td>\n",
       "    </tr>\n",
       "    <tr>\n",
       "      <th>25%</th>\n",
       "      <td>92.000000</td>\n",
       "      <td>5.700000</td>\n",
       "      <td>2.100000e+02</td>\n",
       "      <td>7.000000e+06</td>\n",
       "      <td>2.058697e+06</td>\n",
       "      <td>6.328516e+06</td>\n",
       "      <td>-2.168533e+06</td>\n",
       "      <td>59.223248</td>\n",
       "      <td>4.000000</td>\n",
       "      <td>2010.000000</td>\n",
       "    </tr>\n",
       "    <tr>\n",
       "      <th>50%</th>\n",
       "      <td>103.000000</td>\n",
       "      <td>6.400000</td>\n",
       "      <td>1.476500e+04</td>\n",
       "      <td>2.000000e+07</td>\n",
       "      <td>2.122036e+07</td>\n",
       "      <td>3.826860e+07</td>\n",
       "      <td>1.424287e+07</td>\n",
       "      <td>180.567206</td>\n",
       "      <td>7.000000</td>\n",
       "      <td>2013.000000</td>\n",
       "    </tr>\n",
       "    <tr>\n",
       "      <th>75%</th>\n",
       "      <td>116.000000</td>\n",
       "      <td>7.100000</td>\n",
       "      <td>8.564725e+04</td>\n",
       "      <td>4.500000e+07</td>\n",
       "      <td>5.517640e+07</td>\n",
       "      <td>1.104207e+08</td>\n",
       "      <td>7.107578e+07</td>\n",
       "      <td>388.014122</td>\n",
       "      <td>10.000000</td>\n",
       "      <td>2015.000000</td>\n",
       "    </tr>\n",
       "    <tr>\n",
       "      <th>max</th>\n",
       "      <td>280.000000</td>\n",
       "      <td>9.300000</td>\n",
       "      <td>1.841066e+06</td>\n",
       "      <td>4.250000e+08</td>\n",
       "      <td>7.605076e+08</td>\n",
       "      <td>2.776345e+09</td>\n",
       "      <td>2.351345e+09</td>\n",
       "      <td>31235.431235</td>\n",
       "      <td>12.000000</td>\n",
       "      <td>2019.000000</td>\n",
       "    </tr>\n",
       "  </tbody>\n",
       "</table>\n",
       "</div>"
      ],
      "text/plain": [
       "       runtime_minutes  averagerating      numvotes  production_budget  \\\n",
       "count      2267.000000    2360.000000  2.360000e+03       2.360000e+03   \n",
       "mean        104.801500       6.312966  7.320035e+04       3.669066e+07   \n",
       "std          20.775804       1.124912  1.405273e+05       4.808589e+07   \n",
       "min           5.000000       1.600000  5.000000e+00       9.000000e+03   \n",
       "25%          92.000000       5.700000  2.100000e+02       7.000000e+06   \n",
       "50%         103.000000       6.400000  1.476500e+04       2.000000e+07   \n",
       "75%         116.000000       7.100000  8.564725e+04       4.500000e+07   \n",
       "max         280.000000       9.300000  1.841066e+06       4.250000e+08   \n",
       "\n",
       "       domestic_gross  worldwide_gross  total_profit  profit_to_budget  \\\n",
       "count    2.360000e+03     2.360000e+03  2.360000e+03       2360.000000   \n",
       "mean     4.509926e+07     1.068190e+08  7.012833e+07        444.236626   \n",
       "std      7.190164e+07     1.951276e+08  1.610092e+08       1435.526266   \n",
       "min      0.000000e+00     2.600000e+01 -2.002376e+08          0.002600   \n",
       "25%      2.058697e+06     6.328516e+06 -2.168533e+06         59.223248   \n",
       "50%      2.122036e+07     3.826860e+07  1.424287e+07        180.567206   \n",
       "75%      5.517640e+07     1.104207e+08  7.107578e+07        388.014122   \n",
       "max      7.605076e+08     2.776345e+09  2.351345e+09      31235.431235   \n",
       "\n",
       "             month         year  \n",
       "count  2360.000000  2360.000000  \n",
       "mean      6.881780  2010.019068  \n",
       "std       3.475343     9.372607  \n",
       "min       1.000000  1915.000000  \n",
       "25%       4.000000  2010.000000  \n",
       "50%       7.000000  2013.000000  \n",
       "75%      10.000000  2015.000000  \n",
       "max      12.000000  2019.000000  "
      ]
     },
     "execution_count": 22,
     "metadata": {},
     "output_type": "execute_result"
    }
   ],
   "source": [
    "df.describe()"
   ]
  },
  {
   "cell_type": "markdown",
   "metadata": {},
   "source": [
    "### Analysis of release_date: day, month, year"
   ]
  },
  {
   "cell_type": "code",
   "execution_count": 32,
   "metadata": {},
   "outputs": [
    {
     "data": {
      "text/plain": [
       "Friday       85.042373\n",
       "Wednesday     8.898305\n",
       "Tuesday       2.966102\n",
       "Thursday      1.737288\n",
       "Sunday        0.635593\n",
       "Monday        0.423729\n",
       "Saturday      0.296610\n",
       "Name: day, dtype: float64"
      ]
     },
     "execution_count": 32,
     "metadata": {},
     "output_type": "execute_result"
    }
   ],
   "source": [
    "df['day'].value_counts(normalize=True)*100"
   ]
  },
  {
   "cell_type": "code",
   "execution_count": 39,
   "metadata": {},
   "outputs": [
    {
     "data": {
      "image/png": "[encoded data removed]",
      "text/plain": [
       "<Figure size 432x288 with 1 Axes>"
      ]
     },
     "metadata": {
      "needs_background": "light"
     },
     "output_type": "display_data"
    }
   ],
   "source": [
    "fig, ax = plt.subplots()\n",
    "\n",
    "day_values = df['day'].value_counts()\n",
    "\n",
    "ax.barh(\n",
    "    y=day_values.index,\n",
    "    width=day_values.values\n",
    ")\n",
    "ax.set_ylabel('day');"
   ]
  },
  {
   "cell_type": "code",
   "execution_count": 27,
   "metadata": {},
   "outputs": [
    {
     "data": {
      "image/png": "[encoded data removed]",
      "text/plain": [
       "<Figure size 432x288 with 1 Axes>"
      ]
     },
     "metadata": {
      "needs_background": "light"
     },
     "output_type": "display_data"
    }
   ],
   "source": [
    "df['day'].hist();"
   ]
  },
  {
   "cell_type": "code",
   "execution_count": 37,
   "metadata": {},
   "outputs": [
    {
     "data": {
      "text/plain": [
       "12    11.144068\n",
       "10     9.703390\n",
       "4      9.067797\n",
       "11     8.644068\n",
       "8      8.644068\n",
       "9      8.516949\n",
       "3      8.389831\n",
       "6      7.881356\n",
       "7      7.415254\n",
       "5      7.076271\n",
       "2      6.991525\n",
       "1      6.525424\n",
       "Name: month, dtype: float64"
      ]
     },
     "execution_count": 37,
     "metadata": {},
     "output_type": "execute_result"
    }
   ],
   "source": [
    "df['month'].value_counts(normalize=True)*100"
   ]
  },
  {
   "cell_type": "code",
   "execution_count": 40,
   "metadata": {},
   "outputs": [
    {
     "data": {
      "image/png": "[encoded data removed]",
      "text/plain": [
       "<Figure size 432x288 with 1 Axes>"
      ]
     },
     "metadata": {
      "needs_background": "light"
     },
     "output_type": "display_data"
    }
   ],
   "source": [
    "fig, ax = plt.subplots()\n",
    "\n",
    "month_values = df['month'].value_counts()\n",
    "\n",
    "ax.barh(\n",
    "    y=month_values.index,\n",
    "    width=month_values.values\n",
    ")\n",
    "ax.set_ylabel('month');"
   ]
  },
  {
   "cell_type": "code",
   "execution_count": 41,
   "metadata": {},
   "outputs": [
    {
     "data": {
      "image/png": "[encoded data removed]",
      "text/plain": [
       "<Figure size 432x288 with 1 Axes>"
      ]
     },
     "metadata": {
      "needs_background": "light"
     },
     "output_type": "display_data"
    }
   ],
   "source": [
    "df['month'].hist();"
   ]
  },
  {
   "cell_type": "code",
   "execution_count": 42,
   "metadata": {},
   "outputs": [
    {
     "data": {
      "text/plain": [
       "2015    10.932203\n",
       "2011     9.618644\n",
       "2013     8.771186\n",
       "2014     8.728814\n",
       "2016     7.923729\n",
       "2010     7.584746\n",
       "2012     7.245763\n",
       "2017     7.118644\n",
       "2018     5.932203\n",
       "2009     2.118644\n",
       "2000     2.033898\n",
       "2001     1.694915\n",
       "2002     1.652542\n",
       "2019     1.610169\n",
       "2008     1.525424\n",
       "1999     1.525424\n",
       "2003     1.440678\n",
       "2005     1.271186\n",
       "1996     1.144068\n",
       "2004     0.974576\n",
       "1998     0.847458\n",
       "2006     0.847458\n",
       "1997     0.847458\n",
       "2007     0.805085\n",
       "1995     0.593220\n",
       "1994     0.593220\n",
       "1992     0.508475\n",
       "1993     0.423729\n",
       "1986     0.296610\n",
       "1981     0.296610\n",
       "1990     0.254237\n",
       "1980     0.254237\n",
       "1983     0.211864\n",
       "1984     0.169492\n",
       "1982     0.169492\n",
       "1978     0.169492\n",
       "1991     0.169492\n",
       "1940     0.169492\n",
       "1976     0.127119\n",
       "1988     0.127119\n",
       "1985     0.127119\n",
       "1944     0.084746\n",
       "1960     0.084746\n",
       "1966     0.084746\n",
       "1968     0.084746\n",
       "1972     0.084746\n",
       "1989     0.084746\n",
       "1987     0.084746\n",
       "1979     0.084746\n",
       "1974     0.084746\n",
       "1915     0.042373\n",
       "1973     0.042373\n",
       "1965     0.042373\n",
       "1959     0.042373\n",
       "1956     0.042373\n",
       "1950     0.042373\n",
       "1948     0.042373\n",
       "1945     0.042373\n",
       "1942     0.042373\n",
       "Name: year, dtype: float64"
      ]
     },
     "execution_count": 42,
     "metadata": {},
     "output_type": "execute_result"
    }
   ],
   "source": [
    "df['year'].value_counts(normalize=True)*100"
   ]
  },
  {
   "cell_type": "code",
   "execution_count": 49,
   "metadata": {},
   "outputs": [
    {
     "data": {
      "image/png": "[encoded data removed]",
      "text/plain": [
       "<Figure size 432x288 with 1 Axes>"
      ]
     },
     "metadata": {
      "needs_background": "light"
     },
     "output_type": "display_data"
    }
   ],
   "source": [
    "fig, ax = plt.subplots()\n",
    "\n",
    "year_values = df['year'].value_counts()\n",
    "\n",
    "ax.bar(\n",
    "    x=year_values.index,\n",
    "    height=year_values.values\n",
    ")\n",
    "ax.set_xlabel('year');"
   ]
  },
  {
   "cell_type": "code",
   "execution_count": 45,
   "metadata": {},
   "outputs": [
    {
     "data": {
      "image/png": "[encoded data removed]",
      "text/plain": [
       "<Figure size 432x288 with 1 Axes>"
      ]
     },
     "metadata": {
      "needs_background": "light"
     },
     "output_type": "display_data"
    }
   ],
   "source": [
    "df['month'].hist();"
   ]
  },
  {
   "cell_type": "code",
   "execution_count": 100,
   "metadata": {},
   "outputs": [
    {
     "data": {
      "image/png": "[encoded data removed]",
      "text/plain": [
       "<Figure size 432x288 with 16 Axes>"
      ]
     },
     "metadata": {
      "needs_background": "light"
     },
     "output_type": "display_data"
    }
   ],
   "source": [
    "pd.plotting.scatter_matrix(df[['total_profit', 'profit_to_budget', 'month', 'year']]);"
   ]
  },
  {
   "cell_type": "markdown",
   "metadata": {},
   "source": [
    "### Relationship between release_date and total_profit"
   ]
  },
  {
   "cell_type": "code",
   "execution_count": 92,
   "metadata": {},
   "outputs": [
    {
     "data": {
      "image/png": "[encoded data removed]",
      "text/plain": [
       "<Figure size 432x288 with 1 Axes>"
      ]
     },
     "metadata": {
      "needs_background": "light"
     },
     "output_type": "display_data"
    }
   ],
   "source": [
    "df.plot('day', 'total_profit', kind='scatter');"
   ]
  },
  {
   "cell_type": "code",
   "execution_count": 93,
   "metadata": {},
   "outputs": [
    {
     "data": {
      "image/png": "[encoded data removed]",
      "text/plain": [
       "<Figure size 432x288 with 1 Axes>"
      ]
     },
     "metadata": {
      "needs_background": "light"
     },
     "output_type": "display_data"
    }
   ],
   "source": [
    "df.plot('month', 'total_profit', kind='scatter');"
   ]
  },
  {
   "cell_type": "code",
   "execution_count": 94,
   "metadata": {},
   "outputs": [
    {
     "data": {
      "image/png": "[encoded data removed]",
      "text/plain": [
       "<Figure size 432x288 with 1 Axes>"
      ]
     },
     "metadata": {
      "needs_background": "light"
     },
     "output_type": "display_data"
    }
   ],
   "source": [
    "df.plot('year', 'total_profit', kind='scatter');"
   ]
  },
  {
   "cell_type": "markdown",
   "metadata": {},
   "source": [
    "### Relationship between release_date and profit_to_budget"
   ]
  },
  {
   "cell_type": "code",
   "execution_count": 89,
   "metadata": {},
   "outputs": [
    {
     "data": {
      "image/png": "[encoded data removed]",
      "text/plain": [
       "<Figure size 432x288 with 1 Axes>"
      ]
     },
     "metadata": {
      "needs_background": "light"
     },
     "output_type": "display_data"
    }
   ],
   "source": [
    "df.plot('day', 'profit_to_budget', kind='scatter');"
   ]
  },
  {
   "cell_type": "code",
   "execution_count": 90,
   "metadata": {},
   "outputs": [
    {
     "data": {
      "image/png": "[encoded data removed]",
      "text/plain": [
       "<Figure size 432x288 with 1 Axes>"
      ]
     },
     "metadata": {
      "needs_background": "light"
     },
     "output_type": "display_data"
    }
   ],
   "source": [
    "df.plot('month', 'profit_to_budget', kind='scatter');"
   ]
  },
  {
   "cell_type": "code",
   "execution_count": 91,
   "metadata": {},
   "outputs": [
    {
     "data": {
      "image/png": "[encoded data removed]",
      "text/plain": [
       "<Figure size 432x288 with 1 Axes>"
      ]
     },
     "metadata": {
      "needs_background": "light"
     },
     "output_type": "display_data"
    }
   ],
   "source": [
    "df.plot('year', 'profit_to_budget', kind='scatter');"
   ]
  },
  {
   "cell_type": "markdown",
   "metadata": {},
   "source": [
    "#### Correlation between profit_to_budget and columns"
   ]
  },
  {
   "cell_type": "code",
   "execution_count": 69,
   "metadata": {},
   "outputs": [
    {
     "data": {
      "text/plain": [
       "tconst                       object\n",
       "movie                        object\n",
       "runtime_minutes             float64\n",
       "genres                       object\n",
       "averagerating               float64\n",
       "numvotes                      int64\n",
       "primary_name                 object\n",
       "release_date         datetime64[ns]\n",
       "production_budget             int64\n",
       "domestic_gross                int64\n",
       "worldwide_gross               int64\n",
       "total_profit                  int64\n",
       "profit_to_budget            float64\n",
       "day                          object\n",
       "month                         int64\n",
       "year                          int64\n",
       "dtype: object"
      ]
     },
     "execution_count": 69,
     "metadata": {},
     "output_type": "execute_result"
    }
   ],
   "source": [
    "df.dtypes"
   ]
  },
  {
   "cell_type": "code",
   "execution_count": 75,
   "metadata": {},
   "outputs": [],
   "source": [
    "corr_dict = {}\n",
    "for col in df.columns:\n",
    "    if col == 'profit_to_budget' or col == 'release_date':\n",
    "        continue\n",
    "    if df[col].dtype != 'object':\n",
    "        col_corr = df['profit_to_budget'].corr(df[col], method='pearson')\n",
    "        #np.corrcoef(df['profit_to_budget'], df[col])[0][1]\n",
    "        corr_dict[col] = col_corr\n",
    "        \n",
    "max_corr = max(corr_dict, key=corr_dict.get)"
   ]
  },
  {
   "cell_type": "code",
   "execution_count": 76,
   "metadata": {},
   "outputs": [
    {
     "data": {
      "text/plain": [
       "'total_profit'"
      ]
     },
     "execution_count": 76,
     "metadata": {},
     "output_type": "execute_result"
    }
   ],
   "source": [
    "max_corr "
   ]
  },
  {
   "cell_type": "code",
   "execution_count": 78,
   "metadata": {},
   "outputs": [
    {
     "data": {
      "text/plain": [
       "'year'"
      ]
     },
     "execution_count": 78,
     "metadata": {},
     "output_type": "execute_result"
    }
   ],
   "source": [
    "min_corr = min(corr_dict, key=corr_dict.get)\n",
    "min_corr"
   ]
  },
  {
   "cell_type": "code",
   "execution_count": 79,
   "metadata": {},
   "outputs": [
    {
     "data": {
      "text/plain": [
       "{'runtime_minutes': -0.03731881708112421,\n",
       " 'averagerating': 0.014394151204856202,\n",
       " 'numvotes': 0.03403386106693984,\n",
       " 'production_budget': -0.08141290607201596,\n",
       " 'domestic_gross': 0.11705979629244848,\n",
       " 'worldwide_gross': 0.09455529240085765,\n",
       " 'total_profit': 0.13890615167447598,\n",
       " 'month': -0.0172771930423375,\n",
       " 'year': -0.25524928807289443}"
      ]
     },
     "execution_count": 79,
     "metadata": {},
     "output_type": "execute_result"
    }
   ],
   "source": [
    "corr_dict"
   ]
  }
 ],
 "metadata": {
  "kernelspec": {
   "display_name": "Python (learn-env)",
   "language": "python",
   "name": "learn-env"
  },
  "language_info": {
   "codemirror_mode": {
    "name": "ipython",
    "version": 3
   },
   "file_extension": ".py",
   "mimetype": "text/x-python",
   "name": "python",
   "nbconvert_exporter": "python",
   "pygments_lexer": "ipython3",
   "version": "3.8.5"
  }
 },
 "nbformat": 4,
 "nbformat_minor": 4
}
