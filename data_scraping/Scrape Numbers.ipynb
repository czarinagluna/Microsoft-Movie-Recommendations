{
 "cells": [
  {
   "cell_type": "code",
   "execution_count": 3,
   "id": "a582411e",
   "metadata": {},
   "outputs": [],
   "source": [
    "# release_date = []\n",
    "# movie = []\n",
    "# production_budget = []\n",
    "# domestic_gross = []\n",
    "# worldwide_gross = []\n",
    "\n",
    "# for i in range(1, 6002, 100):\n",
    "#     url = f\"https://www.the-numbers.com/movie/budgets/all/{i}\"\n",
    "#     html_page = requests.get(url)\n",
    "#     soup = BeautifulSoup(html_page.content, 'html.parser')\n",
    "#     titles.extend(retrieve_titles(soup))\n",
    "#     star_ratings.extend(retrieve_ratings(soup))\n",
    "#     prices.extend(retrieve_prices(soup))\n",
    "#     avails.extend(retrieve_availabilities(soup))\n",
    "\n",
    "# df = pd.DataFrame([release_date, movie, production_budget, domestic_gross, worldwide_gross]).transpose()\n",
    "# df.columns = ['release_date', 'movie', 'production_budget', 'domestic_gross', 'worldwide_gross']\n",
    "\n",
    "# df.head()"
   ]
  },
  {
   "cell_type": "code",
   "execution_count": 101,
   "id": "46a2ba0b",
   "metadata": {},
   "outputs": [],
   "source": [
    "from bs4 import BeautifulSoup\n",
    "import requests\n",
    "import pandas as pd"
   ]
  },
  {
   "cell_type": "code",
   "execution_count": 102,
   "id": "55b8d443",
   "metadata": {},
   "outputs": [],
   "source": [
    "html_page = requests.get('https://www.the-numbers.com/movie/budgets/all/1') # Make a get request to retrieve the page\n",
    "soup = BeautifulSoup(html_page.content, 'html.parser') # Pass the page contents to beautiful soup for parsing"
   ]
  },
  {
   "cell_type": "code",
   "execution_count": 103,
   "id": "f9cf1962",
   "metadata": {},
   "outputs": [],
   "source": [
    "# soup.prettify"
   ]
  },
  {
   "cell_type": "code",
   "execution_count": 104,
   "id": "d72a09ba",
   "metadata": {
    "scrolled": true
   },
   "outputs": [],
   "source": [
    "# table = soup.find('table')"
   ]
  },
  {
   "cell_type": "code",
   "execution_count": 105,
   "id": "46f4be8f",
   "metadata": {},
   "outputs": [],
   "source": [
    "# table = soup.findAll('td')\n",
    "# release_date = []\n",
    "# for i in range(1, 600, 6):\n",
    "#     release_date.append(table[i].find('a').text)\n",
    "    \n",
    "def retrieve_date(soup):\n",
    "    table = soup.findAll('td')\n",
    "    return [table[i].find('a').text for i in range(1, 600, 6)]"
   ]
  },
  {
   "cell_type": "code",
   "execution_count": 106,
   "id": "5e69b070",
   "metadata": {},
   "outputs": [],
   "source": [
    "# movie = []\n",
    "# for i in range(2, 600, 6):\n",
    "#     movie.append(table[i].find('a').text)\n",
    "    \n",
    "def retrieve_movie(soup):\n",
    "    table = soup.findAll('td')\n",
    "    return [table[i].find('a').text for i in range(2, 600, 6)]"
   ]
  },
  {
   "cell_type": "code",
   "execution_count": 107,
   "id": "ebb90625",
   "metadata": {},
   "outputs": [],
   "source": [
    "# production_budget = []\n",
    "# for i in range(3, 600, 6):\n",
    "#     production_budget.append(table[i].text[1:])\n",
    "    \n",
    "def retrieve_budget(soup):\n",
    "    table = soup.findAll('td')\n",
    "    return [table[i].text[1:] for i in range(3, 600, 6)]"
   ]
  },
  {
   "cell_type": "code",
   "execution_count": 108,
   "id": "c2e5d067",
   "metadata": {},
   "outputs": [],
   "source": [
    "# domestic_gross = []\n",
    "# for i in range(4, 600, 6):\n",
    "#     domestic_gross.append(table[i].text[1:])\n",
    "    \n",
    "def retrieve_dgross(soup):\n",
    "    table = soup.findAll('td')\n",
    "    return [table[i].text[1:] for i in range(4, 600, 6)]"
   ]
  },
  {
   "cell_type": "code",
   "execution_count": 109,
   "id": "d1bdbc98",
   "metadata": {},
   "outputs": [],
   "source": [
    "# worldwide_gross = []\n",
    "# for i in range(5, 600, 6):\n",
    "#     worldwide_gross .append(table[i].text[1:])\n",
    "    \n",
    "def retrieve_wgross(soup):\n",
    "    table = soup.findAll('td')\n",
    "    return [table[i].text[1:] for i in range(5, 600, 6)]"
   ]
  },
  {
   "cell_type": "code",
   "execution_count": 110,
   "id": "f923aaf2",
   "metadata": {},
   "outputs": [
    {
     "data": {
      "text/html": [
       "<div>\n",
       "<style scoped>\n",
       "    .dataframe tbody tr th:only-of-type {\n",
       "        vertical-align: middle;\n",
       "    }\n",
       "\n",
       "    .dataframe tbody tr th {\n",
       "        vertical-align: top;\n",
       "    }\n",
       "\n",
       "    .dataframe thead th {\n",
       "        text-align: right;\n",
       "    }\n",
       "</style>\n",
       "<table border=\"1\" class=\"dataframe\">\n",
       "  <thead>\n",
       "    <tr style=\"text-align: right;\">\n",
       "      <th></th>\n",
       "      <th>release_date</th>\n",
       "      <th>movie</th>\n",
       "      <th>production_budget</th>\n",
       "      <th>domestic_gross</th>\n",
       "      <th>worldwide_gross</th>\n",
       "    </tr>\n",
       "  </thead>\n",
       "  <tbody>\n",
       "    <tr>\n",
       "      <th>0</th>\n",
       "      <td>Apr 23, 2019</td>\n",
       "      <td>Avengers: Endgame</td>\n",
       "      <td>$400,000,000</td>\n",
       "      <td>$858,373,000</td>\n",
       "      <td>$2,797,800,564</td>\n",
       "    </tr>\n",
       "    <tr>\n",
       "      <th>1</th>\n",
       "      <td>May 20, 2011</td>\n",
       "      <td>Pirates of the Caribbean: On Stranger Tides</td>\n",
       "      <td>$379,000,000</td>\n",
       "      <td>$241,071,802</td>\n",
       "      <td>$1,045,713,802</td>\n",
       "    </tr>\n",
       "    <tr>\n",
       "      <th>2</th>\n",
       "      <td>Apr 22, 2015</td>\n",
       "      <td>Avengers: Age of Ultron</td>\n",
       "      <td>$365,000,000</td>\n",
       "      <td>$459,005,868</td>\n",
       "      <td>$1,395,316,979</td>\n",
       "    </tr>\n",
       "    <tr>\n",
       "      <th>3</th>\n",
       "      <td>Dec 16, 2015</td>\n",
       "      <td>Star Wars Ep. VII: The Force Awakens</td>\n",
       "      <td>$306,000,000</td>\n",
       "      <td>$936,662,225</td>\n",
       "      <td>$2,064,615,817</td>\n",
       "    </tr>\n",
       "    <tr>\n",
       "      <th>4</th>\n",
       "      <td>Apr 25, 2018</td>\n",
       "      <td>Avengers: Infinity War</td>\n",
       "      <td>$300,000,000</td>\n",
       "      <td>$678,815,482</td>\n",
       "      <td>$2,044,540,523</td>\n",
       "    </tr>\n",
       "  </tbody>\n",
       "</table>\n",
       "</div>"
      ],
      "text/plain": [
       "   release_date                                        movie  \\\n",
       "0  Apr 23, 2019                            Avengers: Endgame   \n",
       "1  May 20, 2011  Pirates of the Caribbean: On Stranger Tides   \n",
       "2  Apr 22, 2015                      Avengers: Age of Ultron   \n",
       "3  Dec 16, 2015         Star Wars Ep. VII: The Force Awakens   \n",
       "4  Apr 25, 2018                       Avengers: Infinity War   \n",
       "\n",
       "  production_budget domestic_gross worldwide_gross  \n",
       "0      $400,000,000   $858,373,000  $2,797,800,564  \n",
       "1      $379,000,000   $241,071,802  $1,045,713,802  \n",
       "2      $365,000,000   $459,005,868  $1,395,316,979  \n",
       "3      $306,000,000   $936,662,225  $2,064,615,817  \n",
       "4      $300,000,000   $678,815,482  $2,044,540,523  "
      ]
     },
     "execution_count": 110,
     "metadata": {},
     "output_type": "execute_result"
    }
   ],
   "source": [
    "release_date = []\n",
    "movie = []\n",
    "production_budget = []\n",
    "domestic_gross = []\n",
    "worldwide_gross = []\n",
    "\n",
    "for i in range(1, 6002, 100):\n",
    "    url = f\"https://www.the-numbers.com/movie/budgets/all/{i}\"\n",
    "    html_page = requests.get(url)\n",
    "    soup = BeautifulSoup(html_page.content, 'html.parser')\n",
    "    release_date.extend(retrieve_date(soup))\n",
    "    movie.extend(retrieve_movie(soup))\n",
    "    production_budget.extend(retrieve_budget(soup))\n",
    "    domestic_gross.extend(retrieve_dgross(soup))\n",
    "    worldwide_gross.extend(retrieve_wgross(soup))\n",
    "\n",
    "df = pd.DataFrame([release_date, movie, production_budget, domestic_gross, worldwide_gross]).transpose()\n",
    "df.columns = ['release_date', 'movie', 'production_budget', 'domestic_gross', 'worldwide_gross']\n",
    "\n",
    "df.head()"
   ]
  },
  {
   "cell_type": "code",
   "execution_count": 111,
   "id": "22445a16",
   "metadata": {},
   "outputs": [
    {
     "data": {
      "text/plain": [
       "6100"
      ]
     },
     "execution_count": 111,
     "metadata": {},
     "output_type": "execute_result"
    }
   ],
   "source": [
    "len(df)"
   ]
  },
  {
   "cell_type": "code",
   "execution_count": null,
   "id": "382c1981",
   "metadata": {},
   "outputs": [],
   "source": []
  }
 ],
 "metadata": {
  "kernelspec": {
   "display_name": "Python 3",
   "language": "python",
   "name": "python3"
  },
  "language_info": {
   "codemirror_mode": {
    "name": "ipython",
    "version": 3
   },
   "file_extension": ".py",
   "mimetype": "text/x-python",
   "name": "python",
   "nbconvert_exporter": "python",
   "pygments_lexer": "ipython3",
   "version": "3.9.5"
  }
 },
 "nbformat": 4,
 "nbformat_minor": 5
}
