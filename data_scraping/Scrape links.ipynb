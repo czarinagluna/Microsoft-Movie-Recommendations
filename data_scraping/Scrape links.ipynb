{
 "cells": [
  {
   "cell_type": "code",
   "execution_count": 1,
   "id": "6e36926e",
   "metadata": {},
   "outputs": [],
   "source": [
    "from bs4 import BeautifulSoup\n",
    "import requests\n",
    "import pandas as pd"
   ]
  },
  {
   "cell_type": "code",
   "execution_count": 2,
   "id": "a1defc36",
   "metadata": {},
   "outputs": [],
   "source": [
    "def retrieve_link(soup):\n",
    "    table = soup.findAll('td')\n",
    "    return [table[i].find('a').attrs['href'] for i in range(2, 600, 6)]"
   ]
  },
  {
   "cell_type": "code",
   "execution_count": 3,
   "id": "2337f96b",
   "metadata": {},
   "outputs": [],
   "source": [
    "links = []\n",
    "\n",
    "for i in range(1, 6002, 100):\n",
    "    url = f\"https://www.the-numbers.com/movie/budgets/all/{i}\"\n",
    "    html_page = requests.get(url)\n",
    "    soup = BeautifulSoup(html_page.content, 'html.parser')\n",
    "    links.extend(retrieve_link(soup))"
   ]
  },
  {
   "cell_type": "code",
   "execution_count": 4,
   "id": "dd9be89e",
   "metadata": {},
   "outputs": [],
   "source": [
    "# def retrieve_time(soup):\n",
    "#     time = soup.find('td', text=\"Running Time:\")\n",
    "#     value = time.next_sibling.next_sibling.text\n",
    "#     if value:\n",
    "#         return value\n",
    "#     elif value == None:\n",
    "#         return 'None'"
   ]
  },
  {
   "cell_type": "code",
   "execution_count": 5,
   "id": "a436538c",
   "metadata": {},
   "outputs": [],
   "source": [
    "def retrieve_time(soup):\n",
    "    time = soup.find('td', text=\"Running Time:\")\n",
    "    if time:\n",
    "        sibling = time.next_sibling\n",
    "        if sibling:\n",
    "            value = sibling.next_sibling.text\n",
    "            if value:\n",
    "                return value\n",
    "            elif value == None:\n",
    "                return 'None'\n",
    "        elif sibling == None:\n",
    "            return 'None'\n",
    "    elif time == None:\n",
    "        return 'None'"
   ]
  },
  {
   "cell_type": "code",
   "execution_count": 6,
   "id": "2e91a444",
   "metadata": {},
   "outputs": [],
   "source": [
    "# def retrieve_genre(soup):\n",
    "#     genre = soup.find('td', text=\"Genre:\")\n",
    "#     value = genre.next_sibling.text\n",
    "#     if value:\n",
    "#         return value\n",
    "#     elif value == None:\n",
    "#         return 'None'"
   ]
  },
  {
   "cell_type": "code",
   "execution_count": 7,
   "id": "1e628030",
   "metadata": {},
   "outputs": [],
   "source": [
    "def retrieve_genre(soup):\n",
    "    genre = soup.find('td', text=\"Genre:\")\n",
    "    if genre:\n",
    "        value = genre.next_sibling.text\n",
    "        if value:\n",
    "            return value\n",
    "        elif value == None:\n",
    "            return 'None'\n",
    "    elif genre == None:\n",
    "        return 'None'"
   ]
  },
  {
   "cell_type": "markdown",
   "id": "a9f7eadd",
   "metadata": {},
   "source": [
    "## Cannot scrape Creative Type"
   ]
  },
  {
   "cell_type": "code",
   "execution_count": 9,
   "id": "009fc1c3",
   "metadata": {},
   "outputs": [],
   "source": [
    "# company = soup.find('td', text=\"Production Companies:\")\n",
    "# company.next_sibling.next_sibling.text"
   ]
  },
  {
   "cell_type": "code",
   "execution_count": 10,
   "id": "2cd6c1a0",
   "metadata": {},
   "outputs": [],
   "source": [
    "def retrieve_company(soup):\n",
    "    company = soup.find('td', text=\"Production Companies:\")\n",
    "    if company:\n",
    "        sibling = company.next_sibling\n",
    "        if sibling:\n",
    "            value = sibling.next_sibling.text\n",
    "            if value:\n",
    "                return value\n",
    "            elif value == None:\n",
    "                return 'None'\n",
    "        elif sibling == None:\n",
    "                    return 'None'\n",
    "    elif company == None:\n",
    "                    return 'None'"
   ]
  },
  {
   "cell_type": "code",
   "execution_count": 11,
   "id": "8e6d083c",
   "metadata": {},
   "outputs": [],
   "source": [
    "# country = soup.find('td', text=\"Production Countries:\")\n",
    "# country.next_sibling.next_sibling.text"
   ]
  },
  {
   "cell_type": "code",
   "execution_count": 12,
   "id": "4c04a694",
   "metadata": {},
   "outputs": [],
   "source": [
    "# def retrieve_country(soup):\n",
    "#     country = soup.find('td', text=\"Production Countries:\")\n",
    "#     value = country.next_sibling.next_sibling.text\n",
    "#     if value:\n",
    "#         return value\n",
    "#     elif value == None:\n",
    "#         return 'None'"
   ]
  },
  {
   "cell_type": "code",
   "execution_count": 13,
   "id": "15b3f56e",
   "metadata": {},
   "outputs": [],
   "source": [
    "def retrieve_country(soup):\n",
    "    country = soup.find('td', text=\"Production Countries:\")\n",
    "    if country:\n",
    "        sibling = country.next_sibling\n",
    "        if sibling:\n",
    "            value = sibling.next_sibling.text\n",
    "            if value:\n",
    "                return value\n",
    "            elif value == None:\n",
    "                return 'None'\n",
    "        elif sibling == None:\n",
    "                    return 'None'\n",
    "    elif country == None:\n",
    "                    return 'None'"
   ]
  },
  {
   "cell_type": "code",
   "execution_count": 14,
   "id": "a8920704",
   "metadata": {},
   "outputs": [
    {
     "data": {
      "text/html": [
       "<div>\n",
       "<style scoped>\n",
       "    .dataframe tbody tr th:only-of-type {\n",
       "        vertical-align: middle;\n",
       "    }\n",
       "\n",
       "    .dataframe tbody tr th {\n",
       "        vertical-align: top;\n",
       "    }\n",
       "\n",
       "    .dataframe thead th {\n",
       "        text-align: right;\n",
       "    }\n",
       "</style>\n",
       "<table border=\"1\" class=\"dataframe\">\n",
       "  <thead>\n",
       "    <tr style=\"text-align: right;\">\n",
       "      <th></th>\n",
       "      <th>runtime_minutes</th>\n",
       "      <th>genres</th>\n",
       "      <th>production_company</th>\n",
       "      <th>production_country</th>\n",
       "    </tr>\n",
       "  </thead>\n",
       "  <tbody>\n",
       "    <tr>\n",
       "      <th>0</th>\n",
       "      <td>181 minutes</td>\n",
       "      <td>Action</td>\n",
       "      <td>Marvel Studios</td>\n",
       "      <td>United States</td>\n",
       "    </tr>\n",
       "    <tr>\n",
       "      <th>1</th>\n",
       "      <td>136 minutes</td>\n",
       "      <td>Adventure</td>\n",
       "      <td>Walt Disney Pictures</td>\n",
       "      <td>United States</td>\n",
       "    </tr>\n",
       "    <tr>\n",
       "      <th>2</th>\n",
       "      <td>141 minutes</td>\n",
       "      <td>Action</td>\n",
       "      <td>Marvel Studios</td>\n",
       "      <td>United States</td>\n",
       "    </tr>\n",
       "    <tr>\n",
       "      <th>3</th>\n",
       "      <td>136 minutes</td>\n",
       "      <td>Adventure</td>\n",
       "      <td>Lucasfilm, Bad Robot</td>\n",
       "      <td>United States</td>\n",
       "    </tr>\n",
       "    <tr>\n",
       "      <th>4</th>\n",
       "      <td>156 minutes</td>\n",
       "      <td>Action</td>\n",
       "      <td>Marvel Studios</td>\n",
       "      <td>United States</td>\n",
       "    </tr>\n",
       "  </tbody>\n",
       "</table>\n",
       "</div>"
      ],
      "text/plain": [
       "  runtime_minutes     genres    production_company production_country\n",
       "0     181 minutes     Action        Marvel Studios      United States\n",
       "1     136 minutes  Adventure  Walt Disney Pictures      United States\n",
       "2     141 minutes     Action        Marvel Studios      United States\n",
       "3     136 minutes  Adventure  Lucasfilm, Bad Robot      United States\n",
       "4     156 minutes     Action        Marvel Studios      United States"
      ]
     },
     "execution_count": 14,
     "metadata": {},
     "output_type": "execute_result"
    }
   ],
   "source": [
    "runtime_minutes = []\n",
    "genres = []\n",
    "production_company = []\n",
    "production_country = []\n",
    "\n",
    "for link in links:\n",
    "    url = f\"https://www.the-numbers.com{link}\"\n",
    "    html_page = requests.get(url)\n",
    "    soup = BeautifulSoup(html_page.content, 'html.parser')\n",
    "    \n",
    "    runtime_minutes.extend([retrieve_time(soup)])\n",
    "    genres.extend([retrieve_genre(soup)])\n",
    "    production_company.extend([retrieve_company(soup)])\n",
    "    production_country.extend([retrieve_country(soup)])\n",
    "\n",
    "df = pd.DataFrame([runtime_minutes, genres, production_company, production_country]).transpose()\n",
    "df.columns = ['runtime_minutes', 'genres', 'production_company', 'production_country']\n",
    "\n",
    "df.head()"
   ]
  },
  {
   "cell_type": "code",
   "execution_count": 15,
   "id": "6ac7cd51",
   "metadata": {},
   "outputs": [
    {
     "data": {
      "text/plain": [
       "6100"
      ]
     },
     "execution_count": 15,
     "metadata": {},
     "output_type": "execute_result"
    }
   ],
   "source": [
    "len(df)"
   ]
  },
  {
   "cell_type": "code",
   "execution_count": 16,
   "id": "f434179c",
   "metadata": {},
   "outputs": [],
   "source": [
    "df.to_csv(\"tnproduction.csv\")"
   ]
  },
  {
   "cell_type": "code",
   "execution_count": null,
   "id": "528c3405",
   "metadata": {},
   "outputs": [],
   "source": []
  }
 ],
 "metadata": {
  "kernelspec": {
   "display_name": "Python 3",
   "language": "python",
   "name": "python3"
  },
  "language_info": {
   "codemirror_mode": {
    "name": "ipython",
    "version": 3
   },
   "file_extension": ".py",
   "mimetype": "text/x-python",
   "name": "python",
   "nbconvert_exporter": "python",
   "pygments_lexer": "ipython3",
   "version": "3.9.5"
  }
 },
 "nbformat": 4,
 "nbformat_minor": 5
}
